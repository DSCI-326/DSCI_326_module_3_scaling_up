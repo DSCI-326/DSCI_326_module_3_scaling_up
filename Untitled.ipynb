{
 "cells": [
  {
   "cell_type": "code",
   "execution_count": 1,
   "id": "48ae9b31-7c6e-4f07-9521-2c4a62bb02f4",
   "metadata": {},
   "outputs": [],
   "source": []
  },
  {
   "cell_type": "code",
   "execution_count": 2,
   "id": "e0e73cc5-e464-492e-a4c7-91acba4009f2",
   "metadata": {},
   "outputs": [
    {
     "data": {
      "text/html": [
       "<div><style>\n",
       ".dataframe > thead > tr,\n",
       ".dataframe > tbody > tr {\n",
       "  text-align: right;\n",
       "  white-space: pre-wrap;\n",
       "}\n",
       "</style>\n",
       "<small>shape: (8, 2)</small><table border=\"1\" class=\"dataframe\"><thead><tr><th>Group</th><th>Data</th></tr><tr><td>str</td><td>i64</td></tr></thead><tbody><tr><td>&quot;a&quot;</td><td>5</td></tr><tr><td>&quot;a&quot;</td><td>3</td></tr><tr><td>&quot;b&quot;</td><td>4</td></tr><tr><td>&quot;b&quot;</td><td>1</td></tr><tr><td>&quot;b&quot;</td><td>2</td></tr><tr><td>&quot;c&quot;</td><td>3</td></tr><tr><td>&quot;c&quot;</td><td>5</td></tr><tr><td>&quot;c&quot;</td><td>3</td></tr></tbody></table></div>"
      ],
      "text/plain": [
       "shape: (8, 2)\n",
       "┌───────┬──────┐\n",
       "│ Group ┆ Data │\n",
       "│ ---   ┆ ---  │\n",
       "│ str   ┆ i64  │\n",
       "╞═══════╪══════╡\n",
       "│ a     ┆ 5    │\n",
       "│ a     ┆ 3    │\n",
       "│ b     ┆ 4    │\n",
       "│ b     ┆ 1    │\n",
       "│ b     ┆ 2    │\n",
       "│ c     ┆ 3    │\n",
       "│ c     ┆ 5    │\n",
       "│ c     ┆ 3    │\n",
       "└───────┴──────┘"
      ]
     },
     "execution_count": 2,
     "metadata": {},
     "output_type": "execute_result"
    }
   ],
   "source": [
    "import polars as pl\n",
    "\n",
    "data = pl.DataFrame({'Group':['a', 'a', 'b', 'b', 'b', 'c', 'c', 'c',],\n",
    "                     'Data' :[5, 3, 4, 1, 2, 3, 5, 3]})\n",
    "data"
   ]
  },
  {
   "cell_type": "code",
   "execution_count": 12,
   "id": "2ba110e4-4084-4ef5-b149-ac38f9dc4299",
   "metadata": {},
   "outputs": [
    {
     "data": {
      "text/html": [
       "<div><style>\n",
       ".dataframe > thead > tr,\n",
       ".dataframe > tbody > tr {\n",
       "  text-align: right;\n",
       "  white-space: pre-wrap;\n",
       "}\n",
       "</style>\n",
       "<small>shape: (8, 3)</small><table border=\"1\" class=\"dataframe\"><thead><tr><th>Group</th><th>Data</th><th>new</th></tr><tr><td>str</td><td>i64</td><td>f64</td></tr></thead><tbody><tr><td>&quot;a&quot;</td><td>5</td><td>4.0</td></tr><tr><td>&quot;a&quot;</td><td>3</td><td>4.0</td></tr><tr><td>&quot;b&quot;</td><td>4</td><td>2.333333</td></tr><tr><td>&quot;b&quot;</td><td>1</td><td>2.333333</td></tr><tr><td>&quot;b&quot;</td><td>2</td><td>2.333333</td></tr><tr><td>&quot;c&quot;</td><td>3</td><td>3.666667</td></tr><tr><td>&quot;c&quot;</td><td>5</td><td>3.666667</td></tr><tr><td>&quot;c&quot;</td><td>3</td><td>3.666667</td></tr></tbody></table></div>"
      ],
      "text/plain": [
       "shape: (8, 3)\n",
       "┌───────┬──────┬──────────┐\n",
       "│ Group ┆ Data ┆ new      │\n",
       "│ ---   ┆ ---  ┆ ---      │\n",
       "│ str   ┆ i64  ┆ f64      │\n",
       "╞═══════╪══════╪══════════╡\n",
       "│ a     ┆ 5    ┆ 4.0      │\n",
       "│ a     ┆ 3    ┆ 4.0      │\n",
       "│ b     ┆ 4    ┆ 2.333333 │\n",
       "│ b     ┆ 1    ┆ 2.333333 │\n",
       "│ b     ┆ 2    ┆ 2.333333 │\n",
       "│ c     ┆ 3    ┆ 3.666667 │\n",
       "│ c     ┆ 5    ┆ 3.666667 │\n",
       "│ c     ┆ 3    ┆ 3.666667 │\n",
       "└───────┴──────┴──────────┘"
      ]
     },
     "execution_count": 12,
     "metadata": {},
     "output_type": "execute_result"
    }
   ],
   "source": [
    "data.with_columns(new = pl.col('Data').mean().over('Group'))"
   ]
  },
  {
   "cell_type": "code",
   "execution_count": 28,
   "id": "c9dd1ec2-7cc9-4091-b826-c9bb30d0555b",
   "metadata": {},
   "outputs": [
    {
     "data": {
      "text/html": [
       "<div><style>\n",
       ".dataframe > thead > tr,\n",
       ".dataframe > tbody > tr {\n",
       "  text-align: right;\n",
       "  white-space: pre-wrap;\n",
       "}\n",
       "</style>\n",
       "<small>shape: (8, 3)</small><table border=\"1\" class=\"dataframe\"><thead><tr><th>Group</th><th>Data</th><th>new</th></tr><tr><td>str</td><td>i64</td><td>f64</td></tr></thead><tbody><tr><td>&quot;a&quot;</td><td>5</td><td>4.0</td></tr><tr><td>&quot;a&quot;</td><td>3</td><td>4.0</td></tr><tr><td>&quot;b&quot;</td><td>4</td><td>2.333333</td></tr><tr><td>&quot;b&quot;</td><td>1</td><td>2.333333</td></tr><tr><td>&quot;b&quot;</td><td>2</td><td>2.333333</td></tr><tr><td>&quot;c&quot;</td><td>3</td><td>3.666667</td></tr><tr><td>&quot;c&quot;</td><td>5</td><td>3.666667</td></tr><tr><td>&quot;c&quot;</td><td>3</td><td>3.666667</td></tr></tbody></table></div>"
      ],
      "text/plain": [
       "shape: (8, 3)\n",
       "┌───────┬──────┬──────────┐\n",
       "│ Group ┆ Data ┆ new      │\n",
       "│ ---   ┆ ---  ┆ ---      │\n",
       "│ str   ┆ i64  ┆ f64      │\n",
       "╞═══════╪══════╪══════════╡\n",
       "│ a     ┆ 5    ┆ 4.0      │\n",
       "│ a     ┆ 3    ┆ 4.0      │\n",
       "│ b     ┆ 4    ┆ 2.333333 │\n",
       "│ b     ┆ 1    ┆ 2.333333 │\n",
       "│ b     ┆ 2    ┆ 2.333333 │\n",
       "│ c     ┆ 3    ┆ 3.666667 │\n",
       "│ c     ┆ 5    ┆ 3.666667 │\n",
       "│ c     ┆ 3    ┆ 3.666667 │\n",
       "└───────┴──────┴──────────┘"
      ]
     },
     "execution_count": 28,
     "metadata": {},
     "output_type": "execute_result"
    }
   ],
   "source": [
    "data.with_columns(new = pl.mean('Data').over('Group'))"
   ]
  },
  {
   "cell_type": "code",
   "execution_count": 29,
   "id": "90245917-edfa-4104-b8a4-48cd8b7bd688",
   "metadata": {},
   "outputs": [
    {
     "data": {
      "text/html": [
       "<div><style>\n",
       ".dataframe > thead > tr,\n",
       ".dataframe > tbody > tr {\n",
       "  text-align: right;\n",
       "  white-space: pre-wrap;\n",
       "}\n",
       "</style>\n",
       "<small>shape: (8, 3)</small><table border=\"1\" class=\"dataframe\"><thead><tr><th>Group</th><th>Data</th><th>new</th></tr><tr><td>str</td><td>i64</td><td>f64</td></tr></thead><tbody><tr><td>&quot;a&quot;</td><td>5</td><td>3.25</td></tr><tr><td>&quot;a&quot;</td><td>3</td><td>3.25</td></tr><tr><td>&quot;b&quot;</td><td>4</td><td>3.25</td></tr><tr><td>&quot;b&quot;</td><td>1</td><td>3.25</td></tr><tr><td>&quot;b&quot;</td><td>2</td><td>3.25</td></tr><tr><td>&quot;c&quot;</td><td>3</td><td>3.25</td></tr><tr><td>&quot;c&quot;</td><td>5</td><td>3.25</td></tr><tr><td>&quot;c&quot;</td><td>3</td><td>3.25</td></tr></tbody></table></div>"
      ],
      "text/plain": [
       "shape: (8, 3)\n",
       "┌───────┬──────┬──────┐\n",
       "│ Group ┆ Data ┆ new  │\n",
       "│ ---   ┆ ---  ┆ ---  │\n",
       "│ str   ┆ i64  ┆ f64  │\n",
       "╞═══════╪══════╪══════╡\n",
       "│ a     ┆ 5    ┆ 3.25 │\n",
       "│ a     ┆ 3    ┆ 3.25 │\n",
       "│ b     ┆ 4    ┆ 3.25 │\n",
       "│ b     ┆ 1    ┆ 3.25 │\n",
       "│ b     ┆ 2    ┆ 3.25 │\n",
       "│ c     ┆ 3    ┆ 3.25 │\n",
       "│ c     ┆ 5    ┆ 3.25 │\n",
       "│ c     ┆ 3    ┆ 3.25 │\n",
       "└───────┴──────┴──────┘"
      ]
     },
     "execution_count": 29,
     "metadata": {},
     "output_type": "execute_result"
    }
   ],
   "source": [
    "data.with_columns(new = pl.col('Data').over('Group').mean())"
   ]
  },
  {
   "cell_type": "code",
   "execution_count": 30,
   "id": "3b26b570-394b-43a5-9c51-9e01d06361f9",
   "metadata": {},
   "outputs": [
    {
     "data": {
      "text/html": [
       "<div><style>\n",
       ".dataframe > thead > tr,\n",
       ".dataframe > tbody > tr {\n",
       "  text-align: right;\n",
       "  white-space: pre-wrap;\n",
       "}\n",
       "</style>\n",
       "<small>shape: (8, 3)</small><table border=\"1\" class=\"dataframe\"><thead><tr><th>Group</th><th>Data</th><th>new</th></tr><tr><td>str</td><td>i64</td><td>f64</td></tr></thead><tbody><tr><td>&quot;a&quot;</td><td>5</td><td>3.25</td></tr><tr><td>&quot;a&quot;</td><td>3</td><td>3.25</td></tr><tr><td>&quot;b&quot;</td><td>4</td><td>3.25</td></tr><tr><td>&quot;b&quot;</td><td>1</td><td>3.25</td></tr><tr><td>&quot;b&quot;</td><td>2</td><td>3.25</td></tr><tr><td>&quot;c&quot;</td><td>3</td><td>3.25</td></tr><tr><td>&quot;c&quot;</td><td>5</td><td>3.25</td></tr><tr><td>&quot;c&quot;</td><td>3</td><td>3.25</td></tr></tbody></table></div>"
      ],
      "text/plain": [
       "shape: (8, 3)\n",
       "┌───────┬──────┬──────┐\n",
       "│ Group ┆ Data ┆ new  │\n",
       "│ ---   ┆ ---  ┆ ---  │\n",
       "│ str   ┆ i64  ┆ f64  │\n",
       "╞═══════╪══════╪══════╡\n",
       "│ a     ┆ 5    ┆ 3.25 │\n",
       "│ a     ┆ 3    ┆ 3.25 │\n",
       "│ b     ┆ 4    ┆ 3.25 │\n",
       "│ b     ┆ 1    ┆ 3.25 │\n",
       "│ b     ┆ 2    ┆ 3.25 │\n",
       "│ c     ┆ 3    ┆ 3.25 │\n",
       "│ c     ┆ 5    ┆ 3.25 │\n",
       "│ c     ┆ 3    ┆ 3.25 │\n",
       "└───────┴──────┴──────┘"
      ]
     },
     "execution_count": 30,
     "metadata": {},
     "output_type": "execute_result"
    }
   ],
   "source": [
    "data.with_columns(new = pl.col('Data').mean())"
   ]
  },
  {
   "cell_type": "code",
   "execution_count": 32,
   "id": "188ea47d-3c68-46a8-bd3c-1cf175e94222",
   "metadata": {},
   "outputs": [
    {
     "data": {
      "text/html": [
       "<div><style>\n",
       ".dataframe > thead > tr,\n",
       ".dataframe > tbody > tr {\n",
       "  text-align: right;\n",
       "  white-space: pre-wrap;\n",
       "}\n",
       "</style>\n",
       "<small>shape: (8, 3)</small><table border=\"1\" class=\"dataframe\"><thead><tr><th>Group</th><th>Data</th><th>new</th></tr><tr><td>str</td><td>i64</td><td>f64</td></tr></thead><tbody><tr><td>&quot;a&quot;</td><td>5</td><td>3.25</td></tr><tr><td>&quot;a&quot;</td><td>3</td><td>3.25</td></tr><tr><td>&quot;b&quot;</td><td>4</td><td>3.25</td></tr><tr><td>&quot;b&quot;</td><td>1</td><td>3.25</td></tr><tr><td>&quot;b&quot;</td><td>2</td><td>3.25</td></tr><tr><td>&quot;c&quot;</td><td>3</td><td>3.25</td></tr><tr><td>&quot;c&quot;</td><td>5</td><td>3.25</td></tr><tr><td>&quot;c&quot;</td><td>3</td><td>3.25</td></tr></tbody></table></div>"
      ],
      "text/plain": [
       "shape: (8, 3)\n",
       "┌───────┬──────┬──────┐\n",
       "│ Group ┆ Data ┆ new  │\n",
       "│ ---   ┆ ---  ┆ ---  │\n",
       "│ str   ┆ i64  ┆ f64  │\n",
       "╞═══════╪══════╪══════╡\n",
       "│ a     ┆ 5    ┆ 3.25 │\n",
       "│ a     ┆ 3    ┆ 3.25 │\n",
       "│ b     ┆ 4    ┆ 3.25 │\n",
       "│ b     ┆ 1    ┆ 3.25 │\n",
       "│ b     ┆ 2    ┆ 3.25 │\n",
       "│ c     ┆ 3    ┆ 3.25 │\n",
       "│ c     ┆ 5    ┆ 3.25 │\n",
       "│ c     ┆ 3    ┆ 3.25 │\n",
       "└───────┴──────┴──────┘"
      ]
     },
     "execution_count": 32,
     "metadata": {},
     "output_type": "execute_result"
    }
   ],
   "source": [
    "data.with_columns(new = pl.mean('Data'))"
   ]
  },
  {
   "cell_type": "code",
   "execution_count": 33,
   "id": "90fc8022-be0c-4e0b-8d36-5708c23893fd",
   "metadata": {},
   "outputs": [
    {
     "data": {
      "text/html": [
       "<div><style>\n",
       ".dataframe > thead > tr,\n",
       ".dataframe > tbody > tr {\n",
       "  text-align: right;\n",
       "  white-space: pre-wrap;\n",
       "}\n",
       "</style>\n",
       "<small>shape: (8, 3)</small><table border=\"1\" class=\"dataframe\"><thead><tr><th>Group</th><th>Data</th><th>new</th></tr><tr><td>str</td><td>i64</td><td>i64</td></tr></thead><tbody><tr><td>&quot;a&quot;</td><td>5</td><td>5</td></tr><tr><td>&quot;a&quot;</td><td>3</td><td>5</td></tr><tr><td>&quot;b&quot;</td><td>4</td><td>4</td></tr><tr><td>&quot;b&quot;</td><td>1</td><td>4</td></tr><tr><td>&quot;b&quot;</td><td>2</td><td>4</td></tr><tr><td>&quot;c&quot;</td><td>3</td><td>5</td></tr><tr><td>&quot;c&quot;</td><td>5</td><td>5</td></tr><tr><td>&quot;c&quot;</td><td>3</td><td>5</td></tr></tbody></table></div>"
      ],
      "text/plain": [
       "shape: (8, 3)\n",
       "┌───────┬──────┬─────┐\n",
       "│ Group ┆ Data ┆ new │\n",
       "│ ---   ┆ ---  ┆ --- │\n",
       "│ str   ┆ i64  ┆ i64 │\n",
       "╞═══════╪══════╪═════╡\n",
       "│ a     ┆ 5    ┆ 5   │\n",
       "│ a     ┆ 3    ┆ 5   │\n",
       "│ b     ┆ 4    ┆ 4   │\n",
       "│ b     ┆ 1    ┆ 4   │\n",
       "│ b     ┆ 2    ┆ 4   │\n",
       "│ c     ┆ 3    ┆ 5   │\n",
       "│ c     ┆ 5    ┆ 5   │\n",
       "│ c     ┆ 3    ┆ 5   │\n",
       "└───────┴──────┴─────┘"
      ]
     },
     "execution_count": 33,
     "metadata": {},
     "output_type": "execute_result"
    }
   ],
   "source": [
    "data.with_columns(new = pl.max('Data').over('Group'))\n"
   ]
  },
  {
   "cell_type": "code",
   "execution_count": 34,
   "id": "86b169bd-5d76-4470-85d5-5a4352258a08",
   "metadata": {},
   "outputs": [
    {
     "data": {
      "text/html": [
       "<div><style>\n",
       ".dataframe > thead > tr,\n",
       ".dataframe > tbody > tr {\n",
       "  text-align: right;\n",
       "  white-space: pre-wrap;\n",
       "}\n",
       "</style>\n",
       "<small>shape: (8, 3)</small><table border=\"1\" class=\"dataframe\"><thead><tr><th>Group</th><th>Data</th><th>new</th></tr><tr><td>str</td><td>i64</td><td>i64</td></tr></thead><tbody><tr><td>&quot;a&quot;</td><td>5</td><td>5</td></tr><tr><td>&quot;a&quot;</td><td>3</td><td>5</td></tr><tr><td>&quot;b&quot;</td><td>4</td><td>4</td></tr><tr><td>&quot;b&quot;</td><td>1</td><td>4</td></tr><tr><td>&quot;b&quot;</td><td>2</td><td>4</td></tr><tr><td>&quot;c&quot;</td><td>3</td><td>5</td></tr><tr><td>&quot;c&quot;</td><td>5</td><td>5</td></tr><tr><td>&quot;c&quot;</td><td>3</td><td>5</td></tr></tbody></table></div>"
      ],
      "text/plain": [
       "shape: (8, 3)\n",
       "┌───────┬──────┬─────┐\n",
       "│ Group ┆ Data ┆ new │\n",
       "│ ---   ┆ ---  ┆ --- │\n",
       "│ str   ┆ i64  ┆ i64 │\n",
       "╞═══════╪══════╪═════╡\n",
       "│ a     ┆ 5    ┆ 5   │\n",
       "│ a     ┆ 3    ┆ 5   │\n",
       "│ b     ┆ 4    ┆ 4   │\n",
       "│ b     ┆ 1    ┆ 4   │\n",
       "│ b     ┆ 2    ┆ 4   │\n",
       "│ c     ┆ 3    ┆ 5   │\n",
       "│ c     ┆ 5    ┆ 5   │\n",
       "│ c     ┆ 3    ┆ 5   │\n",
       "└───────┴──────┴─────┘"
      ]
     },
     "execution_count": 34,
     "metadata": {},
     "output_type": "execute_result"
    }
   ],
   "source": [
    "data.with_columns(new = pl.col('Data').max().over('Group'))"
   ]
  },
  {
   "cell_type": "code",
   "execution_count": 35,
   "id": "ba76efdc-351f-40fe-a6fd-a34f861195de",
   "metadata": {},
   "outputs": [
    {
     "data": {
      "text/html": [
       "<div><style>\n",
       ".dataframe > thead > tr,\n",
       ".dataframe > tbody > tr {\n",
       "  text-align: right;\n",
       "  white-space: pre-wrap;\n",
       "}\n",
       "</style>\n",
       "<small>shape: (8, 3)</small><table border=\"1\" class=\"dataframe\"><thead><tr><th>Group</th><th>Data</th><th>new</th></tr><tr><td>str</td><td>i64</td><td>i64</td></tr></thead><tbody><tr><td>&quot;a&quot;</td><td>5</td><td>5</td></tr><tr><td>&quot;a&quot;</td><td>3</td><td>5</td></tr><tr><td>&quot;b&quot;</td><td>4</td><td>5</td></tr><tr><td>&quot;b&quot;</td><td>1</td><td>5</td></tr><tr><td>&quot;b&quot;</td><td>2</td><td>5</td></tr><tr><td>&quot;c&quot;</td><td>3</td><td>5</td></tr><tr><td>&quot;c&quot;</td><td>5</td><td>5</td></tr><tr><td>&quot;c&quot;</td><td>3</td><td>5</td></tr></tbody></table></div>"
      ],
      "text/plain": [
       "shape: (8, 3)\n",
       "┌───────┬──────┬─────┐\n",
       "│ Group ┆ Data ┆ new │\n",
       "│ ---   ┆ ---  ┆ --- │\n",
       "│ str   ┆ i64  ┆ i64 │\n",
       "╞═══════╪══════╪═════╡\n",
       "│ a     ┆ 5    ┆ 5   │\n",
       "│ a     ┆ 3    ┆ 5   │\n",
       "│ b     ┆ 4    ┆ 5   │\n",
       "│ b     ┆ 1    ┆ 5   │\n",
       "│ b     ┆ 2    ┆ 5   │\n",
       "│ c     ┆ 3    ┆ 5   │\n",
       "│ c     ┆ 5    ┆ 5   │\n",
       "│ c     ┆ 3    ┆ 5   │\n",
       "└───────┴──────┴─────┘"
      ]
     },
     "execution_count": 35,
     "metadata": {},
     "output_type": "execute_result"
    }
   ],
   "source": [
    "data.with_columns(new = pl.col('Data').over('Group').max())"
   ]
  },
  {
   "cell_type": "code",
   "execution_count": 36,
   "id": "52df4562-51a7-4250-bd22-49f22c49223a",
   "metadata": {},
   "outputs": [
    {
     "data": {
      "text/html": [
       "<div><style>\n",
       ".dataframe > thead > tr,\n",
       ".dataframe > tbody > tr {\n",
       "  text-align: right;\n",
       "  white-space: pre-wrap;\n",
       "}\n",
       "</style>\n",
       "<small>shape: (8, 3)</small><table border=\"1\" class=\"dataframe\"><thead><tr><th>Group</th><th>Data</th><th>new</th></tr><tr><td>str</td><td>i64</td><td>i64</td></tr></thead><tbody><tr><td>&quot;a&quot;</td><td>5</td><td>5</td></tr><tr><td>&quot;a&quot;</td><td>3</td><td>5</td></tr><tr><td>&quot;b&quot;</td><td>4</td><td>5</td></tr><tr><td>&quot;b&quot;</td><td>1</td><td>5</td></tr><tr><td>&quot;b&quot;</td><td>2</td><td>5</td></tr><tr><td>&quot;c&quot;</td><td>3</td><td>5</td></tr><tr><td>&quot;c&quot;</td><td>5</td><td>5</td></tr><tr><td>&quot;c&quot;</td><td>3</td><td>5</td></tr></tbody></table></div>"
      ],
      "text/plain": [
       "shape: (8, 3)\n",
       "┌───────┬──────┬─────┐\n",
       "│ Group ┆ Data ┆ new │\n",
       "│ ---   ┆ ---  ┆ --- │\n",
       "│ str   ┆ i64  ┆ i64 │\n",
       "╞═══════╪══════╪═════╡\n",
       "│ a     ┆ 5    ┆ 5   │\n",
       "│ a     ┆ 3    ┆ 5   │\n",
       "│ b     ┆ 4    ┆ 5   │\n",
       "│ b     ┆ 1    ┆ 5   │\n",
       "│ b     ┆ 2    ┆ 5   │\n",
       "│ c     ┆ 3    ┆ 5   │\n",
       "│ c     ┆ 5    ┆ 5   │\n",
       "│ c     ┆ 3    ┆ 5   │\n",
       "└───────┴──────┴─────┘"
      ]
     },
     "execution_count": 36,
     "metadata": {},
     "output_type": "execute_result"
    }
   ],
   "source": [
    "data.with_columns(new = pl.col('Data').max())"
   ]
  },
  {
   "cell_type": "code",
   "execution_count": 37,
   "id": "de6b4066-0aed-4ccc-afeb-99650bb3e181",
   "metadata": {},
   "outputs": [
    {
     "data": {
      "text/html": [
       "<div><style>\n",
       ".dataframe > thead > tr,\n",
       ".dataframe > tbody > tr {\n",
       "  text-align: right;\n",
       "  white-space: pre-wrap;\n",
       "}\n",
       "</style>\n",
       "<small>shape: (8, 3)</small><table border=\"1\" class=\"dataframe\"><thead><tr><th>Group</th><th>Data</th><th>new</th></tr><tr><td>str</td><td>i64</td><td>i64</td></tr></thead><tbody><tr><td>&quot;a&quot;</td><td>5</td><td>5</td></tr><tr><td>&quot;a&quot;</td><td>3</td><td>5</td></tr><tr><td>&quot;b&quot;</td><td>4</td><td>5</td></tr><tr><td>&quot;b&quot;</td><td>1</td><td>5</td></tr><tr><td>&quot;b&quot;</td><td>2</td><td>5</td></tr><tr><td>&quot;c&quot;</td><td>3</td><td>5</td></tr><tr><td>&quot;c&quot;</td><td>5</td><td>5</td></tr><tr><td>&quot;c&quot;</td><td>3</td><td>5</td></tr></tbody></table></div>"
      ],
      "text/plain": [
       "shape: (8, 3)\n",
       "┌───────┬──────┬─────┐\n",
       "│ Group ┆ Data ┆ new │\n",
       "│ ---   ┆ ---  ┆ --- │\n",
       "│ str   ┆ i64  ┆ i64 │\n",
       "╞═══════╪══════╪═════╡\n",
       "│ a     ┆ 5    ┆ 5   │\n",
       "│ a     ┆ 3    ┆ 5   │\n",
       "│ b     ┆ 4    ┆ 5   │\n",
       "│ b     ┆ 1    ┆ 5   │\n",
       "│ b     ┆ 2    ┆ 5   │\n",
       "│ c     ┆ 3    ┆ 5   │\n",
       "│ c     ┆ 5    ┆ 5   │\n",
       "│ c     ┆ 3    ┆ 5   │\n",
       "└───────┴──────┴─────┘"
      ]
     },
     "execution_count": 37,
     "metadata": {},
     "output_type": "execute_result"
    }
   ],
   "source": [
    "data.with_columns(new = pl.max('Data'))"
   ]
  },
  {
   "cell_type": "code",
   "execution_count": 39,
   "id": "74eaec73-c431-428a-930e-9a16e312b75a",
   "metadata": {},
   "outputs": [
    {
     "data": {
      "text/html": [
       "<div><style>\n",
       ".dataframe > thead > tr,\n",
       ".dataframe > tbody > tr {\n",
       "  text-align: right;\n",
       "  white-space: pre-wrap;\n",
       "}\n",
       "</style>\n",
       "<small>shape: (1, 1)</small><table border=\"1\" class=\"dataframe\"><thead><tr><th>new</th></tr><tr><td>f64</td></tr></thead><tbody><tr><td>3.25</td></tr></tbody></table></div>"
      ],
      "text/plain": [
       "shape: (1, 1)\n",
       "┌──────┐\n",
       "│ new  │\n",
       "│ ---  │\n",
       "│ f64  │\n",
       "╞══════╡\n",
       "│ 3.25 │\n",
       "└──────┘"
      ]
     },
     "execution_count": 39,
     "metadata": {},
     "output_type": "execute_result"
    }
   ],
   "source": [
    "data.select(pl.mean('Data').alias('new'))"
   ]
  },
  {
   "cell_type": "code",
   "execution_count": 41,
   "id": "96f6ac91-b04d-4ec7-b108-66f3fbe6bbc4",
   "metadata": {},
   "outputs": [
    {
     "data": {
      "text/html": [
       "<div><style>\n",
       ".dataframe > thead > tr,\n",
       ".dataframe > tbody > tr {\n",
       "  text-align: right;\n",
       "  white-space: pre-wrap;\n",
       "}\n",
       "</style>\n",
       "<small>shape: (3, 2)</small><table border=\"1\" class=\"dataframe\"><thead><tr><th>Group</th><th>new</th></tr><tr><td>str</td><td>f64</td></tr></thead><tbody><tr><td>&quot;b&quot;</td><td>2.333333</td></tr><tr><td>&quot;a&quot;</td><td>4.0</td></tr><tr><td>&quot;c&quot;</td><td>3.666667</td></tr></tbody></table></div>"
      ],
      "text/plain": [
       "shape: (3, 2)\n",
       "┌───────┬──────────┐\n",
       "│ Group ┆ new      │\n",
       "│ ---   ┆ ---      │\n",
       "│ str   ┆ f64      │\n",
       "╞═══════╪══════════╡\n",
       "│ b     ┆ 2.333333 │\n",
       "│ a     ┆ 4.0      │\n",
       "│ c     ┆ 3.666667 │\n",
       "└───────┴──────────┘"
      ]
     },
     "execution_count": 41,
     "metadata": {},
     "output_type": "execute_result"
    }
   ],
   "source": [
    "data.group_by('Group').agg(new = pl.mean('Data'))"
   ]
  },
  {
   "cell_type": "code",
   "execution_count": 42,
   "id": "c11348ed-9385-4e64-85e2-77c222263fd4",
   "metadata": {},
   "outputs": [
    {
     "data": {
      "text/html": [
       "<div><style>\n",
       ".dataframe > thead > tr,\n",
       ".dataframe > tbody > tr {\n",
       "  text-align: right;\n",
       "  white-space: pre-wrap;\n",
       "}\n",
       "</style>\n",
       "<small>shape: (3, 2)</small><table border=\"1\" class=\"dataframe\"><thead><tr><th>Group</th><th>new</th></tr><tr><td>str</td><td>f64</td></tr></thead><tbody><tr><td>&quot;c&quot;</td><td>3.666667</td></tr><tr><td>&quot;a&quot;</td><td>4.0</td></tr><tr><td>&quot;b&quot;</td><td>2.333333</td></tr></tbody></table></div>"
      ],
      "text/plain": [
       "shape: (3, 2)\n",
       "┌───────┬──────────┐\n",
       "│ Group ┆ new      │\n",
       "│ ---   ┆ ---      │\n",
       "│ str   ┆ f64      │\n",
       "╞═══════╪══════════╡\n",
       "│ c     ┆ 3.666667 │\n",
       "│ a     ┆ 4.0      │\n",
       "│ b     ┆ 2.333333 │\n",
       "└───────┴──────────┘"
      ]
     },
     "execution_count": 42,
     "metadata": {},
     "output_type": "execute_result"
    }
   ],
   "source": [
    "data.group_by('Group').agg(new = pl.col('Data').mean())"
   ]
  },
  {
   "cell_type": "code",
   "execution_count": null,
   "id": "a4016ddb-4837-4c6f-b661-2a4b64c27804",
   "metadata": {},
   "outputs": [],
   "source": []
  }
 ],
 "metadata": {
  "kernelspec": {
   "display_name": "Python 3 (ipykernel)",
   "language": "python",
   "name": "python3"
  },
  "language_info": {
   "codemirror_mode": {
    "name": "ipython",
    "version": 3
   },
   "file_extension": ".py",
   "mimetype": "text/x-python",
   "name": "python",
   "nbconvert_exporter": "python",
   "pygments_lexer": "ipython3",
   "version": "3.12.5"
  }
 },
 "nbformat": 4,
 "nbformat_minor": 5
}
