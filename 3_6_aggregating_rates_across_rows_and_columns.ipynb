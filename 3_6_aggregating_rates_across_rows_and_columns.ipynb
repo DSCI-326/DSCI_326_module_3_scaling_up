{
 "cells": [
  {
   "cell_type": "code",
   "execution_count": 1,
   "id": "90f71b3f",
   "metadata": {},
   "outputs": [],
   "source": [
    "import polars as pl\n",
    "import polars.selectors as cs"
   ]
  },
  {
   "cell_type": "markdown",
   "id": "7bc1fa3a",
   "metadata": {},
   "source": [
    "# Aggregating rates across rows and columns"
   ]
  },
  {
   "cell_type": "markdown",
   "id": "dc525946",
   "metadata": {},
   "source": [
    "## Example - The mean of a rate isn't the combined rate"
   ]
  },
  {
   "cell_type": "code",
   "execution_count": 74,
   "id": "df6c8f57",
   "metadata": {},
   "outputs": [
    {
     "data": {
      "text/html": [
       "<div><style>\n",
       ".dataframe > thead > tr,\n",
       ".dataframe > tbody > tr {\n",
       "  text-align: right;\n",
       "  white-space: pre-wrap;\n",
       "}\n",
       "</style>\n",
       "<small>shape: (8, 2)</small><table border=\"1\" class=\"dataframe\"><thead><tr><th>Group</th><th>Value</th></tr><tr><td>str</td><td>i64</td></tr></thead><tbody><tr><td>&quot;A&quot;</td><td>1</td></tr><tr><td>&quot;A&quot;</td><td>2</td></tr><tr><td>&quot;A&quot;</td><td>3</td></tr><tr><td>&quot;B&quot;</td><td>5</td></tr><tr><td>&quot;B&quot;</td><td>2</td></tr><tr><td>&quot;C&quot;</td><td>3</td></tr><tr><td>&quot;C&quot;</td><td>3</td></tr><tr><td>&quot;C&quot;</td><td>2</td></tr></tbody></table></div>"
      ],
      "text/plain": [
       "shape: (8, 2)\n",
       "┌───────┬───────┐\n",
       "│ Group ┆ Value │\n",
       "│ ---   ┆ ---   │\n",
       "│ str   ┆ i64   │\n",
       "╞═══════╪═══════╡\n",
       "│ A     ┆ 1     │\n",
       "│ A     ┆ 2     │\n",
       "│ A     ┆ 3     │\n",
       "│ B     ┆ 5     │\n",
       "│ B     ┆ 2     │\n",
       "│ C     ┆ 3     │\n",
       "│ C     ┆ 3     │\n",
       "│ C     ┆ 2     │\n",
       "└───────┴───────┘"
      ]
     },
     "execution_count": 74,
     "metadata": {},
     "output_type": "execute_result"
    }
   ],
   "source": [
    "(df :=\n",
    " pl.DataFrame({'Group': 3*['A'] + 2*['B'] + 3*['C'],\n",
    "               'Value': [1, 2, 3, 5, 2, 3, 3, 2]})\n",
    ")"
   ]
  },
  {
   "cell_type": "markdown",
   "id": "cbebc7b6",
   "metadata": {},
   "source": [
    "#### Group means"
   ]
  },
  {
   "cell_type": "code",
   "execution_count": 75,
   "id": "6ce7d46e",
   "metadata": {},
   "outputs": [
    {
     "data": {
      "text/html": [
       "<div><style>\n",
       ".dataframe > thead > tr,\n",
       ".dataframe > tbody > tr {\n",
       "  text-align: right;\n",
       "  white-space: pre-wrap;\n",
       "}\n",
       "</style>\n",
       "<small>shape: (3, 2)</small><table border=\"1\" class=\"dataframe\"><thead><tr><th>Group</th><th>mean_value</th></tr><tr><td>str</td><td>f64</td></tr></thead><tbody><tr><td>&quot;A&quot;</td><td>2.0</td></tr><tr><td>&quot;B&quot;</td><td>3.5</td></tr><tr><td>&quot;C&quot;</td><td>2.666667</td></tr></tbody></table></div>"
      ],
      "text/plain": [
       "shape: (3, 2)\n",
       "┌───────┬────────────┐\n",
       "│ Group ┆ mean_value │\n",
       "│ ---   ┆ ---        │\n",
       "│ str   ┆ f64        │\n",
       "╞═══════╪════════════╡\n",
       "│ A     ┆ 2.0        │\n",
       "│ B     ┆ 3.5        │\n",
       "│ C     ┆ 2.666667   │\n",
       "└───────┴────────────┘"
      ]
     },
     "execution_count": 75,
     "metadata": {},
     "output_type": "execute_result"
    }
   ],
   "source": [
    "(df\n",
    ".group_by('Group')\n",
    ".agg(mean_value = pl.col('Value').mean())\n",
    ")"
   ]
  },
  {
   "cell_type": "markdown",
   "id": "3b021209",
   "metadata": {},
   "source": [
    "#### Mean of groups means"
   ]
  },
  {
   "cell_type": "code",
   "execution_count": 76,
   "id": "c3701e7e",
   "metadata": {},
   "outputs": [
    {
     "data": {
      "text/html": [
       "<div><style>\n",
       ".dataframe > thead > tr,\n",
       ".dataframe > tbody > tr {\n",
       "  text-align: right;\n",
       "  white-space: pre-wrap;\n",
       "}\n",
       "</style>\n",
       "<small>shape: (1, 1)</small><table border=\"1\" class=\"dataframe\"><thead><tr><th>mean_of_means</th></tr><tr><td>f64</td></tr></thead><tbody><tr><td>2.722222</td></tr></tbody></table></div>"
      ],
      "text/plain": [
       "shape: (1, 1)\n",
       "┌───────────────┐\n",
       "│ mean_of_means │\n",
       "│ ---           │\n",
       "│ f64           │\n",
       "╞═══════════════╡\n",
       "│ 2.722222      │\n",
       "└───────────────┘"
      ]
     },
     "execution_count": 76,
     "metadata": {},
     "output_type": "execute_result"
    }
   ],
   "source": [
    "(mean_of_group_means :=\n",
    " df\n",
    ".group_by('Group')\n",
    ".agg(mean_value = pl.col('Value').mean())\n",
    ".select(pl.col('mean_value').mean().alias('mean_of_means'))\n",
    ")"
   ]
  },
  {
   "cell_type": "markdown",
   "id": "ad20dabe",
   "metadata": {},
   "source": [
    "#### Grand mean"
   ]
  },
  {
   "cell_type": "code",
   "execution_count": 77,
   "id": "18624acc",
   "metadata": {},
   "outputs": [
    {
     "data": {
      "text/html": [
       "<div><style>\n",
       ".dataframe > thead > tr,\n",
       ".dataframe > tbody > tr {\n",
       "  text-align: right;\n",
       "  white-space: pre-wrap;\n",
       "}\n",
       "</style>\n",
       "<small>shape: (1, 1)</small><table border=\"1\" class=\"dataframe\"><thead><tr><th>grand_mean</th></tr><tr><td>f64</td></tr></thead><tbody><tr><td>2.625</td></tr></tbody></table></div>"
      ],
      "text/plain": [
       "shape: (1, 1)\n",
       "┌────────────┐\n",
       "│ grand_mean │\n",
       "│ ---        │\n",
       "│ f64        │\n",
       "╞════════════╡\n",
       "│ 2.625      │\n",
       "└────────────┘"
      ]
     },
     "execution_count": 77,
     "metadata": {},
     "output_type": "execute_result"
    }
   ],
   "source": [
    "(grand_mean :=\n",
    " df\n",
    ".select(pl.col('Value').mean().alias('grand_mean'))\n",
    ")"
   ]
  },
  {
   "cell_type": "markdown",
   "id": "479625b7",
   "metadata": {},
   "source": [
    "#### Mean of the group means `!=` grand mean"
   ]
  },
  {
   "cell_type": "code",
   "execution_count": 78,
   "id": "a097208f",
   "metadata": {},
   "outputs": [
    {
     "data": {
      "text/html": [
       "<div><style>\n",
       ".dataframe > thead > tr,\n",
       ".dataframe > tbody > tr {\n",
       "  text-align: right;\n",
       "  white-space: pre-wrap;\n",
       "}\n",
       "</style>\n",
       "<small>shape: (1, 1)</small><table border=\"1\" class=\"dataframe\"><thead><tr><th>mean_of_means</th></tr><tr><td>f64</td></tr></thead><tbody><tr><td>0.097222</td></tr></tbody></table></div>"
      ],
      "text/plain": [
       "shape: (1, 1)\n",
       "┌───────────────┐\n",
       "│ mean_of_means │\n",
       "│ ---           │\n",
       "│ f64           │\n",
       "╞═══════════════╡\n",
       "│ 0.097222      │\n",
       "└───────────────┘"
      ]
     },
     "execution_count": 78,
     "metadata": {},
     "output_type": "execute_result"
    }
   ],
   "source": [
    "mean_of_group_means - grand_mean"
   ]
  },
  {
   "cell_type": "markdown",
   "id": "567e5356",
   "metadata": {},
   "source": [
    "### Examples of common rates\n",
    "\n",
    "1. Mean,\n",
    "2. Percent of total and other ratios,\n",
    "3. Population rates (e.g., X per 1K people),\n",
    "4. Anything you describe using \"per\"\n"
   ]
  },
  {
   "cell_type": "markdown",
   "id": "2750482d",
   "metadata": {},
   "source": [
    "## Review - Aggregating rates\n",
    "\n",
    "When aggregating a rate across groups, we need to\n",
    "\n",
    "1. Aggregate the numerator and demon, then\n",
    "2. Compute the rate from to using the aggregated values."
   ]
  },
  {
   "cell_type": "code",
   "execution_count": 79,
   "id": "31298a8d",
   "metadata": {},
   "outputs": [
    {
     "data": {
      "text/html": [
       "<div><style>\n",
       ".dataframe > thead > tr,\n",
       ".dataframe > tbody > tr {\n",
       "  text-align: right;\n",
       "  white-space: pre-wrap;\n",
       "}\n",
       "</style>\n",
       "<small>shape: (1, 1)</small><table border=\"1\" class=\"dataframe\"><thead><tr><th>grand_mean</th></tr><tr><td>f64</td></tr></thead><tbody><tr><td>2.625</td></tr></tbody></table></div>"
      ],
      "text/plain": [
       "shape: (1, 1)\n",
       "┌────────────┐\n",
       "│ grand_mean │\n",
       "│ ---        │\n",
       "│ f64        │\n",
       "╞════════════╡\n",
       "│ 2.625      │\n",
       "└────────────┘"
      ]
     },
     "execution_count": 79,
     "metadata": {},
     "output_type": "execute_result"
    }
   ],
   "source": [
    "(grand_mean_via_groups :=\n",
    " df\n",
    ".group_by('Group')\n",
    ".agg(sum_value = pl.col('Value').sum(),\n",
    "     cnt_value = pl.col('Value').count())\n",
    ".select(pl.col('sum_value').sum().alias('sum_of_sums'),\n",
    "        pl.col('cnt_value').sum().alias('cnt_of_cnts'),\n",
    "       )\n",
    ".with_columns(grand_mean = pl.col('sum_of_sums')/pl.col('cnt_of_cnts'))\n",
    ".drop('sum_of_sums', 'cnt_of_cnts')\n",
    ")"
   ]
  },
  {
   "cell_type": "code",
   "execution_count": 27,
   "id": "ac733ebf",
   "metadata": {},
   "outputs": [
    {
     "data": {
      "text/html": [
       "<div><style>\n",
       ".dataframe > thead > tr,\n",
       ".dataframe > tbody > tr {\n",
       "  text-align: right;\n",
       "  white-space: pre-wrap;\n",
       "}\n",
       "</style>\n",
       "<small>shape: (1, 1)</small><table border=\"1\" class=\"dataframe\"><thead><tr><th>grand_mean</th></tr><tr><td>f64</td></tr></thead><tbody><tr><td>0.0</td></tr></tbody></table></div>"
      ],
      "text/plain": [
       "shape: (1, 1)\n",
       "┌────────────┐\n",
       "│ grand_mean │\n",
       "│ ---        │\n",
       "│ f64        │\n",
       "╞════════════╡\n",
       "│ 0.0        │\n",
       "└────────────┘"
      ]
     },
     "execution_count": 27,
     "metadata": {},
     "output_type": "execute_result"
    }
   ],
   "source": [
    "grand_mean_via_groups - grand_mean"
   ]
  },
  {
   "cell_type": "markdown",
   "id": "cc135d0c",
   "metadata": {},
   "source": [
    "### Why do we care?\n",
    "\n",
    "Because sometimes the data is already an aggregated value!"
   ]
  },
  {
   "cell_type": "code",
   "execution_count": 80,
   "id": "99d26b29",
   "metadata": {},
   "outputs": [
    {
     "data": {
      "text/html": [
       "<div><style>\n",
       ".dataframe > thead > tr,\n",
       ".dataframe > tbody > tr {\n",
       "  text-align: right;\n",
       "  white-space: pre-wrap;\n",
       "}\n",
       "</style>\n",
       "<small>shape: (8, 6)</small><table border=\"1\" class=\"dataframe\"><thead><tr><th>ID</th><th>Salesperson</th><th>Compact</th><th>Sedan</th><th>SUV</th><th>Truck</th></tr><tr><td>i64</td><td>str</td><td>i64</td><td>i64</td><td>i64</td><td>i64</td></tr></thead><tbody><tr><td>0</td><td>&quot;Ann&quot;</td><td>22</td><td>18</td><td>15</td><td>12</td></tr><tr><td>1</td><td>&quot;Bob&quot;</td><td>19</td><td>12</td><td>17</td><td>20</td></tr><tr><td>2</td><td>&quot;Yolanda&quot;</td><td>19</td><td>8</td><td>32</td><td>15</td></tr><tr><td>3</td><td>&quot;Xerxes&quot;</td><td>12</td><td>23</td><td>18</td><td>9</td></tr><tr><td>0</td><td>&quot;Ann&quot;</td><td>22</td><td>18</td><td>15</td><td>12</td></tr><tr><td>1</td><td>&quot;Bob&quot;</td><td>20</td><td>14</td><td>6</td><td>24</td></tr><tr><td>2</td><td>&quot;Yolanda&quot;</td><td>19</td><td>10</td><td>28</td><td>17</td></tr><tr><td>3</td><td>&quot;Xerxes&quot;</td><td>11</td><td>27</td><td>17</td><td>9</td></tr></tbody></table></div>"
      ],
      "text/plain": [
       "shape: (8, 6)\n",
       "┌─────┬─────────────┬─────────┬───────┬─────┬───────┐\n",
       "│ ID  ┆ Salesperson ┆ Compact ┆ Sedan ┆ SUV ┆ Truck │\n",
       "│ --- ┆ ---         ┆ ---     ┆ ---   ┆ --- ┆ ---   │\n",
       "│ i64 ┆ str         ┆ i64     ┆ i64   ┆ i64 ┆ i64   │\n",
       "╞═════╪═════════════╪═════════╪═══════╪═════╪═══════╡\n",
       "│ 0   ┆ Ann         ┆ 22      ┆ 18    ┆ 15  ┆ 12    │\n",
       "│ 1   ┆ Bob         ┆ 19      ┆ 12    ┆ 17  ┆ 20    │\n",
       "│ 2   ┆ Yolanda     ┆ 19      ┆ 8     ┆ 32  ┆ 15    │\n",
       "│ 3   ┆ Xerxes      ┆ 12      ┆ 23    ┆ 18  ┆ 9     │\n",
       "│ 0   ┆ Ann         ┆ 22      ┆ 18    ┆ 15  ┆ 12    │\n",
       "│ 1   ┆ Bob         ┆ 20      ┆ 14    ┆ 6   ┆ 24    │\n",
       "│ 2   ┆ Yolanda     ┆ 19      ┆ 10    ┆ 28  ┆ 17    │\n",
       "│ 3   ┆ Xerxes      ┆ 11      ┆ 27    ┆ 17  ┆ 9     │\n",
       "└─────┴─────────────┴─────────┴───────┴─────┴───────┘"
      ]
     },
     "execution_count": 80,
     "metadata": {},
     "output_type": "execute_result"
    }
   ],
   "source": [
    "( auto_sales :=\n",
    "  pl.read_csv('./data/auto_sales_*.csv')\n",
    "  .rename({'':'ID'})\n",
    ")"
   ]
  },
  {
   "cell_type": "markdown",
   "id": "9c6f6025",
   "metadata": {},
   "source": [
    "## Aggregating a rate across rows and columns\n",
    "\n",
    "1. Compute the numerator and denominator row aggregations using `group_by` and `agg`.\n",
    "2. Compute the numerator and denominator column aggregations using `reduce` or `fold`."
   ]
  },
  {
   "cell_type": "code",
   "execution_count": 81,
   "id": "766a070f",
   "metadata": {},
   "outputs": [
    {
     "data": {
      "text/plain": [
       "['Compact', 'Sedan', 'SUV', 'Truck']"
      ]
     },
     "execution_count": 81,
     "metadata": {},
     "output_type": "execute_result"
    }
   ],
   "source": [
    "(type_columns := \n",
    " [c for c in auto_sales.columns if c not in ('ID','Salesperson')]\n",
    ")"
   ]
  },
  {
   "cell_type": "code",
   "execution_count": 83,
   "id": "fba0c6c3",
   "metadata": {},
   "outputs": [
    {
     "data": {
      "text/html": [
       "<div><style>\n",
       ".dataframe > thead > tr,\n",
       ".dataframe > tbody > tr {\n",
       "  text-align: right;\n",
       "  white-space: pre-wrap;\n",
       "}\n",
       "</style>\n",
       "<small>shape: (4, 12)</small><table border=\"1\" class=\"dataframe\"><thead><tr><th>Salesperson</th><th>sum_Compact</th><th>sum_Sedan</th><th>sum_SUV</th><th>sum_Truck</th><th>cnt_Compact</th><th>cnt_Sedan</th><th>cnt_SUV</th><th>cnt_Truck</th><th>sum_types</th><th>cnt_types</th><th>grand_mean</th></tr><tr><td>str</td><td>i64</td><td>i64</td><td>i64</td><td>i64</td><td>u32</td><td>u32</td><td>u32</td><td>u32</td><td>i64</td><td>u32</td><td>f64</td></tr></thead><tbody><tr><td>&quot;Yolanda&quot;</td><td>38</td><td>18</td><td>60</td><td>32</td><td>2</td><td>2</td><td>2</td><td>2</td><td>148</td><td>8</td><td>18.5</td></tr><tr><td>&quot;Bob&quot;</td><td>39</td><td>26</td><td>23</td><td>44</td><td>2</td><td>2</td><td>2</td><td>2</td><td>132</td><td>8</td><td>16.5</td></tr><tr><td>&quot;Ann&quot;</td><td>44</td><td>36</td><td>30</td><td>24</td><td>2</td><td>2</td><td>2</td><td>2</td><td>134</td><td>8</td><td>16.75</td></tr><tr><td>&quot;Xerxes&quot;</td><td>23</td><td>50</td><td>35</td><td>18</td><td>2</td><td>2</td><td>2</td><td>2</td><td>126</td><td>8</td><td>15.75</td></tr></tbody></table></div>"
      ],
      "text/plain": [
       "shape: (4, 12)\n",
       "┌────────────┬───────────┬───────────┬─────────┬───┬───────────┬───────────┬───────────┬───────────┐\n",
       "│ Salesperso ┆ sum_Compa ┆ sum_Sedan ┆ sum_SUV ┆ … ┆ cnt_Truck ┆ sum_types ┆ cnt_types ┆ grand_mea │\n",
       "│ n          ┆ ct        ┆ ---       ┆ ---     ┆   ┆ ---       ┆ ---       ┆ ---       ┆ n         │\n",
       "│ ---        ┆ ---       ┆ i64       ┆ i64     ┆   ┆ u32       ┆ i64       ┆ u32       ┆ ---       │\n",
       "│ str        ┆ i64       ┆           ┆         ┆   ┆           ┆           ┆           ┆ f64       │\n",
       "╞════════════╪═══════════╪═══════════╪═════════╪═══╪═══════════╪═══════════╪═══════════╪═══════════╡\n",
       "│ Yolanda    ┆ 38        ┆ 18        ┆ 60      ┆ … ┆ 2         ┆ 148       ┆ 8         ┆ 18.5      │\n",
       "│ Bob        ┆ 39        ┆ 26        ┆ 23      ┆ … ┆ 2         ┆ 132       ┆ 8         ┆ 16.5      │\n",
       "│ Ann        ┆ 44        ┆ 36        ┆ 30      ┆ … ┆ 2         ┆ 134       ┆ 8         ┆ 16.75     │\n",
       "│ Xerxes     ┆ 23        ┆ 50        ┆ 35      ┆ … ┆ 2         ┆ 126       ┆ 8         ┆ 15.75     │\n",
       "└────────────┴───────────┴───────────┴─────────┴───┴───────────┴───────────┴───────────┴───────────┘"
      ]
     },
     "execution_count": 83,
     "metadata": {},
     "output_type": "execute_result"
    }
   ],
   "source": [
    "(auto_sales\n",
    " .group_by('Salesperson')\n",
    " .agg(**{f'sum_{c}':pl.col(c).sum() for c in type_columns},\n",
    "      **{f'cnt_{c}':pl.col(c).count() for c in type_columns},\n",
    "     )\n",
    " .with_columns(sum_types = pl.reduce(lambda acc, col: acc + col, cs.starts_with('sum')),\n",
    "               cnt_types = pl.reduce(lambda acc, col: acc + col, cs.starts_with('cnt')),\n",
    "              )\n",
    " .with_columns(grand_mean = pl.col('sum_types')/pl.col('cnt_types'))\n",
    "#  .drop(cs.starts_with('sum') | cs.starts_with('cnt'))\n",
    " \n",
    ")"
   ]
  },
  {
   "cell_type": "markdown",
   "id": "0ab2105b",
   "metadata": {},
   "source": [
    "## <font color=\"red\"> Exercise 3.9 </font> - World Bank Population Ratio (urban/total) for each region over the 1980's\n",
    "\n",
    "Use the approach illustrated in the last example to compute the answers to the following questions:\n",
    "\n",
    "1. **Question 1**.  What is the overall ratio of Urban to Total population for each region across all years in the 1980's?\n",
    "2. **Question 2**.  For each region, compute the probability that a randomly selected person from that region in the 1980's was from an urban area? [Compute this using Bayes rule, e.g. $\\frac{successes + 1}{trials + 2}$]\n",
    "\n",
    "Do this by\n",
    "\n",
    "1. Loading the raw WB data,\n",
    "2. Select the columns of interest using column selectors,\n",
    "3. Filter to the two measures of interest,\n",
    "4. Unstack the two measures,\n",
    "5. Group and aggregate the numerator and denominator of the ratio across rows,\n",
    "6. Use `reduce` or `fold` to aggregate the numerator and denominator of the ratio across columns, and\n",
    "7. Compute the ratio.\n",
    "\n",
    "Next, redo the query, but this time replace calls to `reduce`/`fold` with a \"horizontal\" helper function."
   ]
  },
  {
   "cell_type": "code",
   "execution_count": 1,
   "id": "364c5aeb",
   "metadata": {},
   "outputs": [],
   "source": [
    "# your fold/reduce code here"
   ]
  },
  {
   "cell_type": "code",
   "execution_count": 2,
   "id": "1f2f8980",
   "metadata": {},
   "outputs": [],
   "source": [
    "# your refactored code here"
   ]
  }
 ],
 "metadata": {
  "kernelspec": {
   "display_name": "Python 3 (ipykernel)",
   "language": "python",
   "name": "python3"
  },
  "language_info": {
   "codemirror_mode": {
    "name": "ipython",
    "version": 3
   },
   "file_extension": ".py",
   "mimetype": "text/x-python",
   "name": "python",
   "nbconvert_exporter": "python",
   "pygments_lexer": "ipython3",
   "version": "3.12.7"
  }
 },
 "nbformat": 4,
 "nbformat_minor": 5
}
