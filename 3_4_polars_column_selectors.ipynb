{
 "cells": [
  {
   "cell_type": "code",
   "execution_count": 95,
   "id": "f5ec6132-f7e8-4d82-8d30-c443cdf9bc89",
   "metadata": {},
   "outputs": [],
   "source": [
    "import polars as pl\n",
    "import polars.selectors as cs"
   ]
  },
  {
   "cell_type": "markdown",
   "id": "b689f90b-8792-4881-93b2-89b254ee507d",
   "metadata": {},
   "source": [
    "# Using `polars` column selectors\n",
    "\n",
    "In this notebook, we will look at using [`polars` column selectors](https://docs.pola.rs/api/python/stable/reference/selectors.html#selectors) to perform\n",
    "\n",
    "1. Column selections,\n",
    "2. Group & Aggregate, and\n",
    "3. Table Reshaping"
   ]
  },
  {
   "cell_type": "markdown",
   "id": "1f716ea8-c74d-4626-ae25-77eb451dd834",
   "metadata": {},
   "source": [
    "## The Data - World Bank Economic Indicators\n",
    "\n",
    "First, let's load the World Bank's [World Development Indicators](https://databank.worldbank.org/source/world-development-indicators)."
   ]
  },
  {
   "cell_type": "markdown",
   "id": "b74d0dd7-26fd-4208-8330-9a086199d375",
   "metadata": {},
   "source": [
    "#### Attempt 1"
   ]
  },
  {
   "cell_type": "code",
   "execution_count": 139,
   "id": "a863172c-66cd-4ae8-8f53-b480c7cdf337",
   "metadata": {
    "scrolled": true
   },
   "outputs": [
    {
     "ename": "ComputeError",
     "evalue": "could not parse `..` as dtype `f64` at column '2011 [YR2011]' (column number 56)\n\nThe current offset in the file is 1187125 bytes.\n\nYou might want to try:\n- increasing `infer_schema_length` (e.g. `infer_schema_length=10000`),\n- specifying correct dtype with the `dtypes` argument\n- setting `ignore_errors` to `True`,\n- adding `..` to the `null_values` list.\n\nOriginal error: ```remaining bytes non-empty```",
     "output_type": "error",
     "traceback": [
      "\u001b[0;31m---------------------------------------------------------------------------\u001b[0m",
      "\u001b[0;31mComputeError\u001b[0m                              Traceback (most recent call last)",
      "Cell \u001b[0;32mIn[139], line 2\u001b[0m\n\u001b[1;32m      1\u001b[0m (WB_dev_ind \u001b[38;5;241m:=\u001b[39m\n\u001b[0;32m----> 2\u001b[0m  \u001b[43mpl\u001b[49m\u001b[38;5;241;43m.\u001b[39;49m\u001b[43mread_csv\u001b[49m\u001b[43m(\u001b[49m\u001b[38;5;124;43m'\u001b[39;49m\u001b[38;5;124;43m./data/world_bank_raw_download_F23.csv\u001b[39;49m\u001b[38;5;124;43m'\u001b[39;49m\u001b[43m)\u001b[49m\n\u001b[1;32m      3\u001b[0m )\n",
      "File \u001b[0;32m/opt/anaconda3/envs/polars/lib/python3.12/site-packages/polars/_utils/deprecation.py:91\u001b[0m, in \u001b[0;36mdeprecate_renamed_parameter.<locals>.decorate.<locals>.wrapper\u001b[0;34m(*args, **kwargs)\u001b[0m\n\u001b[1;32m     86\u001b[0m \u001b[38;5;129m@wraps\u001b[39m(function)\n\u001b[1;32m     87\u001b[0m \u001b[38;5;28;01mdef\u001b[39;00m \u001b[38;5;21mwrapper\u001b[39m(\u001b[38;5;241m*\u001b[39margs: P\u001b[38;5;241m.\u001b[39margs, \u001b[38;5;241m*\u001b[39m\u001b[38;5;241m*\u001b[39mkwargs: P\u001b[38;5;241m.\u001b[39mkwargs) \u001b[38;5;241m-\u001b[39m\u001b[38;5;241m>\u001b[39m T:\n\u001b[1;32m     88\u001b[0m     _rename_keyword_argument(\n\u001b[1;32m     89\u001b[0m         old_name, new_name, kwargs, function\u001b[38;5;241m.\u001b[39m\u001b[38;5;18m__qualname__\u001b[39m, version\n\u001b[1;32m     90\u001b[0m     )\n\u001b[0;32m---> 91\u001b[0m     \u001b[38;5;28;01mreturn\u001b[39;00m \u001b[43mfunction\u001b[49m\u001b[43m(\u001b[49m\u001b[38;5;241;43m*\u001b[39;49m\u001b[43margs\u001b[49m\u001b[43m,\u001b[49m\u001b[43m \u001b[49m\u001b[38;5;241;43m*\u001b[39;49m\u001b[38;5;241;43m*\u001b[39;49m\u001b[43mkwargs\u001b[49m\u001b[43m)\u001b[49m\n",
      "File \u001b[0;32m/opt/anaconda3/envs/polars/lib/python3.12/site-packages/polars/_utils/deprecation.py:91\u001b[0m, in \u001b[0;36mdeprecate_renamed_parameter.<locals>.decorate.<locals>.wrapper\u001b[0;34m(*args, **kwargs)\u001b[0m\n\u001b[1;32m     86\u001b[0m \u001b[38;5;129m@wraps\u001b[39m(function)\n\u001b[1;32m     87\u001b[0m \u001b[38;5;28;01mdef\u001b[39;00m \u001b[38;5;21mwrapper\u001b[39m(\u001b[38;5;241m*\u001b[39margs: P\u001b[38;5;241m.\u001b[39margs, \u001b[38;5;241m*\u001b[39m\u001b[38;5;241m*\u001b[39mkwargs: P\u001b[38;5;241m.\u001b[39mkwargs) \u001b[38;5;241m-\u001b[39m\u001b[38;5;241m>\u001b[39m T:\n\u001b[1;32m     88\u001b[0m     _rename_keyword_argument(\n\u001b[1;32m     89\u001b[0m         old_name, new_name, kwargs, function\u001b[38;5;241m.\u001b[39m\u001b[38;5;18m__qualname__\u001b[39m, version\n\u001b[1;32m     90\u001b[0m     )\n\u001b[0;32m---> 91\u001b[0m     \u001b[38;5;28;01mreturn\u001b[39;00m \u001b[43mfunction\u001b[49m\u001b[43m(\u001b[49m\u001b[38;5;241;43m*\u001b[39;49m\u001b[43margs\u001b[49m\u001b[43m,\u001b[49m\u001b[43m \u001b[49m\u001b[38;5;241;43m*\u001b[39;49m\u001b[38;5;241;43m*\u001b[39;49m\u001b[43mkwargs\u001b[49m\u001b[43m)\u001b[49m\n",
      "File \u001b[0;32m/opt/anaconda3/envs/polars/lib/python3.12/site-packages/polars/_utils/deprecation.py:91\u001b[0m, in \u001b[0;36mdeprecate_renamed_parameter.<locals>.decorate.<locals>.wrapper\u001b[0;34m(*args, **kwargs)\u001b[0m\n\u001b[1;32m     86\u001b[0m \u001b[38;5;129m@wraps\u001b[39m(function)\n\u001b[1;32m     87\u001b[0m \u001b[38;5;28;01mdef\u001b[39;00m \u001b[38;5;21mwrapper\u001b[39m(\u001b[38;5;241m*\u001b[39margs: P\u001b[38;5;241m.\u001b[39margs, \u001b[38;5;241m*\u001b[39m\u001b[38;5;241m*\u001b[39mkwargs: P\u001b[38;5;241m.\u001b[39mkwargs) \u001b[38;5;241m-\u001b[39m\u001b[38;5;241m>\u001b[39m T:\n\u001b[1;32m     88\u001b[0m     _rename_keyword_argument(\n\u001b[1;32m     89\u001b[0m         old_name, new_name, kwargs, function\u001b[38;5;241m.\u001b[39m\u001b[38;5;18m__qualname__\u001b[39m, version\n\u001b[1;32m     90\u001b[0m     )\n\u001b[0;32m---> 91\u001b[0m     \u001b[38;5;28;01mreturn\u001b[39;00m \u001b[43mfunction\u001b[49m\u001b[43m(\u001b[49m\u001b[38;5;241;43m*\u001b[39;49m\u001b[43margs\u001b[49m\u001b[43m,\u001b[49m\u001b[43m \u001b[49m\u001b[38;5;241;43m*\u001b[39;49m\u001b[38;5;241;43m*\u001b[39;49m\u001b[43mkwargs\u001b[49m\u001b[43m)\u001b[49m\n",
      "File \u001b[0;32m/opt/anaconda3/envs/polars/lib/python3.12/site-packages/polars/io/csv/functions.py:496\u001b[0m, in \u001b[0;36mread_csv\u001b[0;34m(source, has_header, columns, new_columns, separator, comment_prefix, quote_char, skip_rows, schema, schema_overrides, null_values, missing_utf8_is_empty_string, ignore_errors, try_parse_dates, n_threads, infer_schema, infer_schema_length, batch_size, n_rows, encoding, low_memory, rechunk, use_pyarrow, storage_options, skip_rows_after_header, row_index_name, row_index_offset, sample_size, eol_char, raise_if_empty, truncate_ragged_lines, decimal_comma, glob)\u001b[0m\n\u001b[1;32m    488\u001b[0m \u001b[38;5;28;01melse\u001b[39;00m:\n\u001b[1;32m    489\u001b[0m     \u001b[38;5;28;01mwith\u001b[39;00m prepare_file_arg(\n\u001b[1;32m    490\u001b[0m         source,\n\u001b[1;32m    491\u001b[0m         encoding\u001b[38;5;241m=\u001b[39mencoding,\n\u001b[0;32m   (...)\u001b[0m\n\u001b[1;32m    494\u001b[0m         storage_options\u001b[38;5;241m=\u001b[39mstorage_options,\n\u001b[1;32m    495\u001b[0m     ) \u001b[38;5;28;01mas\u001b[39;00m data:\n\u001b[0;32m--> 496\u001b[0m         df \u001b[38;5;241m=\u001b[39m \u001b[43m_read_csv_impl\u001b[49m\u001b[43m(\u001b[49m\n\u001b[1;32m    497\u001b[0m \u001b[43m            \u001b[49m\u001b[43mdata\u001b[49m\u001b[43m,\u001b[49m\n\u001b[1;32m    498\u001b[0m \u001b[43m            \u001b[49m\u001b[43mhas_header\u001b[49m\u001b[38;5;241;43m=\u001b[39;49m\u001b[43mhas_header\u001b[49m\u001b[43m,\u001b[49m\n\u001b[1;32m    499\u001b[0m \u001b[43m            \u001b[49m\u001b[43mcolumns\u001b[49m\u001b[38;5;241;43m=\u001b[39;49m\u001b[43mcolumns\u001b[49m\u001b[43m \u001b[49m\u001b[38;5;28;43;01mif\u001b[39;49;00m\u001b[43m \u001b[49m\u001b[43mcolumns\u001b[49m\u001b[43m \u001b[49m\u001b[38;5;28;43;01melse\u001b[39;49;00m\u001b[43m \u001b[49m\u001b[43mprojection\u001b[49m\u001b[43m,\u001b[49m\n\u001b[1;32m    500\u001b[0m \u001b[43m            \u001b[49m\u001b[43mseparator\u001b[49m\u001b[38;5;241;43m=\u001b[39;49m\u001b[43mseparator\u001b[49m\u001b[43m,\u001b[49m\n\u001b[1;32m    501\u001b[0m \u001b[43m            \u001b[49m\u001b[43mcomment_prefix\u001b[49m\u001b[38;5;241;43m=\u001b[39;49m\u001b[43mcomment_prefix\u001b[49m\u001b[43m,\u001b[49m\n\u001b[1;32m    502\u001b[0m \u001b[43m            \u001b[49m\u001b[43mquote_char\u001b[49m\u001b[38;5;241;43m=\u001b[39;49m\u001b[43mquote_char\u001b[49m\u001b[43m,\u001b[49m\n\u001b[1;32m    503\u001b[0m \u001b[43m            \u001b[49m\u001b[43mskip_rows\u001b[49m\u001b[38;5;241;43m=\u001b[39;49m\u001b[43mskip_rows\u001b[49m\u001b[43m,\u001b[49m\n\u001b[1;32m    504\u001b[0m \u001b[43m            \u001b[49m\u001b[43mschema_overrides\u001b[49m\u001b[38;5;241;43m=\u001b[39;49m\u001b[43mschema_overrides\u001b[49m\u001b[43m,\u001b[49m\n\u001b[1;32m    505\u001b[0m \u001b[43m            \u001b[49m\u001b[43mschema\u001b[49m\u001b[38;5;241;43m=\u001b[39;49m\u001b[43mschema\u001b[49m\u001b[43m,\u001b[49m\n\u001b[1;32m    506\u001b[0m \u001b[43m            \u001b[49m\u001b[43mnull_values\u001b[49m\u001b[38;5;241;43m=\u001b[39;49m\u001b[43mnull_values\u001b[49m\u001b[43m,\u001b[49m\n\u001b[1;32m    507\u001b[0m \u001b[43m            \u001b[49m\u001b[43mmissing_utf8_is_empty_string\u001b[49m\u001b[38;5;241;43m=\u001b[39;49m\u001b[43mmissing_utf8_is_empty_string\u001b[49m\u001b[43m,\u001b[49m\n\u001b[1;32m    508\u001b[0m \u001b[43m            \u001b[49m\u001b[43mignore_errors\u001b[49m\u001b[38;5;241;43m=\u001b[39;49m\u001b[43mignore_errors\u001b[49m\u001b[43m,\u001b[49m\n\u001b[1;32m    509\u001b[0m \u001b[43m            \u001b[49m\u001b[43mtry_parse_dates\u001b[49m\u001b[38;5;241;43m=\u001b[39;49m\u001b[43mtry_parse_dates\u001b[49m\u001b[43m,\u001b[49m\n\u001b[1;32m    510\u001b[0m \u001b[43m            \u001b[49m\u001b[43mn_threads\u001b[49m\u001b[38;5;241;43m=\u001b[39;49m\u001b[43mn_threads\u001b[49m\u001b[43m,\u001b[49m\n\u001b[1;32m    511\u001b[0m \u001b[43m            \u001b[49m\u001b[43minfer_schema_length\u001b[49m\u001b[38;5;241;43m=\u001b[39;49m\u001b[43minfer_schema_length\u001b[49m\u001b[43m,\u001b[49m\n\u001b[1;32m    512\u001b[0m \u001b[43m            \u001b[49m\u001b[43mbatch_size\u001b[49m\u001b[38;5;241;43m=\u001b[39;49m\u001b[43mbatch_size\u001b[49m\u001b[43m,\u001b[49m\n\u001b[1;32m    513\u001b[0m \u001b[43m            \u001b[49m\u001b[43mn_rows\u001b[49m\u001b[38;5;241;43m=\u001b[39;49m\u001b[43mn_rows\u001b[49m\u001b[43m,\u001b[49m\n\u001b[1;32m    514\u001b[0m \u001b[43m            \u001b[49m\u001b[43mencoding\u001b[49m\u001b[38;5;241;43m=\u001b[39;49m\u001b[43mencoding\u001b[49m\u001b[43m \u001b[49m\u001b[38;5;28;43;01mif\u001b[39;49;00m\u001b[43m \u001b[49m\u001b[43mencoding\u001b[49m\u001b[43m \u001b[49m\u001b[38;5;241;43m==\u001b[39;49m\u001b[43m \u001b[49m\u001b[38;5;124;43m\"\u001b[39;49m\u001b[38;5;124;43mutf8-lossy\u001b[39;49m\u001b[38;5;124;43m\"\u001b[39;49m\u001b[43m \u001b[49m\u001b[38;5;28;43;01melse\u001b[39;49;00m\u001b[43m \u001b[49m\u001b[38;5;124;43m\"\u001b[39;49m\u001b[38;5;124;43mutf8\u001b[39;49m\u001b[38;5;124;43m\"\u001b[39;49m\u001b[43m,\u001b[49m\n\u001b[1;32m    515\u001b[0m \u001b[43m            \u001b[49m\u001b[43mlow_memory\u001b[49m\u001b[38;5;241;43m=\u001b[39;49m\u001b[43mlow_memory\u001b[49m\u001b[43m,\u001b[49m\n\u001b[1;32m    516\u001b[0m \u001b[43m            \u001b[49m\u001b[43mrechunk\u001b[49m\u001b[38;5;241;43m=\u001b[39;49m\u001b[43mrechunk\u001b[49m\u001b[43m,\u001b[49m\n\u001b[1;32m    517\u001b[0m \u001b[43m            \u001b[49m\u001b[43mskip_rows_after_header\u001b[49m\u001b[38;5;241;43m=\u001b[39;49m\u001b[43mskip_rows_after_header\u001b[49m\u001b[43m,\u001b[49m\n\u001b[1;32m    518\u001b[0m \u001b[43m            \u001b[49m\u001b[43mrow_index_name\u001b[49m\u001b[38;5;241;43m=\u001b[39;49m\u001b[43mrow_index_name\u001b[49m\u001b[43m,\u001b[49m\n\u001b[1;32m    519\u001b[0m \u001b[43m            \u001b[49m\u001b[43mrow_index_offset\u001b[49m\u001b[38;5;241;43m=\u001b[39;49m\u001b[43mrow_index_offset\u001b[49m\u001b[43m,\u001b[49m\n\u001b[1;32m    520\u001b[0m \u001b[43m            \u001b[49m\u001b[43msample_size\u001b[49m\u001b[38;5;241;43m=\u001b[39;49m\u001b[43msample_size\u001b[49m\u001b[43m,\u001b[49m\n\u001b[1;32m    521\u001b[0m \u001b[43m            \u001b[49m\u001b[43meol_char\u001b[49m\u001b[38;5;241;43m=\u001b[39;49m\u001b[43meol_char\u001b[49m\u001b[43m,\u001b[49m\n\u001b[1;32m    522\u001b[0m \u001b[43m            \u001b[49m\u001b[43mraise_if_empty\u001b[49m\u001b[38;5;241;43m=\u001b[39;49m\u001b[43mraise_if_empty\u001b[49m\u001b[43m,\u001b[49m\n\u001b[1;32m    523\u001b[0m \u001b[43m            \u001b[49m\u001b[43mtruncate_ragged_lines\u001b[49m\u001b[38;5;241;43m=\u001b[39;49m\u001b[43mtruncate_ragged_lines\u001b[49m\u001b[43m,\u001b[49m\n\u001b[1;32m    524\u001b[0m \u001b[43m            \u001b[49m\u001b[43mdecimal_comma\u001b[49m\u001b[38;5;241;43m=\u001b[39;49m\u001b[43mdecimal_comma\u001b[49m\u001b[43m,\u001b[49m\n\u001b[1;32m    525\u001b[0m \u001b[43m            \u001b[49m\u001b[43mglob\u001b[49m\u001b[38;5;241;43m=\u001b[39;49m\u001b[43mglob\u001b[49m\u001b[43m,\u001b[49m\n\u001b[1;32m    526\u001b[0m \u001b[43m        \u001b[49m\u001b[43m)\u001b[49m\n\u001b[1;32m    528\u001b[0m \u001b[38;5;28;01mif\u001b[39;00m new_columns:\n\u001b[1;32m    529\u001b[0m     \u001b[38;5;28;01mreturn\u001b[39;00m _update_columns(df, new_columns)\n",
      "File \u001b[0;32m/opt/anaconda3/envs/polars/lib/python3.12/site-packages/polars/io/csv/functions.py:642\u001b[0m, in \u001b[0;36m_read_csv_impl\u001b[0;34m(source, has_header, columns, separator, comment_prefix, quote_char, skip_rows, schema, schema_overrides, null_values, missing_utf8_is_empty_string, ignore_errors, try_parse_dates, n_threads, infer_schema_length, batch_size, n_rows, encoding, low_memory, rechunk, skip_rows_after_header, row_index_name, row_index_offset, sample_size, eol_char, raise_if_empty, truncate_ragged_lines, decimal_comma, glob)\u001b[0m\n\u001b[1;32m    638\u001b[0m         \u001b[38;5;28;01mraise\u001b[39;00m \u001b[38;5;167;01mValueError\u001b[39;00m(msg)\n\u001b[1;32m    640\u001b[0m projection, columns \u001b[38;5;241m=\u001b[39m parse_columns_arg(columns)\n\u001b[0;32m--> 642\u001b[0m pydf \u001b[38;5;241m=\u001b[39m \u001b[43mPyDataFrame\u001b[49m\u001b[38;5;241;43m.\u001b[39;49m\u001b[43mread_csv\u001b[49m\u001b[43m(\u001b[49m\n\u001b[1;32m    643\u001b[0m \u001b[43m    \u001b[49m\u001b[43msource\u001b[49m\u001b[43m,\u001b[49m\n\u001b[1;32m    644\u001b[0m \u001b[43m    \u001b[49m\u001b[43minfer_schema_length\u001b[49m\u001b[43m,\u001b[49m\n\u001b[1;32m    645\u001b[0m \u001b[43m    \u001b[49m\u001b[43mbatch_size\u001b[49m\u001b[43m,\u001b[49m\n\u001b[1;32m    646\u001b[0m \u001b[43m    \u001b[49m\u001b[43mhas_header\u001b[49m\u001b[43m,\u001b[49m\n\u001b[1;32m    647\u001b[0m \u001b[43m    \u001b[49m\u001b[43mignore_errors\u001b[49m\u001b[43m,\u001b[49m\n\u001b[1;32m    648\u001b[0m \u001b[43m    \u001b[49m\u001b[43mn_rows\u001b[49m\u001b[43m,\u001b[49m\n\u001b[1;32m    649\u001b[0m \u001b[43m    \u001b[49m\u001b[43mskip_rows\u001b[49m\u001b[43m,\u001b[49m\n\u001b[1;32m    650\u001b[0m \u001b[43m    \u001b[49m\u001b[43mprojection\u001b[49m\u001b[43m,\u001b[49m\n\u001b[1;32m    651\u001b[0m \u001b[43m    \u001b[49m\u001b[43mseparator\u001b[49m\u001b[43m,\u001b[49m\n\u001b[1;32m    652\u001b[0m \u001b[43m    \u001b[49m\u001b[43mrechunk\u001b[49m\u001b[43m,\u001b[49m\n\u001b[1;32m    653\u001b[0m \u001b[43m    \u001b[49m\u001b[43mcolumns\u001b[49m\u001b[43m,\u001b[49m\n\u001b[1;32m    654\u001b[0m \u001b[43m    \u001b[49m\u001b[43mencoding\u001b[49m\u001b[43m,\u001b[49m\n\u001b[1;32m    655\u001b[0m \u001b[43m    \u001b[49m\u001b[43mn_threads\u001b[49m\u001b[43m,\u001b[49m\n\u001b[1;32m    656\u001b[0m \u001b[43m    \u001b[49m\u001b[43mpath\u001b[49m\u001b[43m,\u001b[49m\n\u001b[1;32m    657\u001b[0m \u001b[43m    \u001b[49m\u001b[43mdtype_list\u001b[49m\u001b[43m,\u001b[49m\n\u001b[1;32m    658\u001b[0m \u001b[43m    \u001b[49m\u001b[43mdtype_slice\u001b[49m\u001b[43m,\u001b[49m\n\u001b[1;32m    659\u001b[0m \u001b[43m    \u001b[49m\u001b[43mlow_memory\u001b[49m\u001b[43m,\u001b[49m\n\u001b[1;32m    660\u001b[0m \u001b[43m    \u001b[49m\u001b[43mcomment_prefix\u001b[49m\u001b[43m,\u001b[49m\n\u001b[1;32m    661\u001b[0m \u001b[43m    \u001b[49m\u001b[43mquote_char\u001b[49m\u001b[43m,\u001b[49m\n\u001b[1;32m    662\u001b[0m \u001b[43m    \u001b[49m\u001b[43mprocessed_null_values\u001b[49m\u001b[43m,\u001b[49m\n\u001b[1;32m    663\u001b[0m \u001b[43m    \u001b[49m\u001b[43mmissing_utf8_is_empty_string\u001b[49m\u001b[43m,\u001b[49m\n\u001b[1;32m    664\u001b[0m \u001b[43m    \u001b[49m\u001b[43mtry_parse_dates\u001b[49m\u001b[43m,\u001b[49m\n\u001b[1;32m    665\u001b[0m \u001b[43m    \u001b[49m\u001b[43mskip_rows_after_header\u001b[49m\u001b[43m,\u001b[49m\n\u001b[1;32m    666\u001b[0m \u001b[43m    \u001b[49m\u001b[43mparse_row_index_args\u001b[49m\u001b[43m(\u001b[49m\u001b[43mrow_index_name\u001b[49m\u001b[43m,\u001b[49m\u001b[43m \u001b[49m\u001b[43mrow_index_offset\u001b[49m\u001b[43m)\u001b[49m\u001b[43m,\u001b[49m\n\u001b[1;32m    667\u001b[0m \u001b[43m    \u001b[49m\u001b[43msample_size\u001b[49m\u001b[38;5;241;43m=\u001b[39;49m\u001b[43msample_size\u001b[49m\u001b[43m,\u001b[49m\n\u001b[1;32m    668\u001b[0m \u001b[43m    \u001b[49m\u001b[43meol_char\u001b[49m\u001b[38;5;241;43m=\u001b[39;49m\u001b[43meol_char\u001b[49m\u001b[43m,\u001b[49m\n\u001b[1;32m    669\u001b[0m \u001b[43m    \u001b[49m\u001b[43mraise_if_empty\u001b[49m\u001b[38;5;241;43m=\u001b[39;49m\u001b[43mraise_if_empty\u001b[49m\u001b[43m,\u001b[49m\n\u001b[1;32m    670\u001b[0m \u001b[43m    \u001b[49m\u001b[43mtruncate_ragged_lines\u001b[49m\u001b[38;5;241;43m=\u001b[39;49m\u001b[43mtruncate_ragged_lines\u001b[49m\u001b[43m,\u001b[49m\n\u001b[1;32m    671\u001b[0m \u001b[43m    \u001b[49m\u001b[43mdecimal_comma\u001b[49m\u001b[38;5;241;43m=\u001b[39;49m\u001b[43mdecimal_comma\u001b[49m\u001b[43m,\u001b[49m\n\u001b[1;32m    672\u001b[0m \u001b[43m    \u001b[49m\u001b[43mschema\u001b[49m\u001b[38;5;241;43m=\u001b[39;49m\u001b[43mschema\u001b[49m\u001b[43m,\u001b[49m\n\u001b[1;32m    673\u001b[0m \u001b[43m\u001b[49m\u001b[43m)\u001b[49m\n\u001b[1;32m    674\u001b[0m \u001b[38;5;28;01mreturn\u001b[39;00m wrap_df(pydf)\n",
      "\u001b[0;31mComputeError\u001b[0m: could not parse `..` as dtype `f64` at column '2011 [YR2011]' (column number 56)\n\nThe current offset in the file is 1187125 bytes.\n\nYou might want to try:\n- increasing `infer_schema_length` (e.g. `infer_schema_length=10000`),\n- specifying correct dtype with the `dtypes` argument\n- setting `ignore_errors` to `True`,\n- adding `..` to the `null_values` list.\n\nOriginal error: ```remaining bytes non-empty```"
     ]
    }
   ],
   "source": [
    "(WB_dev_ind :=\n",
    " pl.read_csv('./data/world_bank_raw_download_F23.csv')\n",
    ")"
   ]
  },
  {
   "cell_type": "markdown",
   "id": "d88dc3fd-6ad9-412a-a292-e20dd6f36358",
   "metadata": {},
   "source": [
    "#### Attempt 2\n",
    "\n",
    "Let's use the first hint and extend the infer schema length."
   ]
  },
  {
   "cell_type": "code",
   "execution_count": 140,
   "id": "67c0f14d-94e8-49cd-a48e-56e9d81ad2d6",
   "metadata": {},
   "outputs": [
    {
     "data": {
      "text/html": [
       "<div><style>\n",
       ".dataframe > thead > tr,\n",
       ".dataframe > tbody > tr {\n",
       "  text-align: right;\n",
       "  white-space: pre-wrap;\n",
       "}\n",
       "</style>\n",
       "<small>shape: (10_173, 67)</small><table border=\"1\" class=\"dataframe\"><thead><tr><th>Country Name</th><th>Region</th><th>Series Name</th><th>Series Code</th><th>1960 [YR1960]</th><th>1961 [YR1961]</th><th>1962 [YR1962]</th><th>1963 [YR1963]</th><th>1964 [YR1964]</th><th>1965 [YR1965]</th><th>1966 [YR1966]</th><th>1967 [YR1967]</th><th>1968 [YR1968]</th><th>1969 [YR1969]</th><th>1970 [YR1970]</th><th>1971 [YR1971]</th><th>1972 [YR1972]</th><th>1973 [YR1973]</th><th>1974 [YR1974]</th><th>1975 [YR1975]</th><th>1976 [YR1976]</th><th>1977 [YR1977]</th><th>1978 [YR1978]</th><th>1979 [YR1979]</th><th>1980 [YR1980]</th><th>1981 [YR1981]</th><th>1982 [YR1982]</th><th>1983 [YR1983]</th><th>1984 [YR1984]</th><th>1985 [YR1985]</th><th>1986 [YR1986]</th><th>1987 [YR1987]</th><th>1988 [YR1988]</th><th>1989 [YR1989]</th><th>1990 [YR1990]</th><th>1991 [YR1991]</th><th>1992 [YR1992]</th><th>1993 [YR1993]</th><th>1994 [YR1994]</th><th>1995 [YR1995]</th><th>1996 [YR1996]</th><th>1997 [YR1997]</th><th>1998 [YR1998]</th><th>1999 [YR1999]</th><th>2000 [YR2000]</th><th>2001 [YR2001]</th><th>2002 [YR2002]</th><th>2003 [YR2003]</th><th>2004 [YR2004]</th><th>2005 [YR2005]</th><th>2006 [YR2006]</th><th>2007 [YR2007]</th><th>2008 [YR2008]</th><th>2009 [YR2009]</th><th>2010 [YR2010]</th><th>2011 [YR2011]</th><th>2012 [YR2012]</th><th>2013 [YR2013]</th><th>2014 [YR2014]</th><th>2015 [YR2015]</th><th>2016 [YR2016]</th><th>2017 [YR2017]</th><th>2018 [YR2018]</th><th>2019 [YR2019]</th><th>2020 [YR2020]</th><th>2021 [YR2021]</th><th>2022 [YR2022]</th></tr><tr><td>str</td><td>str</td><td>str</td><td>str</td><td>str</td><td>str</td><td>str</td><td>str</td><td>str</td><td>str</td><td>str</td><td>str</td><td>str</td><td>str</td><td>str</td><td>str</td><td>str</td><td>str</td><td>str</td><td>str</td><td>str</td><td>str</td><td>str</td><td>str</td><td>str</td><td>str</td><td>str</td><td>str</td><td>str</td><td>str</td><td>str</td><td>str</td><td>str</td><td>str</td><td>str</td><td>str</td><td>str</td><td>str</td><td>str</td><td>str</td><td>str</td><td>str</td><td>str</td><td>str</td><td>str</td><td>str</td><td>str</td><td>str</td><td>str</td><td>str</td><td>str</td><td>str</td><td>str</td><td>str</td><td>str</td><td>str</td><td>str</td><td>str</td><td>str</td><td>str</td><td>str</td><td>str</td><td>str</td><td>str</td><td>str</td><td>str</td><td>str</td></tr></thead><tbody><tr><td>&quot;Afghanistan&quot;</td><td>&quot;Asia&quot;</td><td>&quot;Diabetes prevalence (% of popu…</td><td>&quot;SH.STA.DIAB.ZS&quot;</td><td>&quot;..&quot;</td><td>&quot;..&quot;</td><td>&quot;..&quot;</td><td>&quot;..&quot;</td><td>&quot;..&quot;</td><td>&quot;..&quot;</td><td>&quot;..&quot;</td><td>&quot;..&quot;</td><td>&quot;..&quot;</td><td>&quot;..&quot;</td><td>&quot;..&quot;</td><td>&quot;..&quot;</td><td>&quot;..&quot;</td><td>&quot;..&quot;</td><td>&quot;..&quot;</td><td>&quot;..&quot;</td><td>&quot;..&quot;</td><td>&quot;..&quot;</td><td>&quot;..&quot;</td><td>&quot;..&quot;</td><td>&quot;..&quot;</td><td>&quot;..&quot;</td><td>&quot;..&quot;</td><td>&quot;..&quot;</td><td>&quot;..&quot;</td><td>&quot;..&quot;</td><td>&quot;..&quot;</td><td>&quot;..&quot;</td><td>&quot;..&quot;</td><td>&quot;..&quot;</td><td>&quot;..&quot;</td><td>&quot;..&quot;</td><td>&quot;..&quot;</td><td>&quot;..&quot;</td><td>&quot;..&quot;</td><td>&quot;..&quot;</td><td>&quot;..&quot;</td><td>&quot;..&quot;</td><td>&quot;..&quot;</td><td>&quot;..&quot;</td><td>&quot;..&quot;</td><td>&quot;..&quot;</td><td>&quot;..&quot;</td><td>&quot;..&quot;</td><td>&quot;..&quot;</td><td>&quot;..&quot;</td><td>&quot;..&quot;</td><td>&quot;..&quot;</td><td>&quot;..&quot;</td><td>&quot;..&quot;</td><td>&quot;..&quot;</td><td>&quot;7.6&quot;</td><td>&quot;..&quot;</td><td>&quot;..&quot;</td><td>&quot;..&quot;</td><td>&quot;..&quot;</td><td>&quot;..&quot;</td><td>&quot;..&quot;</td><td>&quot;..&quot;</td><td>&quot;..&quot;</td><td>&quot;..&quot;</td><td>&quot;10.9&quot;</td><td>&quot;..&quot;</td></tr><tr><td>&quot;Afghanistan&quot;</td><td>&quot;Asia&quot;</td><td>&quot;Diabetes prevalence (% of popu…</td><td>&quot;SH.STA.DIAB.ZS&quot;</td><td>&quot;..&quot;</td><td>&quot;..&quot;</td><td>&quot;..&quot;</td><td>&quot;..&quot;</td><td>&quot;..&quot;</td><td>&quot;..&quot;</td><td>&quot;..&quot;</td><td>&quot;..&quot;</td><td>&quot;..&quot;</td><td>&quot;..&quot;</td><td>&quot;..&quot;</td><td>&quot;..&quot;</td><td>&quot;..&quot;</td><td>&quot;..&quot;</td><td>&quot;..&quot;</td><td>&quot;..&quot;</td><td>&quot;..&quot;</td><td>&quot;..&quot;</td><td>&quot;..&quot;</td><td>&quot;..&quot;</td><td>&quot;..&quot;</td><td>&quot;..&quot;</td><td>&quot;..&quot;</td><td>&quot;..&quot;</td><td>&quot;..&quot;</td><td>&quot;..&quot;</td><td>&quot;..&quot;</td><td>&quot;..&quot;</td><td>&quot;..&quot;</td><td>&quot;..&quot;</td><td>&quot;..&quot;</td><td>&quot;..&quot;</td><td>&quot;..&quot;</td><td>&quot;..&quot;</td><td>&quot;..&quot;</td><td>&quot;..&quot;</td><td>&quot;..&quot;</td><td>&quot;..&quot;</td><td>&quot;..&quot;</td><td>&quot;..&quot;</td><td>&quot;..&quot;</td><td>&quot;..&quot;</td><td>&quot;..&quot;</td><td>&quot;..&quot;</td><td>&quot;..&quot;</td><td>&quot;..&quot;</td><td>&quot;..&quot;</td><td>&quot;..&quot;</td><td>&quot;..&quot;</td><td>&quot;..&quot;</td><td>&quot;..&quot;</td><td>&quot;7.6&quot;</td><td>&quot;..&quot;</td><td>&quot;..&quot;</td><td>&quot;..&quot;</td><td>&quot;..&quot;</td><td>&quot;..&quot;</td><td>&quot;..&quot;</td><td>&quot;..&quot;</td><td>&quot;..&quot;</td><td>&quot;..&quot;</td><td>&quot;10.9&quot;</td><td>&quot;..&quot;</td></tr><tr><td>&quot;Afghanistan&quot;</td><td>&quot;Asia&quot;</td><td>&quot;Diabetes prevalence (% of popu…</td><td>&quot;SH.STA.DIAB.ZS&quot;</td><td>&quot;..&quot;</td><td>&quot;..&quot;</td><td>&quot;..&quot;</td><td>&quot;..&quot;</td><td>&quot;..&quot;</td><td>&quot;..&quot;</td><td>&quot;..&quot;</td><td>&quot;..&quot;</td><td>&quot;..&quot;</td><td>&quot;..&quot;</td><td>&quot;..&quot;</td><td>&quot;..&quot;</td><td>&quot;..&quot;</td><td>&quot;..&quot;</td><td>&quot;..&quot;</td><td>&quot;..&quot;</td><td>&quot;..&quot;</td><td>&quot;..&quot;</td><td>&quot;..&quot;</td><td>&quot;..&quot;</td><td>&quot;..&quot;</td><td>&quot;..&quot;</td><td>&quot;..&quot;</td><td>&quot;..&quot;</td><td>&quot;..&quot;</td><td>&quot;..&quot;</td><td>&quot;..&quot;</td><td>&quot;..&quot;</td><td>&quot;..&quot;</td><td>&quot;..&quot;</td><td>&quot;..&quot;</td><td>&quot;..&quot;</td><td>&quot;..&quot;</td><td>&quot;..&quot;</td><td>&quot;..&quot;</td><td>&quot;..&quot;</td><td>&quot;..&quot;</td><td>&quot;..&quot;</td><td>&quot;..&quot;</td><td>&quot;..&quot;</td><td>&quot;..&quot;</td><td>&quot;..&quot;</td><td>&quot;..&quot;</td><td>&quot;..&quot;</td><td>&quot;..&quot;</td><td>&quot;..&quot;</td><td>&quot;..&quot;</td><td>&quot;..&quot;</td><td>&quot;..&quot;</td><td>&quot;..&quot;</td><td>&quot;..&quot;</td><td>&quot;7.6&quot;</td><td>&quot;..&quot;</td><td>&quot;..&quot;</td><td>&quot;..&quot;</td><td>&quot;..&quot;</td><td>&quot;..&quot;</td><td>&quot;..&quot;</td><td>&quot;..&quot;</td><td>&quot;..&quot;</td><td>&quot;..&quot;</td><td>&quot;10.9&quot;</td><td>&quot;..&quot;</td></tr><tr><td>&quot;Afghanistan&quot;</td><td>&quot;Asia&quot;</td><td>&quot;Diabetes prevalence (% of popu…</td><td>&quot;SH.STA.DIAB.ZS&quot;</td><td>&quot;..&quot;</td><td>&quot;..&quot;</td><td>&quot;..&quot;</td><td>&quot;..&quot;</td><td>&quot;..&quot;</td><td>&quot;..&quot;</td><td>&quot;..&quot;</td><td>&quot;..&quot;</td><td>&quot;..&quot;</td><td>&quot;..&quot;</td><td>&quot;..&quot;</td><td>&quot;..&quot;</td><td>&quot;..&quot;</td><td>&quot;..&quot;</td><td>&quot;..&quot;</td><td>&quot;..&quot;</td><td>&quot;..&quot;</td><td>&quot;..&quot;</td><td>&quot;..&quot;</td><td>&quot;..&quot;</td><td>&quot;..&quot;</td><td>&quot;..&quot;</td><td>&quot;..&quot;</td><td>&quot;..&quot;</td><td>&quot;..&quot;</td><td>&quot;..&quot;</td><td>&quot;..&quot;</td><td>&quot;..&quot;</td><td>&quot;..&quot;</td><td>&quot;..&quot;</td><td>&quot;..&quot;</td><td>&quot;..&quot;</td><td>&quot;..&quot;</td><td>&quot;..&quot;</td><td>&quot;..&quot;</td><td>&quot;..&quot;</td><td>&quot;..&quot;</td><td>&quot;..&quot;</td><td>&quot;..&quot;</td><td>&quot;..&quot;</td><td>&quot;..&quot;</td><td>&quot;..&quot;</td><td>&quot;..&quot;</td><td>&quot;..&quot;</td><td>&quot;..&quot;</td><td>&quot;..&quot;</td><td>&quot;..&quot;</td><td>&quot;..&quot;</td><td>&quot;..&quot;</td><td>&quot;..&quot;</td><td>&quot;..&quot;</td><td>&quot;7.6&quot;</td><td>&quot;..&quot;</td><td>&quot;..&quot;</td><td>&quot;..&quot;</td><td>&quot;..&quot;</td><td>&quot;..&quot;</td><td>&quot;..&quot;</td><td>&quot;..&quot;</td><td>&quot;..&quot;</td><td>&quot;..&quot;</td><td>&quot;10.9&quot;</td><td>&quot;..&quot;</td></tr><tr><td>&quot;Afghanistan&quot;</td><td>&quot;Asia&quot;</td><td>&quot;Diabetes prevalence (% of popu…</td><td>&quot;SH.STA.DIAB.ZS&quot;</td><td>&quot;..&quot;</td><td>&quot;..&quot;</td><td>&quot;..&quot;</td><td>&quot;..&quot;</td><td>&quot;..&quot;</td><td>&quot;..&quot;</td><td>&quot;..&quot;</td><td>&quot;..&quot;</td><td>&quot;..&quot;</td><td>&quot;..&quot;</td><td>&quot;..&quot;</td><td>&quot;..&quot;</td><td>&quot;..&quot;</td><td>&quot;..&quot;</td><td>&quot;..&quot;</td><td>&quot;..&quot;</td><td>&quot;..&quot;</td><td>&quot;..&quot;</td><td>&quot;..&quot;</td><td>&quot;..&quot;</td><td>&quot;..&quot;</td><td>&quot;..&quot;</td><td>&quot;..&quot;</td><td>&quot;..&quot;</td><td>&quot;..&quot;</td><td>&quot;..&quot;</td><td>&quot;..&quot;</td><td>&quot;..&quot;</td><td>&quot;..&quot;</td><td>&quot;..&quot;</td><td>&quot;..&quot;</td><td>&quot;..&quot;</td><td>&quot;..&quot;</td><td>&quot;..&quot;</td><td>&quot;..&quot;</td><td>&quot;..&quot;</td><td>&quot;..&quot;</td><td>&quot;..&quot;</td><td>&quot;..&quot;</td><td>&quot;..&quot;</td><td>&quot;..&quot;</td><td>&quot;..&quot;</td><td>&quot;..&quot;</td><td>&quot;..&quot;</td><td>&quot;..&quot;</td><td>&quot;..&quot;</td><td>&quot;..&quot;</td><td>&quot;..&quot;</td><td>&quot;..&quot;</td><td>&quot;..&quot;</td><td>&quot;..&quot;</td><td>&quot;7.6&quot;</td><td>&quot;..&quot;</td><td>&quot;..&quot;</td><td>&quot;..&quot;</td><td>&quot;..&quot;</td><td>&quot;..&quot;</td><td>&quot;..&quot;</td><td>&quot;..&quot;</td><td>&quot;..&quot;</td><td>&quot;..&quot;</td><td>&quot;10.9&quot;</td><td>&quot;..&quot;</td></tr><tr><td>&hellip;</td><td>&hellip;</td><td>&hellip;</td><td>&hellip;</td><td>&hellip;</td><td>&hellip;</td><td>&hellip;</td><td>&hellip;</td><td>&hellip;</td><td>&hellip;</td><td>&hellip;</td><td>&hellip;</td><td>&hellip;</td><td>&hellip;</td><td>&hellip;</td><td>&hellip;</td><td>&hellip;</td><td>&hellip;</td><td>&hellip;</td><td>&hellip;</td><td>&hellip;</td><td>&hellip;</td><td>&hellip;</td><td>&hellip;</td><td>&hellip;</td><td>&hellip;</td><td>&hellip;</td><td>&hellip;</td><td>&hellip;</td><td>&hellip;</td><td>&hellip;</td><td>&hellip;</td><td>&hellip;</td><td>&hellip;</td><td>&hellip;</td><td>&hellip;</td><td>&hellip;</td><td>&hellip;</td><td>&hellip;</td><td>&hellip;</td><td>&hellip;</td><td>&hellip;</td><td>&hellip;</td><td>&hellip;</td><td>&hellip;</td><td>&hellip;</td><td>&hellip;</td><td>&hellip;</td><td>&hellip;</td><td>&hellip;</td><td>&hellip;</td><td>&hellip;</td><td>&hellip;</td><td>&hellip;</td><td>&hellip;</td><td>&hellip;</td><td>&hellip;</td><td>&hellip;</td><td>&hellip;</td><td>&hellip;</td><td>&hellip;</td><td>&hellip;</td><td>&hellip;</td><td>&hellip;</td><td>&hellip;</td><td>&hellip;</td><td>&hellip;</td></tr><tr><td>null</td><td>null</td><td>null</td><td>null</td><td>null</td><td>null</td><td>null</td><td>null</td><td>null</td><td>null</td><td>null</td><td>null</td><td>null</td><td>null</td><td>null</td><td>null</td><td>null</td><td>null</td><td>null</td><td>null</td><td>null</td><td>null</td><td>null</td><td>null</td><td>null</td><td>null</td><td>null</td><td>null</td><td>null</td><td>null</td><td>null</td><td>null</td><td>null</td><td>null</td><td>null</td><td>null</td><td>null</td><td>null</td><td>null</td><td>null</td><td>null</td><td>null</td><td>null</td><td>null</td><td>null</td><td>null</td><td>null</td><td>null</td><td>null</td><td>null</td><td>null</td><td>null</td><td>null</td><td>null</td><td>null</td><td>null</td><td>null</td><td>null</td><td>null</td><td>null</td><td>null</td><td>null</td><td>null</td><td>null</td><td>null</td><td>null</td><td>null</td></tr><tr><td>null</td><td>null</td><td>null</td><td>null</td><td>null</td><td>null</td><td>null</td><td>null</td><td>null</td><td>null</td><td>null</td><td>null</td><td>null</td><td>null</td><td>null</td><td>null</td><td>null</td><td>null</td><td>null</td><td>null</td><td>null</td><td>null</td><td>null</td><td>null</td><td>null</td><td>null</td><td>null</td><td>null</td><td>null</td><td>null</td><td>null</td><td>null</td><td>null</td><td>null</td><td>null</td><td>null</td><td>null</td><td>null</td><td>null</td><td>null</td><td>null</td><td>null</td><td>null</td><td>null</td><td>null</td><td>null</td><td>null</td><td>null</td><td>null</td><td>null</td><td>null</td><td>null</td><td>null</td><td>null</td><td>null</td><td>null</td><td>null</td><td>null</td><td>null</td><td>null</td><td>null</td><td>null</td><td>null</td><td>null</td><td>null</td><td>null</td><td>null</td></tr><tr><td>null</td><td>null</td><td>null</td><td>null</td><td>null</td><td>null</td><td>null</td><td>null</td><td>null</td><td>null</td><td>null</td><td>null</td><td>null</td><td>null</td><td>null</td><td>null</td><td>null</td><td>null</td><td>null</td><td>null</td><td>null</td><td>null</td><td>null</td><td>null</td><td>null</td><td>null</td><td>null</td><td>null</td><td>null</td><td>null</td><td>null</td><td>null</td><td>null</td><td>null</td><td>null</td><td>null</td><td>null</td><td>null</td><td>null</td><td>null</td><td>null</td><td>null</td><td>null</td><td>null</td><td>null</td><td>null</td><td>null</td><td>null</td><td>null</td><td>null</td><td>null</td><td>null</td><td>null</td><td>null</td><td>null</td><td>null</td><td>null</td><td>null</td><td>null</td><td>null</td><td>null</td><td>null</td><td>null</td><td>null</td><td>null</td><td>null</td><td>null</td></tr><tr><td>&quot;Data from database: World Deve…</td><td>null</td><td>null</td><td>null</td><td>null</td><td>null</td><td>null</td><td>null</td><td>null</td><td>null</td><td>null</td><td>null</td><td>null</td><td>null</td><td>null</td><td>null</td><td>null</td><td>null</td><td>null</td><td>null</td><td>null</td><td>null</td><td>null</td><td>null</td><td>null</td><td>null</td><td>null</td><td>null</td><td>null</td><td>null</td><td>null</td><td>null</td><td>null</td><td>null</td><td>null</td><td>null</td><td>null</td><td>null</td><td>null</td><td>null</td><td>null</td><td>null</td><td>null</td><td>null</td><td>null</td><td>null</td><td>null</td><td>null</td><td>null</td><td>null</td><td>null</td><td>null</td><td>null</td><td>null</td><td>null</td><td>null</td><td>null</td><td>null</td><td>null</td><td>null</td><td>null</td><td>null</td><td>null</td><td>null</td><td>null</td><td>null</td><td>null</td></tr><tr><td>&quot;Last Updated: 10/26/2023&quot;</td><td>null</td><td>null</td><td>null</td><td>null</td><td>null</td><td>null</td><td>null</td><td>null</td><td>null</td><td>null</td><td>null</td><td>null</td><td>null</td><td>null</td><td>null</td><td>null</td><td>null</td><td>null</td><td>null</td><td>null</td><td>null</td><td>null</td><td>null</td><td>null</td><td>null</td><td>null</td><td>null</td><td>null</td><td>null</td><td>null</td><td>null</td><td>null</td><td>null</td><td>null</td><td>null</td><td>null</td><td>null</td><td>null</td><td>null</td><td>null</td><td>null</td><td>null</td><td>null</td><td>null</td><td>null</td><td>null</td><td>null</td><td>null</td><td>null</td><td>null</td><td>null</td><td>null</td><td>null</td><td>null</td><td>null</td><td>null</td><td>null</td><td>null</td><td>null</td><td>null</td><td>null</td><td>null</td><td>null</td><td>null</td><td>null</td><td>null</td></tr></tbody></table></div>"
      ],
      "text/plain": [
       "shape: (10_173, 67)\n",
       "┌────────────┬────────┬────────────┬───────────┬───┬───────────┬───────────┬───────────┬───────────┐\n",
       "│ Country    ┆ Region ┆ Series     ┆ Series    ┆ … ┆ 2019      ┆ 2020      ┆ 2021      ┆ 2022      │\n",
       "│ Name       ┆ ---    ┆ Name       ┆ Code      ┆   ┆ [YR2019]  ┆ [YR2020]  ┆ [YR2021]  ┆ [YR2022]  │\n",
       "│ ---        ┆ str    ┆ ---        ┆ ---       ┆   ┆ ---       ┆ ---       ┆ ---       ┆ ---       │\n",
       "│ str        ┆        ┆ str        ┆ str       ┆   ┆ str       ┆ str       ┆ str       ┆ str       │\n",
       "╞════════════╪════════╪════════════╪═══════════╪═══╪═══════════╪═══════════╪═══════════╪═══════════╡\n",
       "│ Afghanista ┆ Asia   ┆ Diabetes   ┆ SH.STA.DI ┆ … ┆ ..        ┆ ..        ┆ 10.9      ┆ ..        │\n",
       "│ n          ┆        ┆ prevalence ┆ AB.ZS     ┆   ┆           ┆           ┆           ┆           │\n",
       "│            ┆        ┆ (% of      ┆           ┆   ┆           ┆           ┆           ┆           │\n",
       "│            ┆        ┆ popu…      ┆           ┆   ┆           ┆           ┆           ┆           │\n",
       "│ Afghanista ┆ Asia   ┆ Diabetes   ┆ SH.STA.DI ┆ … ┆ ..        ┆ ..        ┆ 10.9      ┆ ..        │\n",
       "│ n          ┆        ┆ prevalence ┆ AB.ZS     ┆   ┆           ┆           ┆           ┆           │\n",
       "│            ┆        ┆ (% of      ┆           ┆   ┆           ┆           ┆           ┆           │\n",
       "│            ┆        ┆ popu…      ┆           ┆   ┆           ┆           ┆           ┆           │\n",
       "│ Afghanista ┆ Asia   ┆ Diabetes   ┆ SH.STA.DI ┆ … ┆ ..        ┆ ..        ┆ 10.9      ┆ ..        │\n",
       "│ n          ┆        ┆ prevalence ┆ AB.ZS     ┆   ┆           ┆           ┆           ┆           │\n",
       "│            ┆        ┆ (% of      ┆           ┆   ┆           ┆           ┆           ┆           │\n",
       "│            ┆        ┆ popu…      ┆           ┆   ┆           ┆           ┆           ┆           │\n",
       "│ Afghanista ┆ Asia   ┆ Diabetes   ┆ SH.STA.DI ┆ … ┆ ..        ┆ ..        ┆ 10.9      ┆ ..        │\n",
       "│ n          ┆        ┆ prevalence ┆ AB.ZS     ┆   ┆           ┆           ┆           ┆           │\n",
       "│            ┆        ┆ (% of      ┆           ┆   ┆           ┆           ┆           ┆           │\n",
       "│            ┆        ┆ popu…      ┆           ┆   ┆           ┆           ┆           ┆           │\n",
       "│ Afghanista ┆ Asia   ┆ Diabetes   ┆ SH.STA.DI ┆ … ┆ ..        ┆ ..        ┆ 10.9      ┆ ..        │\n",
       "│ n          ┆        ┆ prevalence ┆ AB.ZS     ┆   ┆           ┆           ┆           ┆           │\n",
       "│            ┆        ┆ (% of      ┆           ┆   ┆           ┆           ┆           ┆           │\n",
       "│            ┆        ┆ popu…      ┆           ┆   ┆           ┆           ┆           ┆           │\n",
       "│ …          ┆ …      ┆ …          ┆ …         ┆ … ┆ …         ┆ …         ┆ …         ┆ …         │\n",
       "│ null       ┆ null   ┆ null       ┆ null      ┆ … ┆ null      ┆ null      ┆ null      ┆ null      │\n",
       "│ null       ┆ null   ┆ null       ┆ null      ┆ … ┆ null      ┆ null      ┆ null      ┆ null      │\n",
       "│ null       ┆ null   ┆ null       ┆ null      ┆ … ┆ null      ┆ null      ┆ null      ┆ null      │\n",
       "│ Data from  ┆ null   ┆ null       ┆ null      ┆ … ┆ null      ┆ null      ┆ null      ┆ null      │\n",
       "│ database:  ┆        ┆            ┆           ┆   ┆           ┆           ┆           ┆           │\n",
       "│ World      ┆        ┆            ┆           ┆   ┆           ┆           ┆           ┆           │\n",
       "│ Deve…      ┆        ┆            ┆           ┆   ┆           ┆           ┆           ┆           │\n",
       "│ Last       ┆ null   ┆ null       ┆ null      ┆ … ┆ null      ┆ null      ┆ null      ┆ null      │\n",
       "│ Updated:   ┆        ┆            ┆           ┆   ┆           ┆           ┆           ┆           │\n",
       "│ 10/26/2023 ┆        ┆            ┆           ┆   ┆           ┆           ┆           ┆           │\n",
       "└────────────┴────────┴────────────┴───────────┴───┴───────────┴───────────┴───────────┴───────────┘"
      ]
     },
     "execution_count": 140,
     "metadata": {},
     "output_type": "execute_result"
    }
   ],
   "source": [
    "(WB_dev_ind :=\n",
    " pl.read_csv('./data/world_bank_raw_download_F23.csv', infer_schema_length=10000)\n",
    ")"
   ]
  },
  {
   "cell_type": "markdown",
   "id": "ba511487-d143-4160-9ab7-36c4e4276cd5",
   "metadata": {},
   "source": [
    "#### Attempt 3\n",
    "\n",
    "Looks like missing data is expressed as `\"..\"`, let's add that as the `null_value`."
   ]
  },
  {
   "cell_type": "code",
   "execution_count": 141,
   "id": "6ff1055f-ca6a-43c2-9dde-81802a1967f2",
   "metadata": {
    "scrolled": true
   },
   "outputs": [
    {
     "data": {
      "text/html": [
       "<div><style>\n",
       ".dataframe > thead > tr,\n",
       ".dataframe > tbody > tr {\n",
       "  text-align: right;\n",
       "  white-space: pre-wrap;\n",
       "}\n",
       "</style>\n",
       "<small>shape: (10_173, 67)</small><table border=\"1\" class=\"dataframe\"><thead><tr><th>Country Name</th><th>Region</th><th>Series Name</th><th>Series Code</th><th>1960 [YR1960]</th><th>1961 [YR1961]</th><th>1962 [YR1962]</th><th>1963 [YR1963]</th><th>1964 [YR1964]</th><th>1965 [YR1965]</th><th>1966 [YR1966]</th><th>1967 [YR1967]</th><th>1968 [YR1968]</th><th>1969 [YR1969]</th><th>1970 [YR1970]</th><th>1971 [YR1971]</th><th>1972 [YR1972]</th><th>1973 [YR1973]</th><th>1974 [YR1974]</th><th>1975 [YR1975]</th><th>1976 [YR1976]</th><th>1977 [YR1977]</th><th>1978 [YR1978]</th><th>1979 [YR1979]</th><th>1980 [YR1980]</th><th>1981 [YR1981]</th><th>1982 [YR1982]</th><th>1983 [YR1983]</th><th>1984 [YR1984]</th><th>1985 [YR1985]</th><th>1986 [YR1986]</th><th>1987 [YR1987]</th><th>1988 [YR1988]</th><th>1989 [YR1989]</th><th>1990 [YR1990]</th><th>1991 [YR1991]</th><th>1992 [YR1992]</th><th>1993 [YR1993]</th><th>1994 [YR1994]</th><th>1995 [YR1995]</th><th>1996 [YR1996]</th><th>1997 [YR1997]</th><th>1998 [YR1998]</th><th>1999 [YR1999]</th><th>2000 [YR2000]</th><th>2001 [YR2001]</th><th>2002 [YR2002]</th><th>2003 [YR2003]</th><th>2004 [YR2004]</th><th>2005 [YR2005]</th><th>2006 [YR2006]</th><th>2007 [YR2007]</th><th>2008 [YR2008]</th><th>2009 [YR2009]</th><th>2010 [YR2010]</th><th>2011 [YR2011]</th><th>2012 [YR2012]</th><th>2013 [YR2013]</th><th>2014 [YR2014]</th><th>2015 [YR2015]</th><th>2016 [YR2016]</th><th>2017 [YR2017]</th><th>2018 [YR2018]</th><th>2019 [YR2019]</th><th>2020 [YR2020]</th><th>2021 [YR2021]</th><th>2022 [YR2022]</th></tr><tr><td>str</td><td>str</td><td>str</td><td>str</td><td>f64</td><td>f64</td><td>f64</td><td>f64</td><td>f64</td><td>f64</td><td>f64</td><td>f64</td><td>f64</td><td>f64</td><td>f64</td><td>f64</td><td>f64</td><td>f64</td><td>f64</td><td>f64</td><td>f64</td><td>f64</td><td>f64</td><td>f64</td><td>f64</td><td>f64</td><td>f64</td><td>f64</td><td>f64</td><td>f64</td><td>f64</td><td>f64</td><td>f64</td><td>f64</td><td>f64</td><td>f64</td><td>f64</td><td>f64</td><td>f64</td><td>f64</td><td>f64</td><td>f64</td><td>f64</td><td>f64</td><td>f64</td><td>f64</td><td>f64</td><td>f64</td><td>f64</td><td>f64</td><td>f64</td><td>f64</td><td>f64</td><td>f64</td><td>f64</td><td>f64</td><td>f64</td><td>f64</td><td>f64</td><td>f64</td><td>f64</td><td>f64</td><td>f64</td><td>f64</td><td>f64</td><td>f64</td><td>f64</td></tr></thead><tbody><tr><td>&quot;Afghanistan&quot;</td><td>&quot;Asia&quot;</td><td>&quot;Diabetes prevalence (% of popu…</td><td>&quot;SH.STA.DIAB.ZS&quot;</td><td>null</td><td>null</td><td>null</td><td>null</td><td>null</td><td>null</td><td>null</td><td>null</td><td>null</td><td>null</td><td>null</td><td>null</td><td>null</td><td>null</td><td>null</td><td>null</td><td>null</td><td>null</td><td>null</td><td>null</td><td>null</td><td>null</td><td>null</td><td>null</td><td>null</td><td>null</td><td>null</td><td>null</td><td>null</td><td>null</td><td>null</td><td>null</td><td>null</td><td>null</td><td>null</td><td>null</td><td>null</td><td>null</td><td>null</td><td>null</td><td>null</td><td>null</td><td>null</td><td>null</td><td>null</td><td>null</td><td>null</td><td>null</td><td>null</td><td>null</td><td>null</td><td>7.6</td><td>null</td><td>null</td><td>null</td><td>null</td><td>null</td><td>null</td><td>null</td><td>null</td><td>null</td><td>10.9</td><td>null</td></tr><tr><td>&quot;Afghanistan&quot;</td><td>&quot;Asia&quot;</td><td>&quot;Diabetes prevalence (% of popu…</td><td>&quot;SH.STA.DIAB.ZS&quot;</td><td>null</td><td>null</td><td>null</td><td>null</td><td>null</td><td>null</td><td>null</td><td>null</td><td>null</td><td>null</td><td>null</td><td>null</td><td>null</td><td>null</td><td>null</td><td>null</td><td>null</td><td>null</td><td>null</td><td>null</td><td>null</td><td>null</td><td>null</td><td>null</td><td>null</td><td>null</td><td>null</td><td>null</td><td>null</td><td>null</td><td>null</td><td>null</td><td>null</td><td>null</td><td>null</td><td>null</td><td>null</td><td>null</td><td>null</td><td>null</td><td>null</td><td>null</td><td>null</td><td>null</td><td>null</td><td>null</td><td>null</td><td>null</td><td>null</td><td>null</td><td>null</td><td>7.6</td><td>null</td><td>null</td><td>null</td><td>null</td><td>null</td><td>null</td><td>null</td><td>null</td><td>null</td><td>10.9</td><td>null</td></tr><tr><td>&quot;Afghanistan&quot;</td><td>&quot;Asia&quot;</td><td>&quot;Diabetes prevalence (% of popu…</td><td>&quot;SH.STA.DIAB.ZS&quot;</td><td>null</td><td>null</td><td>null</td><td>null</td><td>null</td><td>null</td><td>null</td><td>null</td><td>null</td><td>null</td><td>null</td><td>null</td><td>null</td><td>null</td><td>null</td><td>null</td><td>null</td><td>null</td><td>null</td><td>null</td><td>null</td><td>null</td><td>null</td><td>null</td><td>null</td><td>null</td><td>null</td><td>null</td><td>null</td><td>null</td><td>null</td><td>null</td><td>null</td><td>null</td><td>null</td><td>null</td><td>null</td><td>null</td><td>null</td><td>null</td><td>null</td><td>null</td><td>null</td><td>null</td><td>null</td><td>null</td><td>null</td><td>null</td><td>null</td><td>null</td><td>null</td><td>7.6</td><td>null</td><td>null</td><td>null</td><td>null</td><td>null</td><td>null</td><td>null</td><td>null</td><td>null</td><td>10.9</td><td>null</td></tr><tr><td>&quot;Afghanistan&quot;</td><td>&quot;Asia&quot;</td><td>&quot;Diabetes prevalence (% of popu…</td><td>&quot;SH.STA.DIAB.ZS&quot;</td><td>null</td><td>null</td><td>null</td><td>null</td><td>null</td><td>null</td><td>null</td><td>null</td><td>null</td><td>null</td><td>null</td><td>null</td><td>null</td><td>null</td><td>null</td><td>null</td><td>null</td><td>null</td><td>null</td><td>null</td><td>null</td><td>null</td><td>null</td><td>null</td><td>null</td><td>null</td><td>null</td><td>null</td><td>null</td><td>null</td><td>null</td><td>null</td><td>null</td><td>null</td><td>null</td><td>null</td><td>null</td><td>null</td><td>null</td><td>null</td><td>null</td><td>null</td><td>null</td><td>null</td><td>null</td><td>null</td><td>null</td><td>null</td><td>null</td><td>null</td><td>null</td><td>7.6</td><td>null</td><td>null</td><td>null</td><td>null</td><td>null</td><td>null</td><td>null</td><td>null</td><td>null</td><td>10.9</td><td>null</td></tr><tr><td>&quot;Afghanistan&quot;</td><td>&quot;Asia&quot;</td><td>&quot;Diabetes prevalence (% of popu…</td><td>&quot;SH.STA.DIAB.ZS&quot;</td><td>null</td><td>null</td><td>null</td><td>null</td><td>null</td><td>null</td><td>null</td><td>null</td><td>null</td><td>null</td><td>null</td><td>null</td><td>null</td><td>null</td><td>null</td><td>null</td><td>null</td><td>null</td><td>null</td><td>null</td><td>null</td><td>null</td><td>null</td><td>null</td><td>null</td><td>null</td><td>null</td><td>null</td><td>null</td><td>null</td><td>null</td><td>null</td><td>null</td><td>null</td><td>null</td><td>null</td><td>null</td><td>null</td><td>null</td><td>null</td><td>null</td><td>null</td><td>null</td><td>null</td><td>null</td><td>null</td><td>null</td><td>null</td><td>null</td><td>null</td><td>null</td><td>7.6</td><td>null</td><td>null</td><td>null</td><td>null</td><td>null</td><td>null</td><td>null</td><td>null</td><td>null</td><td>10.9</td><td>null</td></tr><tr><td>&hellip;</td><td>&hellip;</td><td>&hellip;</td><td>&hellip;</td><td>&hellip;</td><td>&hellip;</td><td>&hellip;</td><td>&hellip;</td><td>&hellip;</td><td>&hellip;</td><td>&hellip;</td><td>&hellip;</td><td>&hellip;</td><td>&hellip;</td><td>&hellip;</td><td>&hellip;</td><td>&hellip;</td><td>&hellip;</td><td>&hellip;</td><td>&hellip;</td><td>&hellip;</td><td>&hellip;</td><td>&hellip;</td><td>&hellip;</td><td>&hellip;</td><td>&hellip;</td><td>&hellip;</td><td>&hellip;</td><td>&hellip;</td><td>&hellip;</td><td>&hellip;</td><td>&hellip;</td><td>&hellip;</td><td>&hellip;</td><td>&hellip;</td><td>&hellip;</td><td>&hellip;</td><td>&hellip;</td><td>&hellip;</td><td>&hellip;</td><td>&hellip;</td><td>&hellip;</td><td>&hellip;</td><td>&hellip;</td><td>&hellip;</td><td>&hellip;</td><td>&hellip;</td><td>&hellip;</td><td>&hellip;</td><td>&hellip;</td><td>&hellip;</td><td>&hellip;</td><td>&hellip;</td><td>&hellip;</td><td>&hellip;</td><td>&hellip;</td><td>&hellip;</td><td>&hellip;</td><td>&hellip;</td><td>&hellip;</td><td>&hellip;</td><td>&hellip;</td><td>&hellip;</td><td>&hellip;</td><td>&hellip;</td><td>&hellip;</td><td>&hellip;</td></tr><tr><td>null</td><td>null</td><td>null</td><td>null</td><td>null</td><td>null</td><td>null</td><td>null</td><td>null</td><td>null</td><td>null</td><td>null</td><td>null</td><td>null</td><td>null</td><td>null</td><td>null</td><td>null</td><td>null</td><td>null</td><td>null</td><td>null</td><td>null</td><td>null</td><td>null</td><td>null</td><td>null</td><td>null</td><td>null</td><td>null</td><td>null</td><td>null</td><td>null</td><td>null</td><td>null</td><td>null</td><td>null</td><td>null</td><td>null</td><td>null</td><td>null</td><td>null</td><td>null</td><td>null</td><td>null</td><td>null</td><td>null</td><td>null</td><td>null</td><td>null</td><td>null</td><td>null</td><td>null</td><td>null</td><td>null</td><td>null</td><td>null</td><td>null</td><td>null</td><td>null</td><td>null</td><td>null</td><td>null</td><td>null</td><td>null</td><td>null</td><td>null</td></tr><tr><td>null</td><td>null</td><td>null</td><td>null</td><td>null</td><td>null</td><td>null</td><td>null</td><td>null</td><td>null</td><td>null</td><td>null</td><td>null</td><td>null</td><td>null</td><td>null</td><td>null</td><td>null</td><td>null</td><td>null</td><td>null</td><td>null</td><td>null</td><td>null</td><td>null</td><td>null</td><td>null</td><td>null</td><td>null</td><td>null</td><td>null</td><td>null</td><td>null</td><td>null</td><td>null</td><td>null</td><td>null</td><td>null</td><td>null</td><td>null</td><td>null</td><td>null</td><td>null</td><td>null</td><td>null</td><td>null</td><td>null</td><td>null</td><td>null</td><td>null</td><td>null</td><td>null</td><td>null</td><td>null</td><td>null</td><td>null</td><td>null</td><td>null</td><td>null</td><td>null</td><td>null</td><td>null</td><td>null</td><td>null</td><td>null</td><td>null</td><td>null</td></tr><tr><td>null</td><td>null</td><td>null</td><td>null</td><td>null</td><td>null</td><td>null</td><td>null</td><td>null</td><td>null</td><td>null</td><td>null</td><td>null</td><td>null</td><td>null</td><td>null</td><td>null</td><td>null</td><td>null</td><td>null</td><td>null</td><td>null</td><td>null</td><td>null</td><td>null</td><td>null</td><td>null</td><td>null</td><td>null</td><td>null</td><td>null</td><td>null</td><td>null</td><td>null</td><td>null</td><td>null</td><td>null</td><td>null</td><td>null</td><td>null</td><td>null</td><td>null</td><td>null</td><td>null</td><td>null</td><td>null</td><td>null</td><td>null</td><td>null</td><td>null</td><td>null</td><td>null</td><td>null</td><td>null</td><td>null</td><td>null</td><td>null</td><td>null</td><td>null</td><td>null</td><td>null</td><td>null</td><td>null</td><td>null</td><td>null</td><td>null</td><td>null</td></tr><tr><td>&quot;Data from database: World Deve…</td><td>null</td><td>null</td><td>null</td><td>null</td><td>null</td><td>null</td><td>null</td><td>null</td><td>null</td><td>null</td><td>null</td><td>null</td><td>null</td><td>null</td><td>null</td><td>null</td><td>null</td><td>null</td><td>null</td><td>null</td><td>null</td><td>null</td><td>null</td><td>null</td><td>null</td><td>null</td><td>null</td><td>null</td><td>null</td><td>null</td><td>null</td><td>null</td><td>null</td><td>null</td><td>null</td><td>null</td><td>null</td><td>null</td><td>null</td><td>null</td><td>null</td><td>null</td><td>null</td><td>null</td><td>null</td><td>null</td><td>null</td><td>null</td><td>null</td><td>null</td><td>null</td><td>null</td><td>null</td><td>null</td><td>null</td><td>null</td><td>null</td><td>null</td><td>null</td><td>null</td><td>null</td><td>null</td><td>null</td><td>null</td><td>null</td><td>null</td></tr><tr><td>&quot;Last Updated: 10/26/2023&quot;</td><td>null</td><td>null</td><td>null</td><td>null</td><td>null</td><td>null</td><td>null</td><td>null</td><td>null</td><td>null</td><td>null</td><td>null</td><td>null</td><td>null</td><td>null</td><td>null</td><td>null</td><td>null</td><td>null</td><td>null</td><td>null</td><td>null</td><td>null</td><td>null</td><td>null</td><td>null</td><td>null</td><td>null</td><td>null</td><td>null</td><td>null</td><td>null</td><td>null</td><td>null</td><td>null</td><td>null</td><td>null</td><td>null</td><td>null</td><td>null</td><td>null</td><td>null</td><td>null</td><td>null</td><td>null</td><td>null</td><td>null</td><td>null</td><td>null</td><td>null</td><td>null</td><td>null</td><td>null</td><td>null</td><td>null</td><td>null</td><td>null</td><td>null</td><td>null</td><td>null</td><td>null</td><td>null</td><td>null</td><td>null</td><td>null</td><td>null</td></tr></tbody></table></div>"
      ],
      "text/plain": [
       "shape: (10_173, 67)\n",
       "┌────────────┬────────┬────────────┬───────────┬───┬───────────┬───────────┬───────────┬───────────┐\n",
       "│ Country    ┆ Region ┆ Series     ┆ Series    ┆ … ┆ 2019      ┆ 2020      ┆ 2021      ┆ 2022      │\n",
       "│ Name       ┆ ---    ┆ Name       ┆ Code      ┆   ┆ [YR2019]  ┆ [YR2020]  ┆ [YR2021]  ┆ [YR2022]  │\n",
       "│ ---        ┆ str    ┆ ---        ┆ ---       ┆   ┆ ---       ┆ ---       ┆ ---       ┆ ---       │\n",
       "│ str        ┆        ┆ str        ┆ str       ┆   ┆ f64       ┆ f64       ┆ f64       ┆ f64       │\n",
       "╞════════════╪════════╪════════════╪═══════════╪═══╪═══════════╪═══════════╪═══════════╪═══════════╡\n",
       "│ Afghanista ┆ Asia   ┆ Diabetes   ┆ SH.STA.DI ┆ … ┆ null      ┆ null      ┆ 10.9      ┆ null      │\n",
       "│ n          ┆        ┆ prevalence ┆ AB.ZS     ┆   ┆           ┆           ┆           ┆           │\n",
       "│            ┆        ┆ (% of      ┆           ┆   ┆           ┆           ┆           ┆           │\n",
       "│            ┆        ┆ popu…      ┆           ┆   ┆           ┆           ┆           ┆           │\n",
       "│ Afghanista ┆ Asia   ┆ Diabetes   ┆ SH.STA.DI ┆ … ┆ null      ┆ null      ┆ 10.9      ┆ null      │\n",
       "│ n          ┆        ┆ prevalence ┆ AB.ZS     ┆   ┆           ┆           ┆           ┆           │\n",
       "│            ┆        ┆ (% of      ┆           ┆   ┆           ┆           ┆           ┆           │\n",
       "│            ┆        ┆ popu…      ┆           ┆   ┆           ┆           ┆           ┆           │\n",
       "│ Afghanista ┆ Asia   ┆ Diabetes   ┆ SH.STA.DI ┆ … ┆ null      ┆ null      ┆ 10.9      ┆ null      │\n",
       "│ n          ┆        ┆ prevalence ┆ AB.ZS     ┆   ┆           ┆           ┆           ┆           │\n",
       "│            ┆        ┆ (% of      ┆           ┆   ┆           ┆           ┆           ┆           │\n",
       "│            ┆        ┆ popu…      ┆           ┆   ┆           ┆           ┆           ┆           │\n",
       "│ Afghanista ┆ Asia   ┆ Diabetes   ┆ SH.STA.DI ┆ … ┆ null      ┆ null      ┆ 10.9      ┆ null      │\n",
       "│ n          ┆        ┆ prevalence ┆ AB.ZS     ┆   ┆           ┆           ┆           ┆           │\n",
       "│            ┆        ┆ (% of      ┆           ┆   ┆           ┆           ┆           ┆           │\n",
       "│            ┆        ┆ popu…      ┆           ┆   ┆           ┆           ┆           ┆           │\n",
       "│ Afghanista ┆ Asia   ┆ Diabetes   ┆ SH.STA.DI ┆ … ┆ null      ┆ null      ┆ 10.9      ┆ null      │\n",
       "│ n          ┆        ┆ prevalence ┆ AB.ZS     ┆   ┆           ┆           ┆           ┆           │\n",
       "│            ┆        ┆ (% of      ┆           ┆   ┆           ┆           ┆           ┆           │\n",
       "│            ┆        ┆ popu…      ┆           ┆   ┆           ┆           ┆           ┆           │\n",
       "│ …          ┆ …      ┆ …          ┆ …         ┆ … ┆ …         ┆ …         ┆ …         ┆ …         │\n",
       "│ null       ┆ null   ┆ null       ┆ null      ┆ … ┆ null      ┆ null      ┆ null      ┆ null      │\n",
       "│ null       ┆ null   ┆ null       ┆ null      ┆ … ┆ null      ┆ null      ┆ null      ┆ null      │\n",
       "│ null       ┆ null   ┆ null       ┆ null      ┆ … ┆ null      ┆ null      ┆ null      ┆ null      │\n",
       "│ Data from  ┆ null   ┆ null       ┆ null      ┆ … ┆ null      ┆ null      ┆ null      ┆ null      │\n",
       "│ database:  ┆        ┆            ┆           ┆   ┆           ┆           ┆           ┆           │\n",
       "│ World      ┆        ┆            ┆           ┆   ┆           ┆           ┆           ┆           │\n",
       "│ Deve…      ┆        ┆            ┆           ┆   ┆           ┆           ┆           ┆           │\n",
       "│ Last       ┆ null   ┆ null       ┆ null      ┆ … ┆ null      ┆ null      ┆ null      ┆ null      │\n",
       "│ Updated:   ┆        ┆            ┆           ┆   ┆           ┆           ┆           ┆           │\n",
       "│ 10/26/2023 ┆        ┆            ┆           ┆   ┆           ┆           ┆           ┆           │\n",
       "└────────────┴────────┴────────────┴───────────┴───┴───────────┴───────────┴───────────┴───────────┘"
      ]
     },
     "execution_count": 141,
     "metadata": {},
     "output_type": "execute_result"
    }
   ],
   "source": [
    "(WB_dev_ind :=\n",
    " pl.read_csv('./data/world_bank_raw_download_F23.csv', infer_schema_length=10000, null_values='..')\n",
    ")"
   ]
  },
  {
   "cell_type": "markdown",
   "id": "231e6dfc-7bd6-44a2-860f-cd1e69d195b1",
   "metadata": {},
   "source": [
    "#### Attempt 4 - Removing rows with a null `Series Name`\n",
    "\n",
    "Notice that there are some extra rows at the bottom of the table that don't correspond to a series name/code.  Let's remove these."
   ]
  },
  {
   "cell_type": "code",
   "execution_count": 142,
   "id": "11de7626-38dc-45c7-8d0d-3800cac83f5f",
   "metadata": {},
   "outputs": [
    {
     "data": {
      "text/html": [
       "<div><style>\n",
       ".dataframe > thead > tr,\n",
       ".dataframe > tbody > tr {\n",
       "  text-align: right;\n",
       "  white-space: pre-wrap;\n",
       "}\n",
       "</style>\n",
       "<small>shape: (10_168, 67)</small><table border=\"1\" class=\"dataframe\"><thead><tr><th>Country Name</th><th>Region</th><th>Series Name</th><th>Series Code</th><th>1960 [YR1960]</th><th>1961 [YR1961]</th><th>1962 [YR1962]</th><th>1963 [YR1963]</th><th>1964 [YR1964]</th><th>1965 [YR1965]</th><th>1966 [YR1966]</th><th>1967 [YR1967]</th><th>1968 [YR1968]</th><th>1969 [YR1969]</th><th>1970 [YR1970]</th><th>1971 [YR1971]</th><th>1972 [YR1972]</th><th>1973 [YR1973]</th><th>1974 [YR1974]</th><th>1975 [YR1975]</th><th>1976 [YR1976]</th><th>1977 [YR1977]</th><th>1978 [YR1978]</th><th>1979 [YR1979]</th><th>1980 [YR1980]</th><th>1981 [YR1981]</th><th>1982 [YR1982]</th><th>1983 [YR1983]</th><th>1984 [YR1984]</th><th>1985 [YR1985]</th><th>1986 [YR1986]</th><th>1987 [YR1987]</th><th>1988 [YR1988]</th><th>1989 [YR1989]</th><th>1990 [YR1990]</th><th>1991 [YR1991]</th><th>1992 [YR1992]</th><th>1993 [YR1993]</th><th>1994 [YR1994]</th><th>1995 [YR1995]</th><th>1996 [YR1996]</th><th>1997 [YR1997]</th><th>1998 [YR1998]</th><th>1999 [YR1999]</th><th>2000 [YR2000]</th><th>2001 [YR2001]</th><th>2002 [YR2002]</th><th>2003 [YR2003]</th><th>2004 [YR2004]</th><th>2005 [YR2005]</th><th>2006 [YR2006]</th><th>2007 [YR2007]</th><th>2008 [YR2008]</th><th>2009 [YR2009]</th><th>2010 [YR2010]</th><th>2011 [YR2011]</th><th>2012 [YR2012]</th><th>2013 [YR2013]</th><th>2014 [YR2014]</th><th>2015 [YR2015]</th><th>2016 [YR2016]</th><th>2017 [YR2017]</th><th>2018 [YR2018]</th><th>2019 [YR2019]</th><th>2020 [YR2020]</th><th>2021 [YR2021]</th><th>2022 [YR2022]</th></tr><tr><td>str</td><td>str</td><td>str</td><td>str</td><td>f64</td><td>f64</td><td>f64</td><td>f64</td><td>f64</td><td>f64</td><td>f64</td><td>f64</td><td>f64</td><td>f64</td><td>f64</td><td>f64</td><td>f64</td><td>f64</td><td>f64</td><td>f64</td><td>f64</td><td>f64</td><td>f64</td><td>f64</td><td>f64</td><td>f64</td><td>f64</td><td>f64</td><td>f64</td><td>f64</td><td>f64</td><td>f64</td><td>f64</td><td>f64</td><td>f64</td><td>f64</td><td>f64</td><td>f64</td><td>f64</td><td>f64</td><td>f64</td><td>f64</td><td>f64</td><td>f64</td><td>f64</td><td>f64</td><td>f64</td><td>f64</td><td>f64</td><td>f64</td><td>f64</td><td>f64</td><td>f64</td><td>f64</td><td>f64</td><td>f64</td><td>f64</td><td>f64</td><td>f64</td><td>f64</td><td>f64</td><td>f64</td><td>f64</td><td>f64</td><td>f64</td><td>f64</td><td>f64</td></tr></thead><tbody><tr><td>&quot;Afghanistan&quot;</td><td>&quot;Asia&quot;</td><td>&quot;Diabetes prevalence (% of popu…</td><td>&quot;SH.STA.DIAB.ZS&quot;</td><td>null</td><td>null</td><td>null</td><td>null</td><td>null</td><td>null</td><td>null</td><td>null</td><td>null</td><td>null</td><td>null</td><td>null</td><td>null</td><td>null</td><td>null</td><td>null</td><td>null</td><td>null</td><td>null</td><td>null</td><td>null</td><td>null</td><td>null</td><td>null</td><td>null</td><td>null</td><td>null</td><td>null</td><td>null</td><td>null</td><td>null</td><td>null</td><td>null</td><td>null</td><td>null</td><td>null</td><td>null</td><td>null</td><td>null</td><td>null</td><td>null</td><td>null</td><td>null</td><td>null</td><td>null</td><td>null</td><td>null</td><td>null</td><td>null</td><td>null</td><td>null</td><td>7.6</td><td>null</td><td>null</td><td>null</td><td>null</td><td>null</td><td>null</td><td>null</td><td>null</td><td>null</td><td>10.9</td><td>null</td></tr><tr><td>&quot;Afghanistan&quot;</td><td>&quot;Asia&quot;</td><td>&quot;Diabetes prevalence (% of popu…</td><td>&quot;SH.STA.DIAB.ZS&quot;</td><td>null</td><td>null</td><td>null</td><td>null</td><td>null</td><td>null</td><td>null</td><td>null</td><td>null</td><td>null</td><td>null</td><td>null</td><td>null</td><td>null</td><td>null</td><td>null</td><td>null</td><td>null</td><td>null</td><td>null</td><td>null</td><td>null</td><td>null</td><td>null</td><td>null</td><td>null</td><td>null</td><td>null</td><td>null</td><td>null</td><td>null</td><td>null</td><td>null</td><td>null</td><td>null</td><td>null</td><td>null</td><td>null</td><td>null</td><td>null</td><td>null</td><td>null</td><td>null</td><td>null</td><td>null</td><td>null</td><td>null</td><td>null</td><td>null</td><td>null</td><td>null</td><td>7.6</td><td>null</td><td>null</td><td>null</td><td>null</td><td>null</td><td>null</td><td>null</td><td>null</td><td>null</td><td>10.9</td><td>null</td></tr><tr><td>&quot;Afghanistan&quot;</td><td>&quot;Asia&quot;</td><td>&quot;Diabetes prevalence (% of popu…</td><td>&quot;SH.STA.DIAB.ZS&quot;</td><td>null</td><td>null</td><td>null</td><td>null</td><td>null</td><td>null</td><td>null</td><td>null</td><td>null</td><td>null</td><td>null</td><td>null</td><td>null</td><td>null</td><td>null</td><td>null</td><td>null</td><td>null</td><td>null</td><td>null</td><td>null</td><td>null</td><td>null</td><td>null</td><td>null</td><td>null</td><td>null</td><td>null</td><td>null</td><td>null</td><td>null</td><td>null</td><td>null</td><td>null</td><td>null</td><td>null</td><td>null</td><td>null</td><td>null</td><td>null</td><td>null</td><td>null</td><td>null</td><td>null</td><td>null</td><td>null</td><td>null</td><td>null</td><td>null</td><td>null</td><td>null</td><td>7.6</td><td>null</td><td>null</td><td>null</td><td>null</td><td>null</td><td>null</td><td>null</td><td>null</td><td>null</td><td>10.9</td><td>null</td></tr><tr><td>&quot;Afghanistan&quot;</td><td>&quot;Asia&quot;</td><td>&quot;Diabetes prevalence (% of popu…</td><td>&quot;SH.STA.DIAB.ZS&quot;</td><td>null</td><td>null</td><td>null</td><td>null</td><td>null</td><td>null</td><td>null</td><td>null</td><td>null</td><td>null</td><td>null</td><td>null</td><td>null</td><td>null</td><td>null</td><td>null</td><td>null</td><td>null</td><td>null</td><td>null</td><td>null</td><td>null</td><td>null</td><td>null</td><td>null</td><td>null</td><td>null</td><td>null</td><td>null</td><td>null</td><td>null</td><td>null</td><td>null</td><td>null</td><td>null</td><td>null</td><td>null</td><td>null</td><td>null</td><td>null</td><td>null</td><td>null</td><td>null</td><td>null</td><td>null</td><td>null</td><td>null</td><td>null</td><td>null</td><td>null</td><td>null</td><td>7.6</td><td>null</td><td>null</td><td>null</td><td>null</td><td>null</td><td>null</td><td>null</td><td>null</td><td>null</td><td>10.9</td><td>null</td></tr><tr><td>&quot;Afghanistan&quot;</td><td>&quot;Asia&quot;</td><td>&quot;Diabetes prevalence (% of popu…</td><td>&quot;SH.STA.DIAB.ZS&quot;</td><td>null</td><td>null</td><td>null</td><td>null</td><td>null</td><td>null</td><td>null</td><td>null</td><td>null</td><td>null</td><td>null</td><td>null</td><td>null</td><td>null</td><td>null</td><td>null</td><td>null</td><td>null</td><td>null</td><td>null</td><td>null</td><td>null</td><td>null</td><td>null</td><td>null</td><td>null</td><td>null</td><td>null</td><td>null</td><td>null</td><td>null</td><td>null</td><td>null</td><td>null</td><td>null</td><td>null</td><td>null</td><td>null</td><td>null</td><td>null</td><td>null</td><td>null</td><td>null</td><td>null</td><td>null</td><td>null</td><td>null</td><td>null</td><td>null</td><td>null</td><td>null</td><td>7.6</td><td>null</td><td>null</td><td>null</td><td>null</td><td>null</td><td>null</td><td>null</td><td>null</td><td>null</td><td>10.9</td><td>null</td></tr><tr><td>&hellip;</td><td>&hellip;</td><td>&hellip;</td><td>&hellip;</td><td>&hellip;</td><td>&hellip;</td><td>&hellip;</td><td>&hellip;</td><td>&hellip;</td><td>&hellip;</td><td>&hellip;</td><td>&hellip;</td><td>&hellip;</td><td>&hellip;</td><td>&hellip;</td><td>&hellip;</td><td>&hellip;</td><td>&hellip;</td><td>&hellip;</td><td>&hellip;</td><td>&hellip;</td><td>&hellip;</td><td>&hellip;</td><td>&hellip;</td><td>&hellip;</td><td>&hellip;</td><td>&hellip;</td><td>&hellip;</td><td>&hellip;</td><td>&hellip;</td><td>&hellip;</td><td>&hellip;</td><td>&hellip;</td><td>&hellip;</td><td>&hellip;</td><td>&hellip;</td><td>&hellip;</td><td>&hellip;</td><td>&hellip;</td><td>&hellip;</td><td>&hellip;</td><td>&hellip;</td><td>&hellip;</td><td>&hellip;</td><td>&hellip;</td><td>&hellip;</td><td>&hellip;</td><td>&hellip;</td><td>&hellip;</td><td>&hellip;</td><td>&hellip;</td><td>&hellip;</td><td>&hellip;</td><td>&hellip;</td><td>&hellip;</td><td>&hellip;</td><td>&hellip;</td><td>&hellip;</td><td>&hellip;</td><td>&hellip;</td><td>&hellip;</td><td>&hellip;</td><td>&hellip;</td><td>&hellip;</td><td>&hellip;</td><td>&hellip;</td><td>&hellip;</td></tr><tr><td>&quot;World&quot;</td><td>null</td><td>&quot;Rural population&quot;</td><td>&quot;SP.RUR.TOTL&quot;</td><td>2.0122e9</td><td>2.0244e9</td><td>2.0468e9</td><td>2.0783e9</td><td>2.1094e9</td><td>2.1460e9</td><td>2.1846e9</td><td>2.2221e9</td><td>2.2607e9</td><td>2.3011e9</td><td>2.3423e9</td><td>2.3840e9</td><td>2.4237e9</td><td>2.4628e9</td><td>2.4999e9</td><td>2.5368e9</td><td>2.5716e9</td><td>2.6055e9</td><td>2.6368e9</td><td>2.6659e9</td><td>2.6942e9</td><td>2.7227e9</td><td>2.7545e9</td><td>2.7876e9</td><td>2.8194e9</td><td>2.8513e9</td><td>2.8839e9</td><td>2.9170e9</td><td>2.9500e9</td><td>2.9829e9</td><td>3.0160e9</td><td>3.0469e9</td><td>3.0766e9</td><td>3.1053e9</td><td>3.1326e9</td><td>3.1590e9</td><td>3.1851e9</td><td>3.2100e9</td><td>3.2336e9</td><td>3.2559e9</td><td>3.2766e9</td><td>3.2926e9</td><td>3.3050e9</td><td>3.3163e9</td><td>3.3263e9</td><td>3.3352e9</td><td>3.3440e9</td><td>3.3525e9</td><td>3.3599e9</td><td>3.3672e9</td><td>3.3743e9</td><td>3.3835e9</td><td>3.3941e9</td><td>3.4037e9</td><td>3.4118e9</td><td>3.4182e9</td><td>3.4239e9</td><td>3.4290e9</td><td>3.4325e9</td><td>3.4346e9</td><td>3.4354e9</td><td>3.4324e9</td><td>3.4263e9</td></tr><tr><td>&quot;World&quot;</td><td>null</td><td>&quot;Urban population&quot;</td><td>&quot;SP.URB.TOTL&quot;</td><td>1.0183e9</td><td>1.0470e9</td><td>1.0791e9</td><td>1.1141e9</td><td>1.1500e9</td><td>1.1811e9</td><td>1.2128e9</td><td>1.2451e9</td><td>1.2783e9</td><td>1.3122e9</td><td>1.3467e9</td><td>1.3826e9</td><td>1.4186e9</td><td>1.4559e9</td><td>1.4947e9</td><td>1.5318e9</td><td>1.5701e9</td><td>1.6089e9</td><td>1.6515e9</td><td>1.6984e9</td><td>1.7466e9</td><td>1.7967e9</td><td>1.8466e9</td><td>1.8956e9</td><td>1.9456e9</td><td>1.9970e9</td><td>2.0504e9</td><td>2.1055e9</td><td>2.1616e9</td><td>2.2178e9</td><td>2.2756e9</td><td>2.3337e9</td><td>2.3916e9</td><td>2.4493e9</td><td>2.5074e9</td><td>2.5656e9</td><td>2.6244e9</td><td>2.6839e9</td><td>2.7441e9</td><td>2.8046e9</td><td>2.8660e9</td><td>2.9320e9</td><td>3.0014e9</td><td>3.0715e9</td><td>3.1429e9</td><td>3.2157e9</td><td>3.2894e9</td><td>3.3636e9</td><td>3.4400e9</td><td>3.5169e9</td><td>3.5940e9</td><td>3.6686e9</td><td>3.7455e9</td><td>3.8242e9</td><td>3.9043e9</td><td>3.9853e9</td><td>4.0664e9</td><td>4.1474e9</td><td>4.2274e9</td><td>4.3063e9</td><td>4.3837e9</td><td>4.4539e9</td><td>4.5231e9</td></tr><tr><td>&quot;World&quot;</td><td>null</td><td>&quot;CO2 emissions (kt)&quot;</td><td>&quot;EN.ATM.CO2E.KT&quot;</td><td>null</td><td>null</td><td>null</td><td>null</td><td>null</td><td>null</td><td>null</td><td>null</td><td>null</td><td>null</td><td>null</td><td>null</td><td>null</td><td>null</td><td>null</td><td>null</td><td>null</td><td>null</td><td>null</td><td>null</td><td>null</td><td>null</td><td>null</td><td>null</td><td>null</td><td>null</td><td>null</td><td>null</td><td>null</td><td>null</td><td>2.1284e7</td><td>2.1440e7</td><td>2.1390e7</td><td>2.1532e7</td><td>2.1677e7</td><td>2.2299e7</td><td>2.2779e7</td><td>2.3203e7</td><td>2.3366e7</td><td>2.3530e7</td><td>2.4280e7</td><td>2.4644e7</td><td>2.4990e7</td><td>2.6133e7</td><td>2.7332e7</td><td>2.8372e7</td><td>2.9308e7</td><td>3.0419e7</td><td>3.0632e7</td><td>3.0238e7</td><td>3.2096e7</td><td>3.3080e7</td><td>3.3460e7</td><td>3.4120e7</td><td>3.4261e7</td><td>3.4070e7</td><td>3.4146e7</td><td>3.4688e7</td><td>3.5561e7</td><td>3.5477e7</td><td>3.3566e7</td><td>null</td><td>null</td></tr><tr><td>&quot;World&quot;</td><td>null</td><td>&quot;Adolescent fertility rate (bir…</td><td>&quot;SP.ADO.TFRT&quot;</td><td>91.748048</td><td>90.692445</td><td>94.138599</td><td>95.977382</td><td>91.732784</td><td>89.285728</td><td>87.201738</td><td>84.5266</td><td>85.594114</td><td>85.010166</td><td>84.750717</td><td>84.645394</td><td>83.463033</td><td>82.905935</td><td>82.786104</td><td>81.86678</td><td>81.784936</td><td>79.347406</td><td>77.332245</td><td>76.727103</td><td>75.603382</td><td>75.696488</td><td>76.842785</td><td>76.598129</td><td>76.603095</td><td>76.050318</td><td>75.408671</td><td>72.901563</td><td>73.311004</td><td>73.851735</td><td>73.791261</td><td>74.656674</td><td>73.885417</td><td>73.376407</td><td>72.666378</td><td>71.666689</td><td>69.551847</td><td>67.726505</td><td>66.758498</td><td>65.452044</td><td>64.43683</td><td>63.825338</td><td>61.907368</td><td>60.069875</td><td>57.055993</td><td>53.385806</td><td>51.88069</td><td>51.890943</td><td>52.966351</td><td>51.994128</td><td>52.023991</td><td>51.659622</td><td>51.43433</td><td>51.199118</td><td>50.806674</td><td>47.189771</td><td>45.659168</td><td>44.917716</td><td>44.070807</td><td>43.372848</td><td>42.745881</td><td>42.479374</td><td>null</td></tr><tr><td>&quot;World&quot;</td><td>null</td><td>&quot;GDP (constant 2015 US$)&quot;</td><td>&quot;NY.GDP.MKTP.KD&quot;</td><td>1.0938e13</td><td>1.1353e13</td><td>1.1956e13</td><td>1.2576e13</td><td>1.3400e13</td><td>1.4144e13</td><td>1.4952e13</td><td>1.5573e13</td><td>1.6498e13</td><td>1.7458e13</td><td>1.8149e13</td><td>1.8925e13</td><td>1.9988e13</td><td>2.1269e13</td><td>2.1651e13</td><td>2.1789e13</td><td>2.2944e13</td><td>2.3885e13</td><td>2.4873e13</td><td>2.5912e13</td><td>2.6396e13</td><td>2.6911e13</td><td>2.6993e13</td><td>2.7701e13</td><td>2.9006e13</td><td>3.0085e13</td><td>3.1107e13</td><td>3.2272e13</td><td>3.3768e13</td><td>3.5019e13</td><td>3.5999e13</td><td>3.6493e13</td><td>3.7237e13</td><td>3.7925e13</td><td>3.9190e13</td><td>4.0398e13</td><td>4.1831e13</td><td>4.3460e13</td><td>4.4686e13</td><td>4.6273e13</td><td>4.8363e13</td><td>4.9335e13</td><td>5.0472e13</td><td>5.2042e13</td><td>5.4369e13</td><td>5.6547e13</td><td>5.9047e13</td><td>6.1634e13</td><td>6.2910e13</td><td>6.2066e13</td><td>6.4884e13</td><td>6.7039e13</td><td>6.8856e13</td><td>7.0790e13</td><td>7.2966e13</td><td>7.5215e13</td><td>7.7328e13</td><td>7.9949e13</td><td>8.2578e13</td><td>8.4720e13</td><td>8.2117e13</td><td>8.7064e13</td><td>8.9746e13</td></tr></tbody></table></div>"
      ],
      "text/plain": [
       "shape: (10_168, 67)\n",
       "┌────────────┬────────┬────────────┬───────────┬───┬───────────┬───────────┬───────────┬───────────┐\n",
       "│ Country    ┆ Region ┆ Series     ┆ Series    ┆ … ┆ 2019      ┆ 2020      ┆ 2021      ┆ 2022      │\n",
       "│ Name       ┆ ---    ┆ Name       ┆ Code      ┆   ┆ [YR2019]  ┆ [YR2020]  ┆ [YR2021]  ┆ [YR2022]  │\n",
       "│ ---        ┆ str    ┆ ---        ┆ ---       ┆   ┆ ---       ┆ ---       ┆ ---       ┆ ---       │\n",
       "│ str        ┆        ┆ str        ┆ str       ┆   ┆ f64       ┆ f64       ┆ f64       ┆ f64       │\n",
       "╞════════════╪════════╪════════════╪═══════════╪═══╪═══════════╪═══════════╪═══════════╪═══════════╡\n",
       "│ Afghanista ┆ Asia   ┆ Diabetes   ┆ SH.STA.DI ┆ … ┆ null      ┆ null      ┆ 10.9      ┆ null      │\n",
       "│ n          ┆        ┆ prevalence ┆ AB.ZS     ┆   ┆           ┆           ┆           ┆           │\n",
       "│            ┆        ┆ (% of      ┆           ┆   ┆           ┆           ┆           ┆           │\n",
       "│            ┆        ┆ popu…      ┆           ┆   ┆           ┆           ┆           ┆           │\n",
       "│ Afghanista ┆ Asia   ┆ Diabetes   ┆ SH.STA.DI ┆ … ┆ null      ┆ null      ┆ 10.9      ┆ null      │\n",
       "│ n          ┆        ┆ prevalence ┆ AB.ZS     ┆   ┆           ┆           ┆           ┆           │\n",
       "│            ┆        ┆ (% of      ┆           ┆   ┆           ┆           ┆           ┆           │\n",
       "│            ┆        ┆ popu…      ┆           ┆   ┆           ┆           ┆           ┆           │\n",
       "│ Afghanista ┆ Asia   ┆ Diabetes   ┆ SH.STA.DI ┆ … ┆ null      ┆ null      ┆ 10.9      ┆ null      │\n",
       "│ n          ┆        ┆ prevalence ┆ AB.ZS     ┆   ┆           ┆           ┆           ┆           │\n",
       "│            ┆        ┆ (% of      ┆           ┆   ┆           ┆           ┆           ┆           │\n",
       "│            ┆        ┆ popu…      ┆           ┆   ┆           ┆           ┆           ┆           │\n",
       "│ Afghanista ┆ Asia   ┆ Diabetes   ┆ SH.STA.DI ┆ … ┆ null      ┆ null      ┆ 10.9      ┆ null      │\n",
       "│ n          ┆        ┆ prevalence ┆ AB.ZS     ┆   ┆           ┆           ┆           ┆           │\n",
       "│            ┆        ┆ (% of      ┆           ┆   ┆           ┆           ┆           ┆           │\n",
       "│            ┆        ┆ popu…      ┆           ┆   ┆           ┆           ┆           ┆           │\n",
       "│ Afghanista ┆ Asia   ┆ Diabetes   ┆ SH.STA.DI ┆ … ┆ null      ┆ null      ┆ 10.9      ┆ null      │\n",
       "│ n          ┆        ┆ prevalence ┆ AB.ZS     ┆   ┆           ┆           ┆           ┆           │\n",
       "│            ┆        ┆ (% of      ┆           ┆   ┆           ┆           ┆           ┆           │\n",
       "│            ┆        ┆ popu…      ┆           ┆   ┆           ┆           ┆           ┆           │\n",
       "│ …          ┆ …      ┆ …          ┆ …         ┆ … ┆ …         ┆ …         ┆ …         ┆ …         │\n",
       "│ World      ┆ null   ┆ Rural      ┆ SP.RUR.TO ┆ … ┆ 3.4346e9  ┆ 3.4354e9  ┆ 3.4324e9  ┆ 3.4263e9  │\n",
       "│            ┆        ┆ population ┆ TL        ┆   ┆           ┆           ┆           ┆           │\n",
       "│ World      ┆ null   ┆ Urban      ┆ SP.URB.TO ┆ … ┆ 4.3063e9  ┆ 4.3837e9  ┆ 4.4539e9  ┆ 4.5231e9  │\n",
       "│            ┆        ┆ population ┆ TL        ┆   ┆           ┆           ┆           ┆           │\n",
       "│ World      ┆ null   ┆ CO2        ┆ EN.ATM.CO ┆ … ┆ 3.5477e7  ┆ 3.3566e7  ┆ null      ┆ null      │\n",
       "│            ┆        ┆ emissions  ┆ 2E.KT     ┆   ┆           ┆           ┆           ┆           │\n",
       "│            ┆        ┆ (kt)       ┆           ┆   ┆           ┆           ┆           ┆           │\n",
       "│ World      ┆ null   ┆ Adolescent ┆ SP.ADO.TF ┆ … ┆ 43.372848 ┆ 42.745881 ┆ 42.479374 ┆ null      │\n",
       "│            ┆        ┆ fertility  ┆ RT        ┆   ┆           ┆           ┆           ┆           │\n",
       "│            ┆        ┆ rate (bir… ┆           ┆   ┆           ┆           ┆           ┆           │\n",
       "│ World      ┆ null   ┆ GDP        ┆ NY.GDP.MK ┆ … ┆ 8.4720e13 ┆ 8.2117e13 ┆ 8.7064e13 ┆ 8.9746e13 │\n",
       "│            ┆        ┆ (constant  ┆ TP.KD     ┆   ┆           ┆           ┆           ┆           │\n",
       "│            ┆        ┆ 2015 US$)  ┆           ┆   ┆           ┆           ┆           ┆           │\n",
       "└────────────┴────────┴────────────┴───────────┴───┴───────────┴───────────┴───────────┴───────────┘"
      ]
     },
     "execution_count": 142,
     "metadata": {},
     "output_type": "execute_result"
    }
   ],
   "source": [
    "(WB_dev_ind :=\n",
    " pl.read_csv('./data/world_bank_raw_download_F23.csv', infer_schema_length=10000, null_values='..')\n",
    " .filter(pl.col(\"Series Name\").is_not_null())\n",
    ")"
   ]
  },
  {
   "cell_type": "markdown",
   "id": "03fbd022-5ab1-4022-9596-8362dc4769ef",
   "metadata": {},
   "source": [
    "## `polars` Column Selectors\n",
    "\n",
    "Allow column selection based on\n",
    "\n",
    "- name,\n",
    "- index,\n",
    "- type, or\n",
    "- other useful helper functions like `contains`, `starts_with`, or `matches`"
   ]
  },
  {
   "cell_type": "markdown",
   "id": "0803bb9d-21ff-4aff-b09f-b489e9788a31",
   "metadata": {},
   "source": [
    "#### Example - Selecting by name"
   ]
  },
  {
   "cell_type": "code",
   "execution_count": 63,
   "id": "b08cc5a9-ff85-41ad-8a96-2687834fa7eb",
   "metadata": {
    "scrolled": true
   },
   "outputs": [
    {
     "data": {
      "text/html": [
       "<div><style>\n",
       ".dataframe > thead > tr,\n",
       ".dataframe > tbody > tr {\n",
       "  text-align: right;\n",
       "  white-space: pre-wrap;\n",
       "}\n",
       "</style>\n",
       "<small>shape: (5, 2)</small><table border=\"1\" class=\"dataframe\"><thead><tr><th>Series Name</th><th>Series Code</th></tr><tr><td>str</td><td>str</td></tr></thead><tbody><tr><td>&quot;Diabetes prevalence (% of popu…</td><td>&quot;SH.STA.DIAB.ZS&quot;</td></tr><tr><td>&quot;Diabetes prevalence (% of popu…</td><td>&quot;SH.STA.DIAB.ZS&quot;</td></tr><tr><td>&quot;Diabetes prevalence (% of popu…</td><td>&quot;SH.STA.DIAB.ZS&quot;</td></tr><tr><td>&quot;Diabetes prevalence (% of popu…</td><td>&quot;SH.STA.DIAB.ZS&quot;</td></tr><tr><td>&quot;Diabetes prevalence (% of popu…</td><td>&quot;SH.STA.DIAB.ZS&quot;</td></tr></tbody></table></div>"
      ],
      "text/plain": [
       "shape: (5, 2)\n",
       "┌─────────────────────────────────┬────────────────┐\n",
       "│ Series Name                     ┆ Series Code    │\n",
       "│ ---                             ┆ ---            │\n",
       "│ str                             ┆ str            │\n",
       "╞═════════════════════════════════╪════════════════╡\n",
       "│ Diabetes prevalence (% of popu… ┆ SH.STA.DIAB.ZS │\n",
       "│ Diabetes prevalence (% of popu… ┆ SH.STA.DIAB.ZS │\n",
       "│ Diabetes prevalence (% of popu… ┆ SH.STA.DIAB.ZS │\n",
       "│ Diabetes prevalence (% of popu… ┆ SH.STA.DIAB.ZS │\n",
       "│ Diabetes prevalence (% of popu… ┆ SH.STA.DIAB.ZS │\n",
       "└─────────────────────────────────┴────────────────┘"
      ]
     },
     "execution_count": 63,
     "metadata": {},
     "output_type": "execute_result"
    }
   ],
   "source": [
    "(WB_dev_ind\n",
    " .select(cs.by_name(\"Series Name\", \"Series Code\"))\n",
    ").head()"
   ]
  },
  {
   "cell_type": "markdown",
   "id": "59ac1afb-63e6-4666-8fe7-2e7794c65c05",
   "metadata": {},
   "source": [
    "#### Example - Selecting by index"
   ]
  },
  {
   "cell_type": "code",
   "execution_count": 64,
   "id": "60e19443-0e26-45a4-a045-d204a123e75d",
   "metadata": {
    "scrolled": true
   },
   "outputs": [
    {
     "data": {
      "text/html": [
       "<div><style>\n",
       ".dataframe > thead > tr,\n",
       ".dataframe > tbody > tr {\n",
       "  text-align: right;\n",
       "  white-space: pre-wrap;\n",
       "}\n",
       "</style>\n",
       "<small>shape: (5, 4)</small><table border=\"1\" class=\"dataframe\"><thead><tr><th>Region</th><th>Series Name</th><th>Series Code</th><th>1960 [YR1960]</th></tr><tr><td>str</td><td>str</td><td>str</td><td>f64</td></tr></thead><tbody><tr><td>&quot;Asia&quot;</td><td>&quot;Diabetes prevalence (% of popu…</td><td>&quot;SH.STA.DIAB.ZS&quot;</td><td>null</td></tr><tr><td>&quot;Asia&quot;</td><td>&quot;Diabetes prevalence (% of popu…</td><td>&quot;SH.STA.DIAB.ZS&quot;</td><td>null</td></tr><tr><td>&quot;Asia&quot;</td><td>&quot;Diabetes prevalence (% of popu…</td><td>&quot;SH.STA.DIAB.ZS&quot;</td><td>null</td></tr><tr><td>&quot;Asia&quot;</td><td>&quot;Diabetes prevalence (% of popu…</td><td>&quot;SH.STA.DIAB.ZS&quot;</td><td>null</td></tr><tr><td>&quot;Asia&quot;</td><td>&quot;Diabetes prevalence (% of popu…</td><td>&quot;SH.STA.DIAB.ZS&quot;</td><td>null</td></tr></tbody></table></div>"
      ],
      "text/plain": [
       "shape: (5, 4)\n",
       "┌────────┬─────────────────────────────────┬────────────────┬───────────────┐\n",
       "│ Region ┆ Series Name                     ┆ Series Code    ┆ 1960 [YR1960] │\n",
       "│ ---    ┆ ---                             ┆ ---            ┆ ---           │\n",
       "│ str    ┆ str                             ┆ str            ┆ f64           │\n",
       "╞════════╪═════════════════════════════════╪════════════════╪═══════════════╡\n",
       "│ Asia   ┆ Diabetes prevalence (% of popu… ┆ SH.STA.DIAB.ZS ┆ null          │\n",
       "│ Asia   ┆ Diabetes prevalence (% of popu… ┆ SH.STA.DIAB.ZS ┆ null          │\n",
       "│ Asia   ┆ Diabetes prevalence (% of popu… ┆ SH.STA.DIAB.ZS ┆ null          │\n",
       "│ Asia   ┆ Diabetes prevalence (% of popu… ┆ SH.STA.DIAB.ZS ┆ null          │\n",
       "│ Asia   ┆ Diabetes prevalence (% of popu… ┆ SH.STA.DIAB.ZS ┆ null          │\n",
       "└────────┴─────────────────────────────────┴────────────────┴───────────────┘"
      ]
     },
     "execution_count": 64,
     "metadata": {},
     "output_type": "execute_result"
    }
   ],
   "source": [
    "(WB_dev_ind\n",
    " .select(cs.by_index(range(1,5)))\n",
    ").head()"
   ]
  },
  {
   "cell_type": "markdown",
   "id": "b10a3a2b-af77-4c8f-a047-098c50475509",
   "metadata": {},
   "source": [
    "#### Example - Selecting all string columns."
   ]
  },
  {
   "cell_type": "code",
   "execution_count": 65,
   "id": "2137bad9-bdcb-4b62-b426-cfb6a6f01898",
   "metadata": {
    "scrolled": true
   },
   "outputs": [
    {
     "data": {
      "text/html": [
       "<div><style>\n",
       ".dataframe > thead > tr,\n",
       ".dataframe > tbody > tr {\n",
       "  text-align: right;\n",
       "  white-space: pre-wrap;\n",
       "}\n",
       "</style>\n",
       "<small>shape: (5, 4)</small><table border=\"1\" class=\"dataframe\"><thead><tr><th>Country Name</th><th>Region</th><th>Series Name</th><th>Series Code</th></tr><tr><td>str</td><td>str</td><td>str</td><td>str</td></tr></thead><tbody><tr><td>&quot;Afghanistan&quot;</td><td>&quot;Asia&quot;</td><td>&quot;Diabetes prevalence (% of popu…</td><td>&quot;SH.STA.DIAB.ZS&quot;</td></tr><tr><td>&quot;Afghanistan&quot;</td><td>&quot;Asia&quot;</td><td>&quot;Diabetes prevalence (% of popu…</td><td>&quot;SH.STA.DIAB.ZS&quot;</td></tr><tr><td>&quot;Afghanistan&quot;</td><td>&quot;Asia&quot;</td><td>&quot;Diabetes prevalence (% of popu…</td><td>&quot;SH.STA.DIAB.ZS&quot;</td></tr><tr><td>&quot;Afghanistan&quot;</td><td>&quot;Asia&quot;</td><td>&quot;Diabetes prevalence (% of popu…</td><td>&quot;SH.STA.DIAB.ZS&quot;</td></tr><tr><td>&quot;Afghanistan&quot;</td><td>&quot;Asia&quot;</td><td>&quot;Diabetes prevalence (% of popu…</td><td>&quot;SH.STA.DIAB.ZS&quot;</td></tr></tbody></table></div>"
      ],
      "text/plain": [
       "shape: (5, 4)\n",
       "┌──────────────┬────────┬─────────────────────────────────┬────────────────┐\n",
       "│ Country Name ┆ Region ┆ Series Name                     ┆ Series Code    │\n",
       "│ ---          ┆ ---    ┆ ---                             ┆ ---            │\n",
       "│ str          ┆ str    ┆ str                             ┆ str            │\n",
       "╞══════════════╪════════╪═════════════════════════════════╪════════════════╡\n",
       "│ Afghanistan  ┆ Asia   ┆ Diabetes prevalence (% of popu… ┆ SH.STA.DIAB.ZS │\n",
       "│ Afghanistan  ┆ Asia   ┆ Diabetes prevalence (% of popu… ┆ SH.STA.DIAB.ZS │\n",
       "│ Afghanistan  ┆ Asia   ┆ Diabetes prevalence (% of popu… ┆ SH.STA.DIAB.ZS │\n",
       "│ Afghanistan  ┆ Asia   ┆ Diabetes prevalence (% of popu… ┆ SH.STA.DIAB.ZS │\n",
       "│ Afghanistan  ┆ Asia   ┆ Diabetes prevalence (% of popu… ┆ SH.STA.DIAB.ZS │\n",
       "└──────────────┴────────┴─────────────────────────────────┴────────────────┘"
      ]
     },
     "execution_count": 65,
     "metadata": {},
     "output_type": "execute_result"
    }
   ],
   "source": [
    "(WB_dev_ind\n",
    " .select(cs.by_dtype(pl.String))\n",
    ").head()"
   ]
  },
  {
   "cell_type": "code",
   "execution_count": 66,
   "id": "48e89841-dc66-4079-85eb-72e0090d4921",
   "metadata": {
    "scrolled": true
   },
   "outputs": [
    {
     "data": {
      "text/html": [
       "<div><style>\n",
       ".dataframe > thead > tr,\n",
       ".dataframe > tbody > tr {\n",
       "  text-align: right;\n",
       "  white-space: pre-wrap;\n",
       "}\n",
       "</style>\n",
       "<small>shape: (5, 4)</small><table border=\"1\" class=\"dataframe\"><thead><tr><th>Country Name</th><th>Region</th><th>Series Name</th><th>Series Code</th></tr><tr><td>str</td><td>str</td><td>str</td><td>str</td></tr></thead><tbody><tr><td>&quot;Afghanistan&quot;</td><td>&quot;Asia&quot;</td><td>&quot;Diabetes prevalence (% of popu…</td><td>&quot;SH.STA.DIAB.ZS&quot;</td></tr><tr><td>&quot;Afghanistan&quot;</td><td>&quot;Asia&quot;</td><td>&quot;Diabetes prevalence (% of popu…</td><td>&quot;SH.STA.DIAB.ZS&quot;</td></tr><tr><td>&quot;Afghanistan&quot;</td><td>&quot;Asia&quot;</td><td>&quot;Diabetes prevalence (% of popu…</td><td>&quot;SH.STA.DIAB.ZS&quot;</td></tr><tr><td>&quot;Afghanistan&quot;</td><td>&quot;Asia&quot;</td><td>&quot;Diabetes prevalence (% of popu…</td><td>&quot;SH.STA.DIAB.ZS&quot;</td></tr><tr><td>&quot;Afghanistan&quot;</td><td>&quot;Asia&quot;</td><td>&quot;Diabetes prevalence (% of popu…</td><td>&quot;SH.STA.DIAB.ZS&quot;</td></tr></tbody></table></div>"
      ],
      "text/plain": [
       "shape: (5, 4)\n",
       "┌──────────────┬────────┬─────────────────────────────────┬────────────────┐\n",
       "│ Country Name ┆ Region ┆ Series Name                     ┆ Series Code    │\n",
       "│ ---          ┆ ---    ┆ ---                             ┆ ---            │\n",
       "│ str          ┆ str    ┆ str                             ┆ str            │\n",
       "╞══════════════╪════════╪═════════════════════════════════╪════════════════╡\n",
       "│ Afghanistan  ┆ Asia   ┆ Diabetes prevalence (% of popu… ┆ SH.STA.DIAB.ZS │\n",
       "│ Afghanistan  ┆ Asia   ┆ Diabetes prevalence (% of popu… ┆ SH.STA.DIAB.ZS │\n",
       "│ Afghanistan  ┆ Asia   ┆ Diabetes prevalence (% of popu… ┆ SH.STA.DIAB.ZS │\n",
       "│ Afghanistan  ┆ Asia   ┆ Diabetes prevalence (% of popu… ┆ SH.STA.DIAB.ZS │\n",
       "│ Afghanistan  ┆ Asia   ┆ Diabetes prevalence (% of popu… ┆ SH.STA.DIAB.ZS │\n",
       "└──────────────┴────────┴─────────────────────────────────┴────────────────┘"
      ]
     },
     "execution_count": 66,
     "metadata": {},
     "output_type": "execute_result"
    }
   ],
   "source": [
    "(WB_dev_ind\n",
    " .select(cs.string())\n",
    ").head()"
   ]
  },
  {
   "cell_type": "markdown",
   "id": "f6c29bcc-8705-458b-8378-abdcc293d5cf",
   "metadata": {},
   "source": [
    "## Familiar string-based helpers\n",
    "\n",
    "In addition, we can use\n",
    "- `contains` to check for a sub-string,\n",
    "- `starts_with` and `ends_with` to select by prefix/suffix,\n",
    "- `matches` to capture more complicated patterns with a RegEx."
   ]
  },
  {
   "cell_type": "markdown",
   "id": "fd7009d3-59b6-4495-aa14-e28339b3f269",
   "metadata": {},
   "source": [
    "#### Example - Selecting the Series name and code using `contains`"
   ]
  },
  {
   "cell_type": "code",
   "execution_count": 67,
   "id": "8ff1cbc1-66eb-47e4-9ba2-9cd267fd32d6",
   "metadata": {},
   "outputs": [
    {
     "data": {
      "text/html": [
       "<div><style>\n",
       ".dataframe > thead > tr,\n",
       ".dataframe > tbody > tr {\n",
       "  text-align: right;\n",
       "  white-space: pre-wrap;\n",
       "}\n",
       "</style>\n",
       "<small>shape: (5, 2)</small><table border=\"1\" class=\"dataframe\"><thead><tr><th>Series Name</th><th>Series Code</th></tr><tr><td>str</td><td>str</td></tr></thead><tbody><tr><td>&quot;Diabetes prevalence (% of popu…</td><td>&quot;SH.STA.DIAB.ZS&quot;</td></tr><tr><td>&quot;Diabetes prevalence (% of popu…</td><td>&quot;SH.STA.DIAB.ZS&quot;</td></tr><tr><td>&quot;Diabetes prevalence (% of popu…</td><td>&quot;SH.STA.DIAB.ZS&quot;</td></tr><tr><td>&quot;Diabetes prevalence (% of popu…</td><td>&quot;SH.STA.DIAB.ZS&quot;</td></tr><tr><td>&quot;Diabetes prevalence (% of popu…</td><td>&quot;SH.STA.DIAB.ZS&quot;</td></tr></tbody></table></div>"
      ],
      "text/plain": [
       "shape: (5, 2)\n",
       "┌─────────────────────────────────┬────────────────┐\n",
       "│ Series Name                     ┆ Series Code    │\n",
       "│ ---                             ┆ ---            │\n",
       "│ str                             ┆ str            │\n",
       "╞═════════════════════════════════╪════════════════╡\n",
       "│ Diabetes prevalence (% of popu… ┆ SH.STA.DIAB.ZS │\n",
       "│ Diabetes prevalence (% of popu… ┆ SH.STA.DIAB.ZS │\n",
       "│ Diabetes prevalence (% of popu… ┆ SH.STA.DIAB.ZS │\n",
       "│ Diabetes prevalence (% of popu… ┆ SH.STA.DIAB.ZS │\n",
       "│ Diabetes prevalence (% of popu… ┆ SH.STA.DIAB.ZS │\n",
       "└─────────────────────────────────┴────────────────┘"
      ]
     },
     "execution_count": 67,
     "metadata": {},
     "output_type": "execute_result"
    }
   ],
   "source": [
    "(WB_dev_ind\n",
    " .select(cs.contains('Series'))\n",
    ").head()\n"
   ]
  },
  {
   "cell_type": "markdown",
   "id": "b694ccc9-5927-4c85-b5a9-ffa6f96a9386",
   "metadata": {},
   "source": [
    "#### Example - Selecting the 1990's using `starts_with`"
   ]
  },
  {
   "cell_type": "code",
   "execution_count": 68,
   "id": "97b4016e-c227-41a2-9e18-fbe17d09e324",
   "metadata": {},
   "outputs": [
    {
     "data": {
      "text/html": [
       "<div><style>\n",
       ".dataframe > thead > tr,\n",
       ".dataframe > tbody > tr {\n",
       "  text-align: right;\n",
       "  white-space: pre-wrap;\n",
       "}\n",
       "</style>\n",
       "<small>shape: (5, 10)</small><table border=\"1\" class=\"dataframe\"><thead><tr><th>1990 [YR1990]</th><th>1991 [YR1991]</th><th>1992 [YR1992]</th><th>1993 [YR1993]</th><th>1994 [YR1994]</th><th>1995 [YR1995]</th><th>1996 [YR1996]</th><th>1997 [YR1997]</th><th>1998 [YR1998]</th><th>1999 [YR1999]</th></tr><tr><td>f64</td><td>f64</td><td>f64</td><td>f64</td><td>f64</td><td>f64</td><td>f64</td><td>f64</td><td>f64</td><td>f64</td></tr></thead><tbody><tr><td>null</td><td>null</td><td>null</td><td>null</td><td>null</td><td>null</td><td>null</td><td>null</td><td>null</td><td>null</td></tr><tr><td>null</td><td>null</td><td>null</td><td>null</td><td>null</td><td>null</td><td>null</td><td>null</td><td>null</td><td>null</td></tr><tr><td>null</td><td>null</td><td>null</td><td>null</td><td>null</td><td>null</td><td>null</td><td>null</td><td>null</td><td>null</td></tr><tr><td>null</td><td>null</td><td>null</td><td>null</td><td>null</td><td>null</td><td>null</td><td>null</td><td>null</td><td>null</td></tr><tr><td>null</td><td>null</td><td>null</td><td>null</td><td>null</td><td>null</td><td>null</td><td>null</td><td>null</td><td>null</td></tr></tbody></table></div>"
      ],
      "text/plain": [
       "shape: (5, 10)\n",
       "┌───────────┬───────────┬───────────┬───────────┬───┬───────────┬───────────┬───────────┬──────────┐\n",
       "│ 1990      ┆ 1991      ┆ 1992      ┆ 1993      ┆ … ┆ 1996      ┆ 1997      ┆ 1998      ┆ 1999     │\n",
       "│ [YR1990]  ┆ [YR1991]  ┆ [YR1992]  ┆ [YR1993]  ┆   ┆ [YR1996]  ┆ [YR1997]  ┆ [YR1998]  ┆ [YR1999] │\n",
       "│ ---       ┆ ---       ┆ ---       ┆ ---       ┆   ┆ ---       ┆ ---       ┆ ---       ┆ ---      │\n",
       "│ f64       ┆ f64       ┆ f64       ┆ f64       ┆   ┆ f64       ┆ f64       ┆ f64       ┆ f64      │\n",
       "╞═══════════╪═══════════╪═══════════╪═══════════╪═══╪═══════════╪═══════════╪═══════════╪══════════╡\n",
       "│ null      ┆ null      ┆ null      ┆ null      ┆ … ┆ null      ┆ null      ┆ null      ┆ null     │\n",
       "│ null      ┆ null      ┆ null      ┆ null      ┆ … ┆ null      ┆ null      ┆ null      ┆ null     │\n",
       "│ null      ┆ null      ┆ null      ┆ null      ┆ … ┆ null      ┆ null      ┆ null      ┆ null     │\n",
       "│ null      ┆ null      ┆ null      ┆ null      ┆ … ┆ null      ┆ null      ┆ null      ┆ null     │\n",
       "│ null      ┆ null      ┆ null      ┆ null      ┆ … ┆ null      ┆ null      ┆ null      ┆ null     │\n",
       "└───────────┴───────────┴───────────┴───────────┴───┴───────────┴───────────┴───────────┴──────────┘"
      ]
     },
     "execution_count": 68,
     "metadata": {},
     "output_type": "execute_result"
    }
   ],
   "source": [
    "(WB_dev_ind\n",
    " .select(cs.starts_with('199'))\n",
    ").head()\n"
   ]
  },
  {
   "cell_type": "markdown",
   "id": "449d6611-511e-418f-8d5e-6a9e77f111a7",
   "metadata": {},
   "source": [
    "#### Example - Selecting the first five years of 1990's using `matches`"
   ]
  },
  {
   "cell_type": "code",
   "execution_count": 69,
   "id": "9569f141-1128-4a35-807c-7f576784f731",
   "metadata": {},
   "outputs": [
    {
     "data": {
      "text/html": [
       "<div><style>\n",
       ".dataframe > thead > tr,\n",
       ".dataframe > tbody > tr {\n",
       "  text-align: right;\n",
       "  white-space: pre-wrap;\n",
       "}\n",
       "</style>\n",
       "<small>shape: (5, 5)</small><table border=\"1\" class=\"dataframe\"><thead><tr><th>1990 [YR1990]</th><th>1991 [YR1991]</th><th>1992 [YR1992]</th><th>1993 [YR1993]</th><th>1994 [YR1994]</th></tr><tr><td>f64</td><td>f64</td><td>f64</td><td>f64</td><td>f64</td></tr></thead><tbody><tr><td>null</td><td>null</td><td>null</td><td>null</td><td>null</td></tr><tr><td>null</td><td>null</td><td>null</td><td>null</td><td>null</td></tr><tr><td>null</td><td>null</td><td>null</td><td>null</td><td>null</td></tr><tr><td>null</td><td>null</td><td>null</td><td>null</td><td>null</td></tr><tr><td>null</td><td>null</td><td>null</td><td>null</td><td>null</td></tr></tbody></table></div>"
      ],
      "text/plain": [
       "shape: (5, 5)\n",
       "┌───────────────┬───────────────┬───────────────┬───────────────┬───────────────┐\n",
       "│ 1990 [YR1990] ┆ 1991 [YR1991] ┆ 1992 [YR1992] ┆ 1993 [YR1993] ┆ 1994 [YR1994] │\n",
       "│ ---           ┆ ---           ┆ ---           ┆ ---           ┆ ---           │\n",
       "│ f64           ┆ f64           ┆ f64           ┆ f64           ┆ f64           │\n",
       "╞═══════════════╪═══════════════╪═══════════════╪═══════════════╪═══════════════╡\n",
       "│ null          ┆ null          ┆ null          ┆ null          ┆ null          │\n",
       "│ null          ┆ null          ┆ null          ┆ null          ┆ null          │\n",
       "│ null          ┆ null          ┆ null          ┆ null          ┆ null          │\n",
       "│ null          ┆ null          ┆ null          ┆ null          ┆ null          │\n",
       "│ null          ┆ null          ┆ null          ┆ null          ┆ null          │\n",
       "└───────────────┴───────────────┴───────────────┴───────────────┴───────────────┘"
      ]
     },
     "execution_count": 69,
     "metadata": {},
     "output_type": "execute_result"
    }
   ],
   "source": [
    "(WB_dev_ind\n",
    " .select(cs.matches(r'^199[0-4]'))\n",
    ").head()\n"
   ]
  },
  {
   "cell_type": "markdown",
   "id": "e3522998-f4cc-4af8-b84b-cb0f382f0461",
   "metadata": {},
   "source": [
    "### Combining selectors with set operations\n",
    "\n",
    "Another useful feature: Combine with set operations:\n",
    "\n",
    "- **Complement.** `~selector1`\n",
    "- **Union.** `selector1 | selector2`\n",
    "- **Intersection.** `selector1 & selector2`\n",
    "- **Difference.** `selector1 - selector2`\n",
    "- **Symmetric difference.** `selector1 ^ selector2`"
   ]
  },
  {
   "cell_type": "markdown",
   "id": "a01c2af7-84db-41be-acf7-7fac88770326",
   "metadata": {},
   "source": [
    "#### Example - All the string/index columns excluding the `Series Code`"
   ]
  },
  {
   "cell_type": "code",
   "execution_count": 70,
   "id": "e125433b-64c3-4723-9a5b-b1d9e90a7ee5",
   "metadata": {},
   "outputs": [
    {
     "data": {
      "text/html": [
       "<div><style>\n",
       ".dataframe > thead > tr,\n",
       ".dataframe > tbody > tr {\n",
       "  text-align: right;\n",
       "  white-space: pre-wrap;\n",
       "}\n",
       "</style>\n",
       "<small>shape: (5, 3)</small><table border=\"1\" class=\"dataframe\"><thead><tr><th>Country Name</th><th>Region</th><th>Series Name</th></tr><tr><td>str</td><td>str</td><td>str</td></tr></thead><tbody><tr><td>&quot;Afghanistan&quot;</td><td>&quot;Asia&quot;</td><td>&quot;Diabetes prevalence (% of popu…</td></tr><tr><td>&quot;Afghanistan&quot;</td><td>&quot;Asia&quot;</td><td>&quot;Diabetes prevalence (% of popu…</td></tr><tr><td>&quot;Afghanistan&quot;</td><td>&quot;Asia&quot;</td><td>&quot;Diabetes prevalence (% of popu…</td></tr><tr><td>&quot;Afghanistan&quot;</td><td>&quot;Asia&quot;</td><td>&quot;Diabetes prevalence (% of popu…</td></tr><tr><td>&quot;Afghanistan&quot;</td><td>&quot;Asia&quot;</td><td>&quot;Diabetes prevalence (% of popu…</td></tr></tbody></table></div>"
      ],
      "text/plain": [
       "shape: (5, 3)\n",
       "┌──────────────┬────────┬─────────────────────────────────┐\n",
       "│ Country Name ┆ Region ┆ Series Name                     │\n",
       "│ ---          ┆ ---    ┆ ---                             │\n",
       "│ str          ┆ str    ┆ str                             │\n",
       "╞══════════════╪════════╪═════════════════════════════════╡\n",
       "│ Afghanistan  ┆ Asia   ┆ Diabetes prevalence (% of popu… │\n",
       "│ Afghanistan  ┆ Asia   ┆ Diabetes prevalence (% of popu… │\n",
       "│ Afghanistan  ┆ Asia   ┆ Diabetes prevalence (% of popu… │\n",
       "│ Afghanistan  ┆ Asia   ┆ Diabetes prevalence (% of popu… │\n",
       "│ Afghanistan  ┆ Asia   ┆ Diabetes prevalence (% of popu… │\n",
       "└──────────────┴────────┴─────────────────────────────────┘"
      ]
     },
     "execution_count": 70,
     "metadata": {},
     "output_type": "execute_result"
    }
   ],
   "source": [
    "(WB_dev_ind\n",
    " .select(cs.string() - cs.contains('Code'))\n",
    ").head()\n"
   ]
  },
  {
   "cell_type": "markdown",
   "id": "573a1a83-63ba-4566-95af-903527dc4dca",
   "metadata": {},
   "source": [
    "#### Example - All index columns (minus the `Series Code`) and the `1990`s"
   ]
  },
  {
   "cell_type": "code",
   "execution_count": 71,
   "id": "5ab76126-b7b9-45cc-82a4-80b8bd666265",
   "metadata": {},
   "outputs": [
    {
     "data": {
      "text/html": [
       "<div><style>\n",
       ".dataframe > thead > tr,\n",
       ".dataframe > tbody > tr {\n",
       "  text-align: right;\n",
       "  white-space: pre-wrap;\n",
       "}\n",
       "</style>\n",
       "<small>shape: (5, 13)</small><table border=\"1\" class=\"dataframe\"><thead><tr><th>Country Name</th><th>Region</th><th>Series Name</th><th>1990 [YR1990]</th><th>1991 [YR1991]</th><th>1992 [YR1992]</th><th>1993 [YR1993]</th><th>1994 [YR1994]</th><th>1995 [YR1995]</th><th>1996 [YR1996]</th><th>1997 [YR1997]</th><th>1998 [YR1998]</th><th>1999 [YR1999]</th></tr><tr><td>str</td><td>str</td><td>str</td><td>f64</td><td>f64</td><td>f64</td><td>f64</td><td>f64</td><td>f64</td><td>f64</td><td>f64</td><td>f64</td><td>f64</td></tr></thead><tbody><tr><td>&quot;Afghanistan&quot;</td><td>&quot;Asia&quot;</td><td>&quot;Diabetes prevalence (% of popu…</td><td>null</td><td>null</td><td>null</td><td>null</td><td>null</td><td>null</td><td>null</td><td>null</td><td>null</td><td>null</td></tr><tr><td>&quot;Afghanistan&quot;</td><td>&quot;Asia&quot;</td><td>&quot;Diabetes prevalence (% of popu…</td><td>null</td><td>null</td><td>null</td><td>null</td><td>null</td><td>null</td><td>null</td><td>null</td><td>null</td><td>null</td></tr><tr><td>&quot;Afghanistan&quot;</td><td>&quot;Asia&quot;</td><td>&quot;Diabetes prevalence (% of popu…</td><td>null</td><td>null</td><td>null</td><td>null</td><td>null</td><td>null</td><td>null</td><td>null</td><td>null</td><td>null</td></tr><tr><td>&quot;Afghanistan&quot;</td><td>&quot;Asia&quot;</td><td>&quot;Diabetes prevalence (% of popu…</td><td>null</td><td>null</td><td>null</td><td>null</td><td>null</td><td>null</td><td>null</td><td>null</td><td>null</td><td>null</td></tr><tr><td>&quot;Afghanistan&quot;</td><td>&quot;Asia&quot;</td><td>&quot;Diabetes prevalence (% of popu…</td><td>null</td><td>null</td><td>null</td><td>null</td><td>null</td><td>null</td><td>null</td><td>null</td><td>null</td><td>null</td></tr></tbody></table></div>"
      ],
      "text/plain": [
       "shape: (5, 13)\n",
       "┌────────────┬────────┬────────────┬───────────┬───┬───────────┬───────────┬───────────┬───────────┐\n",
       "│ Country    ┆ Region ┆ Series     ┆ 1990      ┆ … ┆ 1996      ┆ 1997      ┆ 1998      ┆ 1999      │\n",
       "│ Name       ┆ ---    ┆ Name       ┆ [YR1990]  ┆   ┆ [YR1996]  ┆ [YR1997]  ┆ [YR1998]  ┆ [YR1999]  │\n",
       "│ ---        ┆ str    ┆ ---        ┆ ---       ┆   ┆ ---       ┆ ---       ┆ ---       ┆ ---       │\n",
       "│ str        ┆        ┆ str        ┆ f64       ┆   ┆ f64       ┆ f64       ┆ f64       ┆ f64       │\n",
       "╞════════════╪════════╪════════════╪═══════════╪═══╪═══════════╪═══════════╪═══════════╪═══════════╡\n",
       "│ Afghanista ┆ Asia   ┆ Diabetes   ┆ null      ┆ … ┆ null      ┆ null      ┆ null      ┆ null      │\n",
       "│ n          ┆        ┆ prevalence ┆           ┆   ┆           ┆           ┆           ┆           │\n",
       "│            ┆        ┆ (% of      ┆           ┆   ┆           ┆           ┆           ┆           │\n",
       "│            ┆        ┆ popu…      ┆           ┆   ┆           ┆           ┆           ┆           │\n",
       "│ Afghanista ┆ Asia   ┆ Diabetes   ┆ null      ┆ … ┆ null      ┆ null      ┆ null      ┆ null      │\n",
       "│ n          ┆        ┆ prevalence ┆           ┆   ┆           ┆           ┆           ┆           │\n",
       "│            ┆        ┆ (% of      ┆           ┆   ┆           ┆           ┆           ┆           │\n",
       "│            ┆        ┆ popu…      ┆           ┆   ┆           ┆           ┆           ┆           │\n",
       "│ Afghanista ┆ Asia   ┆ Diabetes   ┆ null      ┆ … ┆ null      ┆ null      ┆ null      ┆ null      │\n",
       "│ n          ┆        ┆ prevalence ┆           ┆   ┆           ┆           ┆           ┆           │\n",
       "│            ┆        ┆ (% of      ┆           ┆   ┆           ┆           ┆           ┆           │\n",
       "│            ┆        ┆ popu…      ┆           ┆   ┆           ┆           ┆           ┆           │\n",
       "│ Afghanista ┆ Asia   ┆ Diabetes   ┆ null      ┆ … ┆ null      ┆ null      ┆ null      ┆ null      │\n",
       "│ n          ┆        ┆ prevalence ┆           ┆   ┆           ┆           ┆           ┆           │\n",
       "│            ┆        ┆ (% of      ┆           ┆   ┆           ┆           ┆           ┆           │\n",
       "│            ┆        ┆ popu…      ┆           ┆   ┆           ┆           ┆           ┆           │\n",
       "│ Afghanista ┆ Asia   ┆ Diabetes   ┆ null      ┆ … ┆ null      ┆ null      ┆ null      ┆ null      │\n",
       "│ n          ┆        ┆ prevalence ┆           ┆   ┆           ┆           ┆           ┆           │\n",
       "│            ┆        ┆ (% of      ┆           ┆   ┆           ┆           ┆           ┆           │\n",
       "│            ┆        ┆ popu…      ┆           ┆   ┆           ┆           ┆           ┆           │\n",
       "└────────────┴────────┴────────────┴───────────┴───┴───────────┴───────────┴───────────┴───────────┘"
      ]
     },
     "execution_count": 71,
     "metadata": {},
     "output_type": "execute_result"
    }
   ],
   "source": [
    "(WB_dev_ind\n",
    " .select(cs.string() - cs.contains('Code') | cs.starts_with('199'))\n",
    ").head()\n"
   ]
  },
  {
   "cell_type": "markdown",
   "id": "7e2885cd-e0b5-4062-8767-7f2bd2594935",
   "metadata": {},
   "source": [
    "## Using column selectors to reshape tables.\n",
    "\n",
    "Another place where column selectors are useful is when reshaping tables, e.g., using `pivot` or `unpivot`."
   ]
  },
  {
   "cell_type": "markdown",
   "id": "f08376b7-6c24-44e7-9110-0ac7d90c5698",
   "metadata": {},
   "source": [
    "### Example - Making a tidy subset of the data\n",
    "\n",
    "**Goal.** Compare the urban and overall population changes across regions for each year in the `1990`s for each region.\n",
    "\n",
    "**Task 1.** Tidy up the table by reshaping, by\n",
    "1. `filter` to the measures of interest,\n",
    "1. `unpivot` the years in question, and\n",
    "2. `pivot` to measures into separate columns."
   ]
  },
  {
   "cell_type": "markdown",
   "id": "a212ab9f-5e54-400b-a309-b78071f826bd",
   "metadata": {},
   "source": [
    "#### Solution - No columns selector\n",
    "\n",
    "First, let's use comprehensions to perform the reshaping (after the filter)."
   ]
  },
  {
   "cell_type": "code",
   "execution_count": 113,
   "id": "bfd4b0a6-3b2c-4785-b1a6-4e518197fb8f",
   "metadata": {},
   "outputs": [
    {
     "data": {
      "text/plain": [
       "['1990 [YR1990]',\n",
       " '1991 [YR1991]',\n",
       " '1992 [YR1992]',\n",
       " '1993 [YR1993]',\n",
       " '1994 [YR1994]',\n",
       " '1995 [YR1995]',\n",
       " '1996 [YR1996]',\n",
       " '1997 [YR1997]',\n",
       " '1998 [YR1998]',\n",
       " '1999 [YR1999]']"
      ]
     },
     "execution_count": 113,
     "metadata": {},
     "output_type": "execute_result"
    }
   ],
   "source": [
    "(year_columns := \n",
    " [c for c in WB_dev_ind.columns if c.startswith('199')])"
   ]
  },
  {
   "cell_type": "code",
   "execution_count": 114,
   "id": "37cffb44-8133-41ca-8754-4d9c9aa0c9f8",
   "metadata": {},
   "outputs": [
    {
     "data": {
      "text/plain": [
       "['Country Name', 'Region', 'Series Name']"
      ]
     },
     "execution_count": 114,
     "metadata": {},
     "output_type": "execute_result"
    }
   ],
   "source": [
    "(string_columns :=\n",
    " [c for i, c in enumerate(WB_dev_ind.columns) if i in (0, 1, 2)])"
   ]
  },
  {
   "cell_type": "code",
   "execution_count": 115,
   "id": "6d7bf321-2e34-4002-b880-22d53c863990",
   "metadata": {},
   "outputs": [
    {
     "data": {
      "text/plain": [
       "['Country Name', 'Region']"
      ]
     },
     "execution_count": 115,
     "metadata": {},
     "output_type": "execute_result"
    }
   ],
   "source": [
    "(index_columns :=\n",
    " [c for c in string_columns if c != 'Series Name'])"
   ]
  },
  {
   "cell_type": "code",
   "execution_count": 130,
   "id": "b1e00f7b-b44b-40a7-b848-58409a272e4d",
   "metadata": {},
   "outputs": [
    {
     "data": {
      "text/html": [
       "<div><style>\n",
       ".dataframe > thead > tr,\n",
       ".dataframe > tbody > tr {\n",
       "  text-align: right;\n",
       "  white-space: pre-wrap;\n",
       "}\n",
       "</style>\n",
       "<small>shape: (2_660, 5)</small><table border=\"1\" class=\"dataframe\"><thead><tr><th>Country Name</th><th>Region</th><th>Year</th><th>Population, total</th><th>Urban population</th></tr><tr><td>str</td><td>str</td><td>str</td><td>f64</td><td>f64</td></tr></thead><tbody><tr><td>&quot;Afghanistan&quot;</td><td>&quot;Asia&quot;</td><td>&quot;1990 [YR1990]&quot;</td><td>6.4168776e7</td><td>1.3589022e7</td></tr><tr><td>&quot;Albania&quot;</td><td>&quot;Europe&quot;</td><td>&quot;1990 [YR1990]&quot;</td><td>1.9719252e7</td><td>7.183332e6</td></tr><tr><td>&quot;Algeria&quot;</td><td>&quot;Africa&quot;</td><td>&quot;1990 [YR1990]&quot;</td><td>1.53108444e8</td><td>7.9746534e7</td></tr><tr><td>&quot;American Samoa&quot;</td><td>&quot;Oceania&quot;</td><td>&quot;1990 [YR1990]&quot;</td><td>286908.0</td><td>232248.0</td></tr><tr><td>&quot;Andorra&quot;</td><td>&quot;Europe&quot;</td><td>&quot;1990 [YR1990]&quot;</td><td>321414.0</td><td>304416.0</td></tr><tr><td>&hellip;</td><td>&hellip;</td><td>&hellip;</td><td>&hellip;</td><td>&hellip;</td></tr><tr><td>&quot;Sub-Saharan Africa&quot;</td><td>null</td><td>&quot;1999 [YR1999]&quot;</td><td>6.53883261e8</td><td>2.03014745e8</td></tr><tr><td>&quot;Sub-Saharan Africa (excluding …</td><td>null</td><td>&quot;1999 [YR1999]&quot;</td><td>6.53802851e8</td><td>2.02974349e8</td></tr><tr><td>&quot;Sub-Saharan Africa (IDA &amp; IBRD…</td><td>null</td><td>&quot;1999 [YR1999]&quot;</td><td>6.53883261e8</td><td>2.03014745e8</td></tr><tr><td>&quot;Upper middle income&quot;</td><td>null</td><td>&quot;1999 [YR1999]&quot;</td><td>2.3531e9</td><td>1.1255e9</td></tr><tr><td>&quot;World&quot;</td><td>null</td><td>&quot;1999 [YR1999]&quot;</td><td>6.0623e9</td><td>2.8046e9</td></tr></tbody></table></div>"
      ],
      "text/plain": [
       "shape: (2_660, 5)\n",
       "┌─────────────────────────────────┬─────────┬───────────────┬───────────────────┬──────────────────┐\n",
       "│ Country Name                    ┆ Region  ┆ Year          ┆ Population, total ┆ Urban population │\n",
       "│ ---                             ┆ ---     ┆ ---           ┆ ---               ┆ ---              │\n",
       "│ str                             ┆ str     ┆ str           ┆ f64               ┆ f64              │\n",
       "╞═════════════════════════════════╪═════════╪═══════════════╪═══════════════════╪══════════════════╡\n",
       "│ Afghanistan                     ┆ Asia    ┆ 1990 [YR1990] ┆ 6.4168776e7       ┆ 1.3589022e7      │\n",
       "│ Albania                         ┆ Europe  ┆ 1990 [YR1990] ┆ 1.9719252e7       ┆ 7.183332e6       │\n",
       "│ Algeria                         ┆ Africa  ┆ 1990 [YR1990] ┆ 1.53108444e8      ┆ 7.9746534e7      │\n",
       "│ American Samoa                  ┆ Oceania ┆ 1990 [YR1990] ┆ 286908.0          ┆ 232248.0         │\n",
       "│ Andorra                         ┆ Europe  ┆ 1990 [YR1990] ┆ 321414.0          ┆ 304416.0         │\n",
       "│ …                               ┆ …       ┆ …             ┆ …                 ┆ …                │\n",
       "│ Sub-Saharan Africa              ┆ null    ┆ 1999 [YR1999] ┆ 6.53883261e8      ┆ 2.03014745e8     │\n",
       "│ Sub-Saharan Africa (excluding … ┆ null    ┆ 1999 [YR1999] ┆ 6.53802851e8      ┆ 2.02974349e8     │\n",
       "│ Sub-Saharan Africa (IDA & IBRD… ┆ null    ┆ 1999 [YR1999] ┆ 6.53883261e8      ┆ 2.03014745e8     │\n",
       "│ Upper middle income             ┆ null    ┆ 1999 [YR1999] ┆ 2.3531e9          ┆ 1.1255e9         │\n",
       "│ World                           ┆ null    ┆ 1999 [YR1999] ┆ 6.0623e9          ┆ 2.8046e9         │\n",
       "└─────────────────────────────────┴─────────┴───────────────┴───────────────────┴──────────────────┘"
      ]
     },
     "execution_count": 130,
     "metadata": {},
     "output_type": "execute_result"
    }
   ],
   "source": [
    "(pop_nums :=\n",
    " WB_dev_ind\n",
    " .select(cs.string() - cs.contains('Code') | cs.starts_with('199'))\n",
    " .filter(pl.col('Series Name').str.contains(r'^(Urban|Population)'))\n",
    " .unpivot(on = year_columns,\n",
    "          index= string_columns,\n",
    "          variable_name = \"Year\",\n",
    "          )\n",
    " .pivot(on = 'Series Name',\n",
    "        index = index_columns + ['Year'],  # Had to manually include the new column\n",
    "        aggregate_function='sum'\n",
    "       )\n",
    ")"
   ]
  },
  {
   "cell_type": "markdown",
   "id": "1c4ab7d9-ebb9-4eaf-8001-9778184d8f17",
   "metadata": {},
   "source": [
    "#### Solution 2 - Using columns selectors in `unpivot` and `pivot`"
   ]
  },
  {
   "cell_type": "code",
   "execution_count": 131,
   "id": "266bc664-588d-41c0-8b08-8093b67bd578",
   "metadata": {},
   "outputs": [
    {
     "data": {
      "text/html": [
       "<div><style>\n",
       ".dataframe > thead > tr,\n",
       ".dataframe > tbody > tr {\n",
       "  text-align: right;\n",
       "  white-space: pre-wrap;\n",
       "}\n",
       "</style>\n",
       "<small>shape: (2_660, 5)</small><table border=\"1\" class=\"dataframe\"><thead><tr><th>Country Name</th><th>Region</th><th>Year</th><th>Population, total</th><th>Urban population</th></tr><tr><td>str</td><td>str</td><td>str</td><td>f64</td><td>f64</td></tr></thead><tbody><tr><td>&quot;Afghanistan&quot;</td><td>&quot;Asia&quot;</td><td>&quot;1990 [YR1990]&quot;</td><td>6.4168776e7</td><td>1.3589022e7</td></tr><tr><td>&quot;Albania&quot;</td><td>&quot;Europe&quot;</td><td>&quot;1990 [YR1990]&quot;</td><td>1.9719252e7</td><td>7.183332e6</td></tr><tr><td>&quot;Algeria&quot;</td><td>&quot;Africa&quot;</td><td>&quot;1990 [YR1990]&quot;</td><td>1.53108444e8</td><td>7.9746534e7</td></tr><tr><td>&quot;American Samoa&quot;</td><td>&quot;Oceania&quot;</td><td>&quot;1990 [YR1990]&quot;</td><td>286908.0</td><td>232248.0</td></tr><tr><td>&quot;Andorra&quot;</td><td>&quot;Europe&quot;</td><td>&quot;1990 [YR1990]&quot;</td><td>321414.0</td><td>304416.0</td></tr><tr><td>&hellip;</td><td>&hellip;</td><td>&hellip;</td><td>&hellip;</td><td>&hellip;</td></tr><tr><td>&quot;Sub-Saharan Africa&quot;</td><td>null</td><td>&quot;1999 [YR1999]&quot;</td><td>6.53883261e8</td><td>2.03014745e8</td></tr><tr><td>&quot;Sub-Saharan Africa (excluding …</td><td>null</td><td>&quot;1999 [YR1999]&quot;</td><td>6.53802851e8</td><td>2.02974349e8</td></tr><tr><td>&quot;Sub-Saharan Africa (IDA &amp; IBRD…</td><td>null</td><td>&quot;1999 [YR1999]&quot;</td><td>6.53883261e8</td><td>2.03014745e8</td></tr><tr><td>&quot;Upper middle income&quot;</td><td>null</td><td>&quot;1999 [YR1999]&quot;</td><td>2.3531e9</td><td>1.1255e9</td></tr><tr><td>&quot;World&quot;</td><td>null</td><td>&quot;1999 [YR1999]&quot;</td><td>6.0623e9</td><td>2.8046e9</td></tr></tbody></table></div>"
      ],
      "text/plain": [
       "shape: (2_660, 5)\n",
       "┌─────────────────────────────────┬─────────┬───────────────┬───────────────────┬──────────────────┐\n",
       "│ Country Name                    ┆ Region  ┆ Year          ┆ Population, total ┆ Urban population │\n",
       "│ ---                             ┆ ---     ┆ ---           ┆ ---               ┆ ---              │\n",
       "│ str                             ┆ str     ┆ str           ┆ f64               ┆ f64              │\n",
       "╞═════════════════════════════════╪═════════╪═══════════════╪═══════════════════╪══════════════════╡\n",
       "│ Afghanistan                     ┆ Asia    ┆ 1990 [YR1990] ┆ 6.4168776e7       ┆ 1.3589022e7      │\n",
       "│ Albania                         ┆ Europe  ┆ 1990 [YR1990] ┆ 1.9719252e7       ┆ 7.183332e6       │\n",
       "│ Algeria                         ┆ Africa  ┆ 1990 [YR1990] ┆ 1.53108444e8      ┆ 7.9746534e7      │\n",
       "│ American Samoa                  ┆ Oceania ┆ 1990 [YR1990] ┆ 286908.0          ┆ 232248.0         │\n",
       "│ Andorra                         ┆ Europe  ┆ 1990 [YR1990] ┆ 321414.0          ┆ 304416.0         │\n",
       "│ …                               ┆ …       ┆ …             ┆ …                 ┆ …                │\n",
       "│ Sub-Saharan Africa              ┆ null    ┆ 1999 [YR1999] ┆ 6.53883261e8      ┆ 2.03014745e8     │\n",
       "│ Sub-Saharan Africa (excluding … ┆ null    ┆ 1999 [YR1999] ┆ 6.53802851e8      ┆ 2.02974349e8     │\n",
       "│ Sub-Saharan Africa (IDA & IBRD… ┆ null    ┆ 1999 [YR1999] ┆ 6.53883261e8      ┆ 2.03014745e8     │\n",
       "│ Upper middle income             ┆ null    ┆ 1999 [YR1999] ┆ 2.3531e9          ┆ 1.1255e9         │\n",
       "│ World                           ┆ null    ┆ 1999 [YR1999] ┆ 6.0623e9          ┆ 2.8046e9         │\n",
       "└─────────────────────────────────┴─────────┴───────────────┴───────────────────┴──────────────────┘"
      ]
     },
     "execution_count": 131,
     "metadata": {},
     "output_type": "execute_result"
    }
   ],
   "source": [
    "(pop_nums :=\n",
    " WB_dev_ind\n",
    " .select(cs.string() - cs.contains('Code') | cs.starts_with('199'))\n",
    " .filter(pl.col('Series Name').str.contains(r'^(Urban|Population)'))\n",
    " .unpivot(on = cs.starts_with('199'),\n",
    "          index= cs.string(),\n",
    "          variable_name = \"Year\",\n",
    "          )\n",
    " .pivot(on = 'Series Name',\n",
    "        index = cs.string() - cs.by_name('Series Name'),  # Column selectors captured the new column!\n",
    "        aggregate_function='sum'\n",
    "       )\n",
    ")"
   ]
  },
  {
   "cell_type": "markdown",
   "id": "2dc23ecb-d21b-4360-9b14-dc8cb0598dba",
   "metadata": {},
   "source": [
    "## Using columns selectors to group and aggregate.\n",
    "\n",
    "Aggregation also benefits from columns selectors, both for\n",
    "1. `group_by` multiple columns, as well as\n",
    "2. Performing multiple `agg`regations."
   ]
  },
  {
   "cell_type": "markdown",
   "id": "f66a3bb1-43af-47d0-87cd-57bfe0af9251",
   "metadata": {},
   "source": [
    "### Example - Compute the regional population totals."
   ]
  },
  {
   "cell_type": "markdown",
   "id": "00f10d62-868b-42ee-804e-2ee879a1275d",
   "metadata": {},
   "source": [
    "#### Solution 1 - Without column selectors"
   ]
  },
  {
   "cell_type": "code",
   "execution_count": 90,
   "id": "ce8904b1-8560-486d-a83a-32a52e5989e3",
   "metadata": {},
   "outputs": [
    {
     "data": {
      "text/html": [
       "<div><style>\n",
       ".dataframe > thead > tr,\n",
       ".dataframe > tbody > tr {\n",
       "  text-align: right;\n",
       "  white-space: pre-wrap;\n",
       "}\n",
       "</style>\n",
       "<small>shape: (60, 4)</small><table border=\"1\" class=\"dataframe\"><thead><tr><th>Region</th><th>Year</th><th>Population, total</th><th>Urban population</th></tr><tr><td>str</td><td>str</td><td>f64</td><td>f64</td></tr></thead><tbody><tr><td>&quot;Asia&quot;</td><td>&quot;1998 [YR1998]&quot;</td><td>1.9675e10</td><td>6.7835e9</td></tr><tr><td>&quot;Asia&quot;</td><td>&quot;1997 [YR1997]&quot;</td><td>1.9393e10</td><td>6.5832e9</td></tr><tr><td>&quot;Africa&quot;</td><td>&quot;1998 [YR1998]&quot;</td><td>4.6636e9</td><td>1.6007e9</td></tr><tr><td>&quot;Oceania&quot;</td><td>&quot;1992 [YR1992]&quot;</td><td>1.6516122e8</td><td>1.16916756e8</td></tr><tr><td>&quot;Europe&quot;</td><td>&quot;1999 [YR1999]&quot;</td><td>4.2982e9</td><td>3.0452e9</td></tr><tr><td>&hellip;</td><td>&hellip;</td><td>&hellip;</td><td>&hellip;</td></tr><tr><td>&quot;Asia&quot;</td><td>&quot;1999 [YR1999]&quot;</td><td>1.9950e10</td><td>6.9842e9</td></tr><tr><td>&quot;The Americas&quot;</td><td>&quot;1998 [YR1998]&quot;</td><td>4.8727e9</td><td>3.7050e9</td></tr><tr><td>&quot;Asia&quot;</td><td>&quot;1992 [YR1992]&quot;</td><td>1.7941e10</td><td>5.6267e9</td></tr><tr><td>&quot;Middle East&quot;</td><td>&quot;1992 [YR1992]&quot;</td><td>8.52674184e8</td><td>5.1825078e8</td></tr><tr><td>&quot;Asia&quot;</td><td>&quot;1993 [YR1993]&quot;</td><td>1.8236e10</td><td>5.8109e9</td></tr></tbody></table></div>"
      ],
      "text/plain": [
       "shape: (60, 4)\n",
       "┌──────────────┬───────────────┬───────────────────┬──────────────────┐\n",
       "│ Region       ┆ Year          ┆ Population, total ┆ Urban population │\n",
       "│ ---          ┆ ---           ┆ ---               ┆ ---              │\n",
       "│ str          ┆ str           ┆ f64               ┆ f64              │\n",
       "╞══════════════╪═══════════════╪═══════════════════╪══════════════════╡\n",
       "│ Asia         ┆ 1998 [YR1998] ┆ 1.9675e10         ┆ 6.7835e9         │\n",
       "│ Asia         ┆ 1997 [YR1997] ┆ 1.9393e10         ┆ 6.5832e9         │\n",
       "│ Africa       ┆ 1998 [YR1998] ┆ 4.6636e9          ┆ 1.6007e9         │\n",
       "│ Oceania      ┆ 1992 [YR1992] ┆ 1.6516122e8       ┆ 1.16916756e8     │\n",
       "│ Europe       ┆ 1999 [YR1999] ┆ 4.2982e9          ┆ 3.0452e9         │\n",
       "│ …            ┆ …             ┆ …                 ┆ …                │\n",
       "│ Asia         ┆ 1999 [YR1999] ┆ 1.9950e10         ┆ 6.9842e9         │\n",
       "│ The Americas ┆ 1998 [YR1998] ┆ 4.8727e9          ┆ 3.7050e9         │\n",
       "│ Asia         ┆ 1992 [YR1992] ┆ 1.7941e10         ┆ 5.6267e9         │\n",
       "│ Middle East  ┆ 1992 [YR1992] ┆ 8.52674184e8      ┆ 5.1825078e8      │\n",
       "│ Asia         ┆ 1993 [YR1993] ┆ 1.8236e10         ┆ 5.8109e9         │\n",
       "└──────────────┴───────────────┴───────────────────┴──────────────────┘"
      ]
     },
     "execution_count": 90,
     "metadata": {},
     "output_type": "execute_result"
    }
   ],
   "source": [
    "(pop_nums\n",
    " .filter(pl.col('Region').is_not_null())\n",
    " .group_by('Region', 'Year')\n",
    " .agg(pl.col('Population, total').sum(),\n",
    "      pl.col('Urban population').sum(),\n",
    "     )\n",
    ")"
   ]
  },
  {
   "cell_type": "markdown",
   "id": "188fe54b-9e10-4e10-ad72-57e8bf69ffee",
   "metadata": {},
   "source": [
    "#### Solution 2 - With column selectors"
   ]
  },
  {
   "cell_type": "code",
   "execution_count": 132,
   "id": "96a320a4-6065-4616-b411-30b9b041ef7c",
   "metadata": {},
   "outputs": [
    {
     "data": {
      "text/html": [
       "<div><style>\n",
       ".dataframe > thead > tr,\n",
       ".dataframe > tbody > tr {\n",
       "  text-align: right;\n",
       "  white-space: pre-wrap;\n",
       "}\n",
       "</style>\n",
       "<small>shape: (60, 4)</small><table border=\"1\" class=\"dataframe\"><thead><tr><th>Region</th><th>Year</th><th>Population, total</th><th>Urban population</th></tr><tr><td>str</td><td>str</td><td>f64</td><td>f64</td></tr></thead><tbody><tr><td>&quot;The Americas&quot;</td><td>&quot;1992 [YR1992]&quot;</td><td>4.4579e9</td><td>3.2733e9</td></tr><tr><td>&quot;Oceania&quot;</td><td>&quot;1993 [YR1993]&quot;</td><td>1.67485644e8</td><td>1.18040172e8</td></tr><tr><td>&quot;Middle East&quot;</td><td>&quot;1993 [YR1993]&quot;</td><td>8.73521784e8</td><td>5.35684674e8</td></tr><tr><td>&quot;Asia&quot;</td><td>&quot;1999 [YR1999]&quot;</td><td>1.9950e10</td><td>6.9842e9</td></tr><tr><td>&quot;The Americas&quot;</td><td>&quot;1994 [YR1994]&quot;</td><td>4.5989e9</td><td>3.4174e9</td></tr><tr><td>&hellip;</td><td>&hellip;</td><td>&hellip;</td><td>&hellip;</td></tr><tr><td>&quot;The Americas&quot;</td><td>&quot;1990 [YR1990]&quot;</td><td>4.3141e9</td><td>3.1286e9</td></tr><tr><td>&quot;The Americas&quot;</td><td>&quot;1999 [YR1999]&quot;</td><td>4.9395e9</td><td>3.7764e9</td></tr><tr><td>&quot;Africa&quot;</td><td>&quot;1998 [YR1998]&quot;</td><td>4.6636e9</td><td>1.6007e9</td></tr><tr><td>&quot;Middle East&quot;</td><td>&quot;1994 [YR1994]&quot;</td><td>8.93041194e8</td><td>5.5203258e8</td></tr><tr><td>&quot;The Americas&quot;</td><td>&quot;1995 [YR1995]&quot;</td><td>4.6681e9</td><td>3.4893e9</td></tr></tbody></table></div>"
      ],
      "text/plain": [
       "shape: (60, 4)\n",
       "┌──────────────┬───────────────┬───────────────────┬──────────────────┐\n",
       "│ Region       ┆ Year          ┆ Population, total ┆ Urban population │\n",
       "│ ---          ┆ ---           ┆ ---               ┆ ---              │\n",
       "│ str          ┆ str           ┆ f64               ┆ f64              │\n",
       "╞══════════════╪═══════════════╪═══════════════════╪══════════════════╡\n",
       "│ The Americas ┆ 1992 [YR1992] ┆ 4.4579e9          ┆ 3.2733e9         │\n",
       "│ Oceania      ┆ 1993 [YR1993] ┆ 1.67485644e8      ┆ 1.18040172e8     │\n",
       "│ Middle East  ┆ 1993 [YR1993] ┆ 8.73521784e8      ┆ 5.35684674e8     │\n",
       "│ Asia         ┆ 1999 [YR1999] ┆ 1.9950e10         ┆ 6.9842e9         │\n",
       "│ The Americas ┆ 1994 [YR1994] ┆ 4.5989e9          ┆ 3.4174e9         │\n",
       "│ …            ┆ …             ┆ …                 ┆ …                │\n",
       "│ The Americas ┆ 1990 [YR1990] ┆ 4.3141e9          ┆ 3.1286e9         │\n",
       "│ The Americas ┆ 1999 [YR1999] ┆ 4.9395e9          ┆ 3.7764e9         │\n",
       "│ Africa       ┆ 1998 [YR1998] ┆ 4.6636e9          ┆ 1.6007e9         │\n",
       "│ Middle East  ┆ 1994 [YR1994] ┆ 8.93041194e8      ┆ 5.5203258e8      │\n",
       "│ The Americas ┆ 1995 [YR1995] ┆ 4.6681e9          ┆ 3.4893e9         │\n",
       "└──────────────┴───────────────┴───────────────────┴──────────────────┘"
      ]
     },
     "execution_count": 132,
     "metadata": {},
     "output_type": "execute_result"
    }
   ],
   "source": [
    "(pop_nums_by_region_and_year :=\n",
    " pop_nums\n",
    " .drop(cs.starts_with('C'))\n",
    " .filter(pl.col('Region').is_not_null())\n",
    " .group_by(cs.string())\n",
    " .agg(cs.float().sum())\n",
    ")"
   ]
  },
  {
   "cell_type": "markdown",
   "id": "c61e0b1e-a3f8-4073-8cb1-1eb6757bdfbb",
   "metadata": {},
   "source": [
    "## Cleaning up multiple column transformations\n",
    "\n",
    "Finally, we can use column selectors to perform the same computation to multiple columns simultaneously."
   ]
  },
  {
   "cell_type": "markdown",
   "id": "9c8d9e43-3294-4f33-9ec2-d6245daf9843",
   "metadata": {},
   "source": [
    "### Example - Converting the population totals to per 1000 people. "
   ]
  },
  {
   "cell_type": "markdown",
   "id": "d240e950-8516-4a96-9c5f-97a03d5d6f12",
   "metadata": {},
   "source": [
    "#### Solution 1 - Without column selectors"
   ]
  },
  {
   "cell_type": "code",
   "execution_count": 133,
   "id": "fa105695-8ea4-43c3-b23d-5103005a159d",
   "metadata": {},
   "outputs": [
    {
     "data": {
      "text/html": [
       "<div><style>\n",
       ".dataframe > thead > tr,\n",
       ".dataframe > tbody > tr {\n",
       "  text-align: right;\n",
       "  white-space: pre-wrap;\n",
       "}\n",
       "</style>\n",
       "<small>shape: (60, 4)</small><table border=\"1\" class=\"dataframe\"><thead><tr><th>Region</th><th>Year</th><th>Population, total</th><th>Urban population</th></tr><tr><td>str</td><td>str</td><td>f64</td><td>f64</td></tr></thead><tbody><tr><td>&quot;The Americas&quot;</td><td>&quot;1992 [YR1992]&quot;</td><td>4.4579e6</td><td>3.2733e6</td></tr><tr><td>&quot;Oceania&quot;</td><td>&quot;1993 [YR1993]&quot;</td><td>167485.644</td><td>118040.172</td></tr><tr><td>&quot;Middle East&quot;</td><td>&quot;1993 [YR1993]&quot;</td><td>873521.784</td><td>535684.674</td></tr><tr><td>&quot;Asia&quot;</td><td>&quot;1999 [YR1999]&quot;</td><td>1.9950e7</td><td>6.9842e6</td></tr><tr><td>&quot;The Americas&quot;</td><td>&quot;1994 [YR1994]&quot;</td><td>4.5989e6</td><td>3.4174e6</td></tr><tr><td>&hellip;</td><td>&hellip;</td><td>&hellip;</td><td>&hellip;</td></tr><tr><td>&quot;The Americas&quot;</td><td>&quot;1990 [YR1990]&quot;</td><td>4.3141e6</td><td>3.1286e6</td></tr><tr><td>&quot;The Americas&quot;</td><td>&quot;1999 [YR1999]&quot;</td><td>4.9395e6</td><td>3.7764e6</td></tr><tr><td>&quot;Africa&quot;</td><td>&quot;1998 [YR1998]&quot;</td><td>4.6636e6</td><td>1.6007e6</td></tr><tr><td>&quot;Middle East&quot;</td><td>&quot;1994 [YR1994]&quot;</td><td>893041.194</td><td>552032.58</td></tr><tr><td>&quot;The Americas&quot;</td><td>&quot;1995 [YR1995]&quot;</td><td>4.6681e6</td><td>3.4893e6</td></tr></tbody></table></div>"
      ],
      "text/plain": [
       "shape: (60, 4)\n",
       "┌──────────────┬───────────────┬───────────────────┬──────────────────┐\n",
       "│ Region       ┆ Year          ┆ Population, total ┆ Urban population │\n",
       "│ ---          ┆ ---           ┆ ---               ┆ ---              │\n",
       "│ str          ┆ str           ┆ f64               ┆ f64              │\n",
       "╞══════════════╪═══════════════╪═══════════════════╪══════════════════╡\n",
       "│ The Americas ┆ 1992 [YR1992] ┆ 4.4579e6          ┆ 3.2733e6         │\n",
       "│ Oceania      ┆ 1993 [YR1993] ┆ 167485.644        ┆ 118040.172       │\n",
       "│ Middle East  ┆ 1993 [YR1993] ┆ 873521.784        ┆ 535684.674       │\n",
       "│ Asia         ┆ 1999 [YR1999] ┆ 1.9950e7          ┆ 6.9842e6         │\n",
       "│ The Americas ┆ 1994 [YR1994] ┆ 4.5989e6          ┆ 3.4174e6         │\n",
       "│ …            ┆ …             ┆ …                 ┆ …                │\n",
       "│ The Americas ┆ 1990 [YR1990] ┆ 4.3141e6          ┆ 3.1286e6         │\n",
       "│ The Americas ┆ 1999 [YR1999] ┆ 4.9395e6          ┆ 3.7764e6         │\n",
       "│ Africa       ┆ 1998 [YR1998] ┆ 4.6636e6          ┆ 1.6007e6         │\n",
       "│ Middle East  ┆ 1994 [YR1994] ┆ 893041.194        ┆ 552032.58        │\n",
       "│ The Americas ┆ 1995 [YR1995] ┆ 4.6681e6          ┆ 3.4893e6         │\n",
       "└──────────────┴───────────────┴───────────────────┴──────────────────┘"
      ]
     },
     "execution_count": 133,
     "metadata": {},
     "output_type": "execute_result"
    }
   ],
   "source": [
    "(pop_per_1K_by_region_and_year :=\n",
    " pop_nums_by_region_and_year\n",
    " .with_columns(pl.col('Population, total')/1000, \n",
    "               pl.col('Urban population')/1000,\n",
    "              )\n",
    ")"
   ]
  },
  {
   "cell_type": "markdown",
   "id": "a0d05a08-0578-45b6-8b1a-6ea8f73b71b8",
   "metadata": {},
   "source": [
    "#### Solution 2 - With column selectors"
   ]
  },
  {
   "cell_type": "code",
   "execution_count": 134,
   "id": "58bf42f7-2517-42d6-aff2-c959e3037dd9",
   "metadata": {},
   "outputs": [
    {
     "data": {
      "text/html": [
       "<div><style>\n",
       ".dataframe > thead > tr,\n",
       ".dataframe > tbody > tr {\n",
       "  text-align: right;\n",
       "  white-space: pre-wrap;\n",
       "}\n",
       "</style>\n",
       "<small>shape: (60, 4)</small><table border=\"1\" class=\"dataframe\"><thead><tr><th>Region</th><th>Year</th><th>Population, total</th><th>Urban population</th></tr><tr><td>str</td><td>str</td><td>f64</td><td>f64</td></tr></thead><tbody><tr><td>&quot;The Americas&quot;</td><td>&quot;1992 [YR1992]&quot;</td><td>4.4579e6</td><td>3.2733e6</td></tr><tr><td>&quot;Oceania&quot;</td><td>&quot;1993 [YR1993]&quot;</td><td>167485.644</td><td>118040.172</td></tr><tr><td>&quot;Middle East&quot;</td><td>&quot;1993 [YR1993]&quot;</td><td>873521.784</td><td>535684.674</td></tr><tr><td>&quot;Asia&quot;</td><td>&quot;1999 [YR1999]&quot;</td><td>1.9950e7</td><td>6.9842e6</td></tr><tr><td>&quot;The Americas&quot;</td><td>&quot;1994 [YR1994]&quot;</td><td>4.5989e6</td><td>3.4174e6</td></tr><tr><td>&hellip;</td><td>&hellip;</td><td>&hellip;</td><td>&hellip;</td></tr><tr><td>&quot;The Americas&quot;</td><td>&quot;1990 [YR1990]&quot;</td><td>4.3141e6</td><td>3.1286e6</td></tr><tr><td>&quot;The Americas&quot;</td><td>&quot;1999 [YR1999]&quot;</td><td>4.9395e6</td><td>3.7764e6</td></tr><tr><td>&quot;Africa&quot;</td><td>&quot;1998 [YR1998]&quot;</td><td>4.6636e6</td><td>1.6007e6</td></tr><tr><td>&quot;Middle East&quot;</td><td>&quot;1994 [YR1994]&quot;</td><td>893041.194</td><td>552032.58</td></tr><tr><td>&quot;The Americas&quot;</td><td>&quot;1995 [YR1995]&quot;</td><td>4.6681e6</td><td>3.4893e6</td></tr></tbody></table></div>"
      ],
      "text/plain": [
       "shape: (60, 4)\n",
       "┌──────────────┬───────────────┬───────────────────┬──────────────────┐\n",
       "│ Region       ┆ Year          ┆ Population, total ┆ Urban population │\n",
       "│ ---          ┆ ---           ┆ ---               ┆ ---              │\n",
       "│ str          ┆ str           ┆ f64               ┆ f64              │\n",
       "╞══════════════╪═══════════════╪═══════════════════╪══════════════════╡\n",
       "│ The Americas ┆ 1992 [YR1992] ┆ 4.4579e6          ┆ 3.2733e6         │\n",
       "│ Oceania      ┆ 1993 [YR1993] ┆ 167485.644        ┆ 118040.172       │\n",
       "│ Middle East  ┆ 1993 [YR1993] ┆ 873521.784        ┆ 535684.674       │\n",
       "│ Asia         ┆ 1999 [YR1999] ┆ 1.9950e7          ┆ 6.9842e6         │\n",
       "│ The Americas ┆ 1994 [YR1994] ┆ 4.5989e6          ┆ 3.4174e6         │\n",
       "│ …            ┆ …             ┆ …                 ┆ …                │\n",
       "│ The Americas ┆ 1990 [YR1990] ┆ 4.3141e6          ┆ 3.1286e6         │\n",
       "│ The Americas ┆ 1999 [YR1999] ┆ 4.9395e6          ┆ 3.7764e6         │\n",
       "│ Africa       ┆ 1998 [YR1998] ┆ 4.6636e6          ┆ 1.6007e6         │\n",
       "│ Middle East  ┆ 1994 [YR1994] ┆ 893041.194        ┆ 552032.58        │\n",
       "│ The Americas ┆ 1995 [YR1995] ┆ 4.6681e6          ┆ 3.4893e6         │\n",
       "└──────────────┴───────────────┴───────────────────┴──────────────────┘"
      ]
     },
     "execution_count": 134,
     "metadata": {},
     "output_type": "execute_result"
    }
   ],
   "source": [
    "(pop_per_1K_by_region_and_year :=\n",
    " pop_nums_by_region_and_year\n",
    " .with_columns(cs.float()/1000)\n",
    ")"
   ]
  },
  {
   "cell_type": "markdown",
   "id": "cbfb2d70-a943-42cb-a24f-30fc38d3cd42",
   "metadata": {},
   "source": [
    "### Example - Standardize multiple columns"
   ]
  },
  {
   "cell_type": "markdown",
   "id": "a7c229ae-e84d-4d1d-9048-6a73a8d7bc3d",
   "metadata": {},
   "source": [
    "#### Solution 1 - Without column selectors"
   ]
  },
  {
   "cell_type": "code",
   "execution_count": 135,
   "id": "a63068fb-099f-46b7-81ec-457595f14b6f",
   "metadata": {},
   "outputs": [
    {
     "data": {
      "text/html": [
       "<div><style>\n",
       ".dataframe > thead > tr,\n",
       ".dataframe > tbody > tr {\n",
       "  text-align: right;\n",
       "  white-space: pre-wrap;\n",
       "}\n",
       "</style>\n",
       "<small>shape: (60, 4)</small><table border=\"1\" class=\"dataframe\"><thead><tr><th>Region</th><th>Year</th><th>Population, total</th><th>Urban population</th></tr><tr><td>str</td><td>str</td><td>f64</td><td>f64</td></tr></thead><tbody><tr><td>&quot;The Americas&quot;</td><td>&quot;1992 [YR1992]&quot;</td><td>-0.166381</td><td>0.400455</td></tr><tr><td>&quot;Oceania&quot;</td><td>&quot;1993 [YR1993]&quot;</td><td>-0.857565</td><td>-1.128629</td></tr><tr><td>&quot;Middle East&quot;</td><td>&quot;1993 [YR1993]&quot;</td><td>-0.743824</td><td>-0.926231</td></tr><tr><td>&quot;Asia&quot;</td><td>&quot;1999 [YR1999]&quot;</td><td>2.329283</td><td>2.198809</td></tr><tr><td>&quot;The Americas&quot;</td><td>&quot;1994 [YR1994]&quot;</td><td>-0.143674</td><td>0.470314</td></tr><tr><td>&hellip;</td><td>&hellip;</td><td>&hellip;</td><td>&hellip;</td></tr><tr><td>&quot;The Americas&quot;</td><td>&quot;1990 [YR1990]&quot;</td><td>-0.18956</td><td>0.330323</td></tr><tr><td>&quot;The Americas&quot;</td><td>&quot;1999 [YR1999]&quot;</td><td>-0.088801</td><td>0.644295</td></tr><tr><td>&quot;Africa&quot;</td><td>&quot;1998 [YR1998]&quot;</td><td>-0.133249</td><td>-0.410126</td></tr><tr><td>&quot;Middle East&quot;</td><td>&quot;1994 [YR1994]&quot;</td><td>-0.74068</td><td>-0.918309</td></tr><tr><td>&quot;The Americas&quot;</td><td>&quot;1995 [YR1995]&quot;</td><td>-0.132533</td><td>0.505142</td></tr></tbody></table></div>"
      ],
      "text/plain": [
       "shape: (60, 4)\n",
       "┌──────────────┬───────────────┬───────────────────┬──────────────────┐\n",
       "│ Region       ┆ Year          ┆ Population, total ┆ Urban population │\n",
       "│ ---          ┆ ---           ┆ ---               ┆ ---              │\n",
       "│ str          ┆ str           ┆ f64               ┆ f64              │\n",
       "╞══════════════╪═══════════════╪═══════════════════╪══════════════════╡\n",
       "│ The Americas ┆ 1992 [YR1992] ┆ -0.166381         ┆ 0.400455         │\n",
       "│ Oceania      ┆ 1993 [YR1993] ┆ -0.857565         ┆ -1.128629        │\n",
       "│ Middle East  ┆ 1993 [YR1993] ┆ -0.743824         ┆ -0.926231        │\n",
       "│ Asia         ┆ 1999 [YR1999] ┆ 2.329283          ┆ 2.198809         │\n",
       "│ The Americas ┆ 1994 [YR1994] ┆ -0.143674         ┆ 0.470314         │\n",
       "│ …            ┆ …             ┆ …                 ┆ …                │\n",
       "│ The Americas ┆ 1990 [YR1990] ┆ -0.18956          ┆ 0.330323         │\n",
       "│ The Americas ┆ 1999 [YR1999] ┆ -0.088801         ┆ 0.644295         │\n",
       "│ Africa       ┆ 1998 [YR1998] ┆ -0.133249         ┆ -0.410126        │\n",
       "│ Middle East  ┆ 1994 [YR1994] ┆ -0.74068          ┆ -0.918309        │\n",
       "│ The Americas ┆ 1995 [YR1995] ┆ -0.132533         ┆ 0.505142         │\n",
       "└──────────────┴───────────────┴───────────────────┴──────────────────┘"
      ]
     },
     "execution_count": 135,
     "metadata": {},
     "output_type": "execute_result"
    }
   ],
   "source": [
    "(pop_z_scores_by_region_and_year :=\n",
    " pop_nums_by_region_and_year\n",
    " .with_columns((pl.col('Population, total') - pl.col('Population, total').mean())/pl.col('Population, total').std(), \n",
    "               (pl.col('Urban population') - pl.col('Urban population').mean())/pl.col('Urban population').std(),\n",
    "              )\n",
    ")"
   ]
  },
  {
   "cell_type": "markdown",
   "id": "ad895b5f-137b-4daf-a883-9fee9ae77437",
   "metadata": {},
   "source": [
    "#### Solution 2 - With columns selectors"
   ]
  },
  {
   "cell_type": "code",
   "execution_count": 136,
   "id": "c2b5f2a9-96b4-43cc-8310-9eaabdd7b4fd",
   "metadata": {
    "scrolled": true
   },
   "outputs": [
    {
     "data": {
      "text/html": [
       "<div><style>\n",
       ".dataframe > thead > tr,\n",
       ".dataframe > tbody > tr {\n",
       "  text-align: right;\n",
       "  white-space: pre-wrap;\n",
       "}\n",
       "</style>\n",
       "<small>shape: (60, 4)</small><table border=\"1\" class=\"dataframe\"><thead><tr><th>Region</th><th>Year</th><th>Population, total</th><th>Urban population</th></tr><tr><td>str</td><td>str</td><td>f64</td><td>f64</td></tr></thead><tbody><tr><td>&quot;The Americas&quot;</td><td>&quot;1992 [YR1992]&quot;</td><td>-0.166381</td><td>0.400455</td></tr><tr><td>&quot;Oceania&quot;</td><td>&quot;1993 [YR1993]&quot;</td><td>-0.857565</td><td>-1.128629</td></tr><tr><td>&quot;Middle East&quot;</td><td>&quot;1993 [YR1993]&quot;</td><td>-0.743824</td><td>-0.926231</td></tr><tr><td>&quot;Asia&quot;</td><td>&quot;1999 [YR1999]&quot;</td><td>2.329283</td><td>2.198809</td></tr><tr><td>&quot;The Americas&quot;</td><td>&quot;1994 [YR1994]&quot;</td><td>-0.143674</td><td>0.470314</td></tr><tr><td>&hellip;</td><td>&hellip;</td><td>&hellip;</td><td>&hellip;</td></tr><tr><td>&quot;The Americas&quot;</td><td>&quot;1990 [YR1990]&quot;</td><td>-0.18956</td><td>0.330323</td></tr><tr><td>&quot;The Americas&quot;</td><td>&quot;1999 [YR1999]&quot;</td><td>-0.088801</td><td>0.644295</td></tr><tr><td>&quot;Africa&quot;</td><td>&quot;1998 [YR1998]&quot;</td><td>-0.133249</td><td>-0.410126</td></tr><tr><td>&quot;Middle East&quot;</td><td>&quot;1994 [YR1994]&quot;</td><td>-0.74068</td><td>-0.918309</td></tr><tr><td>&quot;The Americas&quot;</td><td>&quot;1995 [YR1995]&quot;</td><td>-0.132533</td><td>0.505142</td></tr></tbody></table></div>"
      ],
      "text/plain": [
       "shape: (60, 4)\n",
       "┌──────────────┬───────────────┬───────────────────┬──────────────────┐\n",
       "│ Region       ┆ Year          ┆ Population, total ┆ Urban population │\n",
       "│ ---          ┆ ---           ┆ ---               ┆ ---              │\n",
       "│ str          ┆ str           ┆ f64               ┆ f64              │\n",
       "╞══════════════╪═══════════════╪═══════════════════╪══════════════════╡\n",
       "│ The Americas ┆ 1992 [YR1992] ┆ -0.166381         ┆ 0.400455         │\n",
       "│ Oceania      ┆ 1993 [YR1993] ┆ -0.857565         ┆ -1.128629        │\n",
       "│ Middle East  ┆ 1993 [YR1993] ┆ -0.743824         ┆ -0.926231        │\n",
       "│ Asia         ┆ 1999 [YR1999] ┆ 2.329283          ┆ 2.198809         │\n",
       "│ The Americas ┆ 1994 [YR1994] ┆ -0.143674         ┆ 0.470314         │\n",
       "│ …            ┆ …             ┆ …                 ┆ …                │\n",
       "│ The Americas ┆ 1990 [YR1990] ┆ -0.18956          ┆ 0.330323         │\n",
       "│ The Americas ┆ 1999 [YR1999] ┆ -0.088801         ┆ 0.644295         │\n",
       "│ Africa       ┆ 1998 [YR1998] ┆ -0.133249         ┆ -0.410126        │\n",
       "│ Middle East  ┆ 1994 [YR1994] ┆ -0.74068          ┆ -0.918309        │\n",
       "│ The Americas ┆ 1995 [YR1995] ┆ -0.132533         ┆ 0.505142         │\n",
       "└──────────────┴───────────────┴───────────────────┴──────────────────┘"
      ]
     },
     "execution_count": 136,
     "metadata": {},
     "output_type": "execute_result"
    }
   ],
   "source": [
    "(pop_per_1K_by_region_and_year :=\n",
    " pop_nums_by_region_and_year\n",
    " .with_columns((cs.float() - cs.float().mean())/cs.float().std())\n",
    ")"
   ]
  },
  {
   "cell_type": "markdown",
   "id": "cdb9542a-2223-44bf-9894-bc5b2eac5e58",
   "metadata": {},
   "source": [
    "### Example - Standardize multiple columns (within `Region`)"
   ]
  },
  {
   "cell_type": "markdown",
   "id": "80ba625a-e076-42e1-854e-e6958bee369a",
   "metadata": {},
   "source": [
    "#### Solution 1 - Without column selectors"
   ]
  },
  {
   "cell_type": "code",
   "execution_count": 137,
   "id": "a45b2155-9bbe-4104-b09e-ab5f8eb734f1",
   "metadata": {},
   "outputs": [
    {
     "data": {
      "text/html": [
       "<div><style>\n",
       ".dataframe > thead > tr,\n",
       ".dataframe > tbody > tr {\n",
       "  text-align: right;\n",
       "  white-space: pre-wrap;\n",
       "}\n",
       "</style>\n",
       "<small>shape: (60, 4)</small><table border=\"1\" class=\"dataframe\"><thead><tr><th>Region</th><th>Year</th><th>Population, total</th><th>Urban population</th></tr><tr><td>str</td><td>str</td><td>f64</td><td>f64</td></tr></thead><tbody><tr><td>&quot;The Americas&quot;</td><td>&quot;1992 [YR1992]&quot;</td><td>-0.821409</td><td>-0.824405</td></tr><tr><td>&quot;Oceania&quot;</td><td>&quot;1993 [YR1993]&quot;</td><td>-0.509868</td><td>-0.487318</td></tr><tr><td>&quot;Middle East&quot;</td><td>&quot;1993 [YR1993]&quot;</td><td>-0.450549</td><td>-0.463163</td></tr><tr><td>&quot;Asia&quot;</td><td>&quot;1999 [YR1999]&quot;</td><td>1.465332</td><td>1.515147</td></tr><tr><td>&quot;The Americas&quot;</td><td>&quot;1994 [YR1994]&quot;</td><td>-0.15145</td><td>-0.16302</td></tr><tr><td>&hellip;</td><td>&hellip;</td><td>&hellip;</td><td>&hellip;</td></tr><tr><td>&quot;The Americas&quot;</td><td>&quot;1990 [YR1990]&quot;</td><td>-1.505272</td><td>-1.488382</td></tr><tr><td>&quot;The Americas&quot;</td><td>&quot;1999 [YR1999]&quot;</td><td>1.467548</td><td>1.484156</td></tr><tr><td>&quot;Africa&quot;</td><td>&quot;1998 [YR1998]&quot;</td><td>1.166318</td><td>1.161915</td></tr><tr><td>&quot;Middle East&quot;</td><td>&quot;1994 [YR1994]&quot;</td><td>-0.158724</td><td>-0.161371</td></tr><tr><td>&quot;The Americas&quot;</td><td>&quot;1995 [YR1995]&quot;</td><td>0.177265</td><td>0.166721</td></tr></tbody></table></div>"
      ],
      "text/plain": [
       "shape: (60, 4)\n",
       "┌──────────────┬───────────────┬───────────────────┬──────────────────┐\n",
       "│ Region       ┆ Year          ┆ Population, total ┆ Urban population │\n",
       "│ ---          ┆ ---           ┆ ---               ┆ ---              │\n",
       "│ str          ┆ str           ┆ f64               ┆ f64              │\n",
       "╞══════════════╪═══════════════╪═══════════════════╪══════════════════╡\n",
       "│ The Americas ┆ 1992 [YR1992] ┆ -0.821409         ┆ -0.824405        │\n",
       "│ Oceania      ┆ 1993 [YR1993] ┆ -0.509868         ┆ -0.487318        │\n",
       "│ Middle East  ┆ 1993 [YR1993] ┆ -0.450549         ┆ -0.463163        │\n",
       "│ Asia         ┆ 1999 [YR1999] ┆ 1.465332          ┆ 1.515147         │\n",
       "│ The Americas ┆ 1994 [YR1994] ┆ -0.15145          ┆ -0.16302         │\n",
       "│ …            ┆ …             ┆ …                 ┆ …                │\n",
       "│ The Americas ┆ 1990 [YR1990] ┆ -1.505272         ┆ -1.488382        │\n",
       "│ The Americas ┆ 1999 [YR1999] ┆ 1.467548          ┆ 1.484156         │\n",
       "│ Africa       ┆ 1998 [YR1998] ┆ 1.166318          ┆ 1.161915         │\n",
       "│ Middle East  ┆ 1994 [YR1994] ┆ -0.158724         ┆ -0.161371        │\n",
       "│ The Americas ┆ 1995 [YR1995] ┆ 0.177265          ┆ 0.166721         │\n",
       "└──────────────┴───────────────┴───────────────────┴──────────────────┘"
      ]
     },
     "execution_count": 137,
     "metadata": {},
     "output_type": "execute_result"
    }
   ],
   "source": [
    "(pop_z_scores_by_region_and_year :=\n",
    " pop_nums_by_region_and_year\n",
    " .with_columns((pl.col('Population, total') - pl.col('Population, total').mean().over('Region'))/pl.col('Population, total').std().over('Region'), \n",
    "               (pl.col('Urban population') - pl.col('Urban population').mean().over('Region'))/pl.col('Urban population').std().over('Region'),\n",
    "              )\n",
    ")"
   ]
  },
  {
   "cell_type": "markdown",
   "id": "1e0a079e-1145-43ae-8fe6-784824e4fc6b",
   "metadata": {},
   "source": [
    "#### Solution 2 - With columns selectors"
   ]
  },
  {
   "cell_type": "code",
   "execution_count": 138,
   "id": "c74ddb51-2f54-4c46-89b2-a1c2dd48ca62",
   "metadata": {},
   "outputs": [
    {
     "data": {
      "text/html": [
       "<div><style>\n",
       ".dataframe > thead > tr,\n",
       ".dataframe > tbody > tr {\n",
       "  text-align: right;\n",
       "  white-space: pre-wrap;\n",
       "}\n",
       "</style>\n",
       "<small>shape: (60, 4)</small><table border=\"1\" class=\"dataframe\"><thead><tr><th>Region</th><th>Year</th><th>Population, total</th><th>Urban population</th></tr><tr><td>str</td><td>str</td><td>f64</td><td>f64</td></tr></thead><tbody><tr><td>&quot;The Americas&quot;</td><td>&quot;1992 [YR1992]&quot;</td><td>-0.821409</td><td>-0.824405</td></tr><tr><td>&quot;Oceania&quot;</td><td>&quot;1993 [YR1993]&quot;</td><td>-0.509868</td><td>-0.487318</td></tr><tr><td>&quot;Middle East&quot;</td><td>&quot;1993 [YR1993]&quot;</td><td>-0.450549</td><td>-0.463163</td></tr><tr><td>&quot;Asia&quot;</td><td>&quot;1999 [YR1999]&quot;</td><td>1.465332</td><td>1.515147</td></tr><tr><td>&quot;The Americas&quot;</td><td>&quot;1994 [YR1994]&quot;</td><td>-0.15145</td><td>-0.16302</td></tr><tr><td>&hellip;</td><td>&hellip;</td><td>&hellip;</td><td>&hellip;</td></tr><tr><td>&quot;The Americas&quot;</td><td>&quot;1990 [YR1990]&quot;</td><td>-1.505272</td><td>-1.488382</td></tr><tr><td>&quot;The Americas&quot;</td><td>&quot;1999 [YR1999]&quot;</td><td>1.467548</td><td>1.484156</td></tr><tr><td>&quot;Africa&quot;</td><td>&quot;1998 [YR1998]&quot;</td><td>1.166318</td><td>1.161915</td></tr><tr><td>&quot;Middle East&quot;</td><td>&quot;1994 [YR1994]&quot;</td><td>-0.158724</td><td>-0.161371</td></tr><tr><td>&quot;The Americas&quot;</td><td>&quot;1995 [YR1995]&quot;</td><td>0.177265</td><td>0.166721</td></tr></tbody></table></div>"
      ],
      "text/plain": [
       "shape: (60, 4)\n",
       "┌──────────────┬───────────────┬───────────────────┬──────────────────┐\n",
       "│ Region       ┆ Year          ┆ Population, total ┆ Urban population │\n",
       "│ ---          ┆ ---           ┆ ---               ┆ ---              │\n",
       "│ str          ┆ str           ┆ f64               ┆ f64              │\n",
       "╞══════════════╪═══════════════╪═══════════════════╪══════════════════╡\n",
       "│ The Americas ┆ 1992 [YR1992] ┆ -0.821409         ┆ -0.824405        │\n",
       "│ Oceania      ┆ 1993 [YR1993] ┆ -0.509868         ┆ -0.487318        │\n",
       "│ Middle East  ┆ 1993 [YR1993] ┆ -0.450549         ┆ -0.463163        │\n",
       "│ Asia         ┆ 1999 [YR1999] ┆ 1.465332          ┆ 1.515147         │\n",
       "│ The Americas ┆ 1994 [YR1994] ┆ -0.15145          ┆ -0.16302         │\n",
       "│ …            ┆ …             ┆ …                 ┆ …                │\n",
       "│ The Americas ┆ 1990 [YR1990] ┆ -1.505272         ┆ -1.488382        │\n",
       "│ The Americas ┆ 1999 [YR1999] ┆ 1.467548          ┆ 1.484156         │\n",
       "│ Africa       ┆ 1998 [YR1998] ┆ 1.166318          ┆ 1.161915         │\n",
       "│ Middle East  ┆ 1994 [YR1994] ┆ -0.158724         ┆ -0.161371        │\n",
       "│ The Americas ┆ 1995 [YR1995] ┆ 0.177265          ┆ 0.166721         │\n",
       "└──────────────┴───────────────┴───────────────────┴──────────────────┘"
      ]
     },
     "execution_count": 138,
     "metadata": {},
     "output_type": "execute_result"
    }
   ],
   "source": [
    "(pop_per_1K_by_region_and_year :=\n",
    " pop_nums_by_region_and_year\n",
    " .with_columns((cs.float() - cs.float().mean().over('Region'))/cs.float().std().over('Region'))\n",
    ")"
   ]
  }
 ],
 "metadata": {
  "kernelspec": {
   "display_name": "Python 3 (ipykernel)",
   "language": "python",
   "name": "python3"
  },
  "language_info": {
   "codemirror_mode": {
    "name": "ipython",
    "version": 3
   },
   "file_extension": ".py",
   "mimetype": "text/x-python",
   "name": "python",
   "nbconvert_exporter": "python",
   "pygments_lexer": "ipython3",
   "version": "3.12.7"
  }
 },
 "nbformat": 4,
 "nbformat_minor": 5
}
